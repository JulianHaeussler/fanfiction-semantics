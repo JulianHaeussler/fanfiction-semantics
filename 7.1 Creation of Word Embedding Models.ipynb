{
 "cells": [
  {
   "cell_type": "markdown",
   "id": "9354f31c",
   "metadata": {},
   "source": [
    "Documentation for the Master thesis \"Fanfiction Semantics - A Quantitative Analysis of Sensitive Topics in German Fanfiction\" by Julian Jacopo Häußler, Date of submission: September 19, 2022."
   ]
  },
  {
   "cell_type": "markdown",
   "id": "5fbd0fdf",
   "metadata": {},
   "source": [
    "# 7.1 Creation of Word Embedding Models"
   ]
  },
  {
   "cell_type": "markdown",
   "id": "672a7807",
   "metadata": {},
   "source": [
    "## Overview:\n",
    "### - load libraries and read in data\n",
    "### - preprocessing (merging, cleaning, sentence tokenizing, lemmatizing, removing punctuation, lowercasing)\n",
    "### - save corpus\n",
    "### - create and save word (token) list\n",
    "### - train and save models\n",
    "### - evaluate models\n",
    "### - summarize info\n",
    "### - test models"
   ]
  },
  {
   "cell_type": "markdown",
   "id": "a4c2228f",
   "metadata": {},
   "source": [
    "# LOAD LIBRARIES AND READ IN DATA"
   ]
  },
  {
   "cell_type": "code",
   "execution_count": 1,
   "id": "50ca2016",
   "metadata": {},
   "outputs": [],
   "source": [
    "# load libraries\n",
    "\n",
    "# read in data\n",
    "\n",
    "import glob\n",
    "import os"
   ]
  },
  {
   "cell_type": "code",
   "execution_count": 2,
   "id": "8b0fd814",
   "metadata": {},
   "outputs": [],
   "source": [
    "# preprocessing\n",
    "\n",
    "import nltk\n",
    "import pickle\n",
    "import string"
   ]
  },
  {
   "cell_type": "code",
   "execution_count": 3,
   "id": "812b4059",
   "metadata": {
    "scrolled": true
   },
   "outputs": [
    {
     "name": "stdout",
     "output_type": "stream",
     "text": [
      "Collecting de-core-news-lg==3.2.0\n",
      "  Downloading https://github.com/explosion/spacy-models/releases/download/de_core_news_lg-3.2.0/de_core_news_lg-3.2.0-py3-none-any.whl (572.3 MB)\n",
      "Requirement already satisfied: spacy<3.3.0,>=3.2.0 in c:\\users\\litlab\\anaconda3\\lib\\site-packages (from de-core-news-lg==3.2.0) (3.2.0)\n",
      "Requirement already satisfied: numpy>=1.15.0 in c:\\users\\litlab\\appdata\\roaming\\python\\python38\\site-packages (from spacy<3.3.0,>=3.2.0->de-core-news-lg==3.2.0) (1.23.2)\n",
      "Requirement already satisfied: spacy-loggers<2.0.0,>=1.0.0 in c:\\users\\litlab\\anaconda3\\lib\\site-packages (from spacy<3.3.0,>=3.2.0->de-core-news-lg==3.2.0) (1.0.1)\n",
      "Requirement already satisfied: cymem<2.1.0,>=2.0.2 in c:\\users\\litlab\\anaconda3\\lib\\site-packages (from spacy<3.3.0,>=3.2.0->de-core-news-lg==3.2.0) (2.0.5)\n",
      "Requirement already satisfied: catalogue<2.1.0,>=2.0.6 in c:\\users\\litlab\\anaconda3\\lib\\site-packages (from spacy<3.3.0,>=3.2.0->de-core-news-lg==3.2.0) (2.0.6)\n",
      "Requirement already satisfied: packaging>=20.0 in c:\\users\\litlab\\appdata\\roaming\\python\\python38\\site-packages (from spacy<3.3.0,>=3.2.0->de-core-news-lg==3.2.0) (21.3)\n",
      "Requirement already satisfied: requests<3.0.0,>=2.13.0 in c:\\users\\litlab\\anaconda3\\lib\\site-packages (from spacy<3.3.0,>=3.2.0->de-core-news-lg==3.2.0) (2.24.0)\n",
      "Requirement already satisfied: preshed<3.1.0,>=3.0.2 in c:\\users\\litlab\\anaconda3\\lib\\site-packages (from spacy<3.3.0,>=3.2.0->de-core-news-lg==3.2.0) (3.0.5)\n",
      "Requirement already satisfied: murmurhash<1.1.0,>=0.28.0 in c:\\users\\litlab\\anaconda3\\lib\\site-packages (from spacy<3.3.0,>=3.2.0->de-core-news-lg==3.2.0) (1.0.5)\n",
      "Requirement already satisfied: typer<0.5.0,>=0.3.0 in c:\\users\\litlab\\anaconda3\\lib\\site-packages (from spacy<3.3.0,>=3.2.0->de-core-news-lg==3.2.0) (0.3.2)\n",
      "Requirement already satisfied: spacy-legacy<3.1.0,>=3.0.8 in c:\\users\\litlab\\anaconda3\\lib\\site-packages (from spacy<3.3.0,>=3.2.0->de-core-news-lg==3.2.0) (3.0.8)\n",
      "Requirement already satisfied: langcodes<4.0.0,>=3.2.0 in c:\\users\\litlab\\anaconda3\\lib\\site-packages (from spacy<3.3.0,>=3.2.0->de-core-news-lg==3.2.0) (3.3.0)\n",
      "Requirement already satisfied: blis<0.8.0,>=0.4.0 in c:\\users\\litlab\\anaconda3\\lib\\site-packages (from spacy<3.3.0,>=3.2.0->de-core-news-lg==3.2.0) (0.7.4)\n",
      "Requirement already satisfied: pydantic!=1.8,!=1.8.1,<1.9.0,>=1.7.4 in c:\\users\\litlab\\anaconda3\\lib\\site-packages (from spacy<3.3.0,>=3.2.0->de-core-news-lg==3.2.0) (1.7.4)\n",
      "Requirement already satisfied: setuptools in c:\\users\\litlab\\anaconda3\\lib\\site-packages (from spacy<3.3.0,>=3.2.0->de-core-news-lg==3.2.0) (59.4.0)\n",
      "Requirement already satisfied: pathy>=0.3.5 in c:\\users\\litlab\\anaconda3\\lib\\site-packages (from spacy<3.3.0,>=3.2.0->de-core-news-lg==3.2.0) (0.5.2)\n",
      "Requirement already satisfied: thinc<8.1.0,>=8.0.12 in c:\\users\\litlab\\anaconda3\\lib\\site-packages (from spacy<3.3.0,>=3.2.0->de-core-news-lg==3.2.0) (8.0.13)\n",
      "Requirement already satisfied: jinja2 in c:\\users\\litlab\\anaconda3\\lib\\site-packages (from spacy<3.3.0,>=3.2.0->de-core-news-lg==3.2.0) (2.11.2)\n",
      "Requirement already satisfied: wasabi<1.1.0,>=0.8.1 in c:\\users\\litlab\\anaconda3\\lib\\site-packages (from spacy<3.3.0,>=3.2.0->de-core-news-lg==3.2.0) (0.8.2)\n",
      "Requirement already satisfied: srsly<3.0.0,>=2.4.1 in c:\\users\\litlab\\anaconda3\\lib\\site-packages (from spacy<3.3.0,>=3.2.0->de-core-news-lg==3.2.0) (2.4.1)\n",
      "Requirement already satisfied: tqdm<5.0.0,>=4.38.0 in c:\\users\\litlab\\anaconda3\\lib\\site-packages (from spacy<3.3.0,>=3.2.0->de-core-news-lg==3.2.0) (4.50.2)\n",
      "Requirement already satisfied: pyparsing!=3.0.5,>=2.0.2 in c:\\users\\litlab\\appdata\\roaming\\python\\python38\\site-packages (from packaging>=20.0->spacy<3.3.0,>=3.2.0->de-core-news-lg==3.2.0) (3.0.9)\n",
      "Requirement already satisfied: smart-open<4.0.0,>=2.2.0 in c:\\users\\litlab\\anaconda3\\lib\\site-packages (from pathy>=0.3.5->spacy<3.3.0,>=3.2.0->de-core-news-lg==3.2.0) (3.0.0)\n",
      "Requirement already satisfied: idna<3,>=2.5 in c:\\users\\litlab\\anaconda3\\lib\\site-packages (from requests<3.0.0,>=2.13.0->spacy<3.3.0,>=3.2.0->de-core-news-lg==3.2.0) (2.10)\n",
      "Requirement already satisfied: chardet<4,>=3.0.2 in c:\\users\\litlab\\anaconda3\\lib\\site-packages (from requests<3.0.0,>=2.13.0->spacy<3.3.0,>=3.2.0->de-core-news-lg==3.2.0) (3.0.4)\n",
      "Requirement already satisfied: certifi>=2017.4.17 in c:\\users\\litlab\\anaconda3\\lib\\site-packages (from requests<3.0.0,>=2.13.0->spacy<3.3.0,>=3.2.0->de-core-news-lg==3.2.0) (2020.6.20)\n",
      "Requirement already satisfied: urllib3!=1.25.0,!=1.25.1,<1.26,>=1.21.1 in c:\\users\\litlab\\anaconda3\\lib\\site-packages (from requests<3.0.0,>=2.13.0->spacy<3.3.0,>=3.2.0->de-core-news-lg==3.2.0) (1.25.11)\n",
      "Requirement already satisfied: click<7.2.0,>=7.1.1 in c:\\users\\litlab\\anaconda3\\lib\\site-packages (from typer<0.5.0,>=0.3.0->spacy<3.3.0,>=3.2.0->de-core-news-lg==3.2.0) (7.1.2)\n",
      "Requirement already satisfied: MarkupSafe>=0.23 in c:\\users\\litlab\\anaconda3\\lib\\site-packages (from jinja2->spacy<3.3.0,>=3.2.0->de-core-news-lg==3.2.0) (1.1.1)\n",
      "[+] Download and installation successful\n",
      "You can now load the package via spacy.load('de_core_news_lg')\n"
     ]
    },
    {
     "name": "stderr",
     "output_type": "stream",
     "text": [
      "WARNING: Ignoring invalid distribution -illow (c:\\users\\litlab\\appdata\\roaming\\python\\python38\\site-packages)\n",
      "WARNING: Ignoring invalid distribution -atplotlib (c:\\users\\litlab\\anaconda3\\lib\\site-packages)\n",
      "WARNING: Ignoring invalid distribution -illow (c:\\users\\litlab\\appdata\\roaming\\python\\python38\\site-packages)\n",
      "WARNING: Ignoring invalid distribution -atplotlib (c:\\users\\litlab\\anaconda3\\lib\\site-packages)\n",
      "WARNING: Ignoring invalid distribution -illow (c:\\users\\litlab\\appdata\\roaming\\python\\python38\\site-packages)\n",
      "WARNING: Ignoring invalid distribution -atplotlib (c:\\users\\litlab\\anaconda3\\lib\\site-packages)\n",
      "WARNING: Ignoring invalid distribution -illow (c:\\users\\litlab\\appdata\\roaming\\python\\python38\\site-packages)\n",
      "WARNING: Ignoring invalid distribution -atplotlib (c:\\users\\litlab\\anaconda3\\lib\\site-packages)\n",
      "WARNING: Ignoring invalid distribution -illow (c:\\users\\litlab\\appdata\\roaming\\python\\python38\\site-packages)\n",
      "WARNING: Ignoring invalid distribution -atplotlib (c:\\users\\litlab\\anaconda3\\lib\\site-packages)\n",
      "WARNING: Ignoring invalid distribution -illow (c:\\users\\litlab\\appdata\\roaming\\python\\python38\\site-packages)\n",
      "WARNING: Ignoring invalid distribution -atplotlib (c:\\users\\litlab\\anaconda3\\lib\\site-packages)\n",
      "WARNING: You are using pip version 21.3.1; however, version 22.2.2 is available.\n",
      "You should consider upgrading via the 'C:\\Users\\LitLab\\anaconda3\\python.exe -m pip install --upgrade pip' command.\n"
     ]
    }
   ],
   "source": [
    "# lemmatizing\n",
    "\n",
    "import spacy\n",
    "!python -m spacy download de_core_news_lg\n",
    "nlp = spacy.load('de_core_news_lg',exclude=[\"ner\"],disable=[\"tagger\",\"parser\"])"
   ]
  },
  {
   "cell_type": "code",
   "execution_count": 4,
   "id": "b377baee",
   "metadata": {},
   "outputs": [
    {
     "name": "stderr",
     "output_type": "stream",
     "text": [
      "C:\\Users\\LitLab\\anaconda3\\lib\\site-packages\\gensim\\similarities\\__init__.py:15: UserWarning: The gensim.similarities.levenshtein submodule is disabled, because the optional Levenshtein package <https://pypi.org/project/python-Levenshtein/> is unavailable. Install Levenhstein (e.g. `pip install python-Levenshtein`) to suppress this warning.\n",
      "  warnings.warn(msg)\n"
     ]
    }
   ],
   "source": [
    "# training models\n",
    "\n",
    "from gensim.models import Word2Vec"
   ]
  },
  {
   "cell_type": "code",
   "execution_count": 5,
   "id": "69f2572c",
   "metadata": {},
   "outputs": [],
   "source": [
    "# evaluation\n",
    "\n",
    "from gensim.models import KeyedVectors\n",
    "from gensim.test.utils import datapath\n",
    "import matplotlib.pyplot as plt\n",
    "import pandas as pd"
   ]
  },
  {
   "cell_type": "code",
   "execution_count": 12,
   "id": "8d8447c9",
   "metadata": {},
   "outputs": [],
   "source": [
    "# Potter\n",
    "\n",
    "fileList = glob.glob(os.path.join(os.getcwd(), r\"D:\\JH\\Masterarbeit\\2021\\Harry Potter\\Harry Potter - FFs\\Texte_txt\", \"*.txt\"))\n",
    " \n",
    "Potter2021_raw = []\n",
    "\n",
    "for file_path in fileList:\n",
    "    with open(file_path, encoding=\"utf8\") as file:\n",
    "        Potter2021_raw.append(file.read())"
   ]
  },
  {
   "cell_type": "code",
   "execution_count": 13,
   "id": "c7ac8290",
   "metadata": {},
   "outputs": [],
   "source": [
    "# Biss\n",
    "\n",
    "fileList = glob.glob(os.path.join(os.getcwd(), r\"D:\\JH\\Masterarbeit\\2021\\Bis(s)\\Texte_txt\", \"*.txt\"))\n",
    " \n",
    "Biss2021_raw = []\n",
    "\n",
    "for file_path in fileList:\n",
    "    with open(file_path, encoding=\"utf8\") as file:\n",
    "        Biss2021_raw.append(file.read())"
   ]
  },
  {
   "cell_type": "code",
   "execution_count": 14,
   "id": "e70c75df",
   "metadata": {},
   "outputs": [],
   "source": [
    "# WarriorCats\n",
    "\n",
    "fileList = glob.glob(os.path.join(os.getcwd(), r\"D:\\JH\\Masterarbeit\\2021\\Warrior Cats\\Texte_txt\", \"*.txt\"))\n",
    " \n",
    "WarriorCats2021_raw = []\n",
    "\n",
    "for file_path in fileList:\n",
    "    with open(file_path, encoding=\"utf8\") as file:\n",
    "        WarriorCats2021_raw.append(file.read())"
   ]
  },
  {
   "cell_type": "code",
   "execution_count": 15,
   "id": "8cfe632b",
   "metadata": {},
   "outputs": [],
   "source": [
    "# DFFF\n",
    "\n",
    "fileList = glob.glob(os.path.join(os.getcwd(), r\"D:\\JH\\Masterarbeit\\2021\\Die drei FFF\\Texte_txt\", \"*.txt\"))\n",
    " \n",
    "DFFF2021_raw = []\n",
    "\n",
    "for file_path in fileList:\n",
    "    with open(file_path, encoding=\"utf8\") as file:\n",
    "        DFFF2021_raw.append(file.read())"
   ]
  },
  {
   "cell_type": "code",
   "execution_count": 16,
   "id": "ccf056b6",
   "metadata": {},
   "outputs": [],
   "source": [
    "# Mittelerde\n",
    "\n",
    "fileList = glob.glob(os.path.join(os.getcwd(), r\"D:\\JH\\Masterarbeit\\2021\\J.R.R. Tolkien\\Mittelerde\\Texte_txt\", \"*.txt\"))\n",
    " \n",
    "Mittelerde2021_raw = []\n",
    "\n",
    "for file_path in fileList:\n",
    "    with open(file_path, encoding=\"utf8\") as file:\n",
    "           Mittelerde2021_raw.append(file.read())"
   ]
  },
  {
   "cell_type": "code",
   "execution_count": 17,
   "id": "fac822ac",
   "metadata": {},
   "outputs": [],
   "source": [
    "# Jackson\n",
    "\n",
    "fileList = glob.glob(os.path.join(os.getcwd(), r\"D:\\JH\\Masterarbeit\\2021\\Rick Riordan\\Percy Jackson\\Texte_txt\", \"*.txt\"))\n",
    " \n",
    "Jackson2021_raw = []\n",
    "\n",
    "for file_path in fileList:\n",
    "    with open(file_path, encoding=\"utf8\") as file:\n",
    "        Jackson2021_raw.append(file.read())"
   ]
  },
  {
   "cell_type": "code",
   "execution_count": 18,
   "id": "165682cb",
   "metadata": {},
   "outputs": [],
   "source": [
    "# Panem\n",
    "\n",
    "fileList = glob.glob(os.path.join(os.getcwd(), r\"D:\\JH\\Masterarbeit\\2021\\Die Tribute von Panem\\FFs\\Texte_txt\", \"*.txt\"))\n",
    " \n",
    "Panem2021_raw = []\n",
    "\n",
    "for file_path in fileList:\n",
    "    with open(file_path, encoding=\"utf8\") as file:\n",
    "        Panem2021_raw.append(file.read())"
   ]
  },
  {
   "cell_type": "code",
   "execution_count": 19,
   "id": "4da417f5",
   "metadata": {},
   "outputs": [],
   "source": [
    "# Potter Originals\n",
    "\n",
    "fileList = glob.glob(os.path.join(os.getcwd(), r\"D:\\JH\\Masterarbeit\\originals\", \"*.txt\"))\n",
    " \n",
    "PotterOriginals_raw = []\n",
    "\n",
    "for file_path in fileList:\n",
    "    with open(file_path, encoding=\"utf8\") as file:\n",
    "        PotterOriginals_raw.append(file.read())"
   ]
  },
  {
   "cell_type": "markdown",
   "id": "8500e27c",
   "metadata": {},
   "source": [
    "# PREPROCESSING (MERGING, CLEANING, SENTENCE TOKENIZING, LEMMATIZING, REMOVE PUNCTUATION, LOWERCASING)"
   ]
  },
  {
   "cell_type": "markdown",
   "id": "9e0a1ba5",
   "metadata": {},
   "source": [
    "The following code blocks are taken from Brottrager et al.'s \"Character Shifts in Harry Potter Fanfictions\", the relevant Jupyter Notebook can be found under https://github.com/jbrottrager/character-shifts-HPFFS/blob/main/scripts/05_Word2Vec.ipynb (last viewed: 2022/09/18)"
   ]
  },
  {
   "cell_type": "code",
   "execution_count": 20,
   "id": "575af644",
   "metadata": {
    "scrolled": true
   },
   "outputs": [
    {
     "data": {
      "text/plain": [
       "['\\n                                \\n                                NeujahrEs war sehr früh am Morgen des ersten Januar 1978, als James Potter sich aus dem Jungenschlafsaal schlich und vorsichtig die Treppen in den Gemeinschaftsraum hinunter stieg. In wenigen Stunden würde es Frühstück geben, doch er war schon jetzt wach. Er hatte nicht mehr schlafen können, wollte seine besten Freunde jedoch nicht so früh wecken. Außerdem musste er nachdenken. Gestern bei der Silvesterparty hätte er beinahe mit Lily getanzt. Mit seiner so wunderschönen Schulsprecherkollegin. Sie hatte ihn sogar gefragt, doch er hatte abgelehnt. Vielleicht war das dumm gewesen, doch seit Weihnachten wo er zufällig ein kurzes Gespräch zwischen Lily und Alice mitangehört hatte, war er ziemlich verwirrt.Nach dem Festmahl hatte er die beiden Mädchen in der Eingangshalle im Vorbeigehen reden gehört. Alice hatte ihre Freundin gerade gefragt: „Warum hast du nicht mit James getanzt?“ Natürlich war er sofort langsamer geworden um ihre Antwort mitzubekommen. Lily hatte sich kurz umgesehen und dann geantwortet: „Ich weiß nicht was ein Tanz mit ihm mit mir angestellt hätte, deshalb habe ich ‚Nein‘ gesagt.“ Wie hatte sie das gemeint? Dachte sie etwa er würde sie irgendwie verhexen wenn sie ihm zu nahe kommen würde? Er wollte ihr nicht den Eindruck vermitteln, dass er vorhatte sie zu manipulieren, er wollte mit ihr ausgehen, weil er sie liebte, nur deswegen. Früher hatte Lily ihm häufig vorgeworfen, dass es ihm doch nur um Sex und sonst gar nichts gehen würde, dachte sie das etwa immer noch? Frustriert ließ er sich auf einen der Sessel am Kamin nieder und starrte in die kalte Glut. Warum war das Leben so kompliziert? Warum war Liebe so schwierig? Er lehnte sich zurück und sah zur Decke. Warum musste er nur ein Mädchen lieben, dass seine Gefühle so gar nicht erwiderte?„Hey wer ist da?“, hörte er auf einmal eine Mädchenstimme von hinter sich. Er drehte sich halb herum und sah über seine Schulter. Auf der obersten Stufe der Treppe zu den Mädchenschlafsälen stand Lily Evans. Sein Herz schlug auf einmal dreimal so schnell und er vergaß ganz in welcher Laune er eben noch gewesen war. „Lily …“, rief er leise. Sie schwieg kurz, dann sagte sie gerade so laut, dass er sie gerade verstehen konnte: „James …“ Sie kam jetzt näher und blieb schließlich neben seinem Sessel stehen. „Was machst du so früh hier?“, fragte sie und sah ihn traurig an. „Ich, ähm …“, fing er wenig schlau an. Lily setzte sich gegenüber von ihn hin und rieb sich einige Tränen aus den Augen, die er erst jetzt bemerkte. „Was ist los, warum bist du traurig?“, fragte er und stand auf, setzte sich auf ihre Sesselkante und griff nach ihren Händen. Er wusste selbst nicht woher er den Mut nahm so etwas zu machen. Noch letztes Jahr hätte Lily ihm ihre Hände sofort entzogen und hätte ihn lautstark gebeten sie in Zukunft in Ruhe zu lassen. Jetzt jedoch begann sie nur leise zu schluchzen und versetzte James damit in noch traurigere Stimmung, als er es zuvor schon gewesen war. Lily sollte nicht weinen, alles nur das nicht. „Was ist passiert? Bitte sag es mir!“ Sie schniefte und meinte, dass es so wichtig schon nicht sei: „Nur das dumme Herz eines dummen Mädchens …“ James streichelte ihre Hände und bat sie inständig ehrlich zu ihm zu sein: „Bitte Lily!“ Sie schniefte noch einmal und fragte dann sehr leise: „Warum hast du gestern nicht mit mir tanzen wollen?“ James wusste nicht wie er darauf antworten sollte, beschloss dann jedoch einfach die Wahrheit zu sagen. „Ich war unsicher wegen einer Sache die ich Weihnachten mitangehört habe.“ „Was meinst du?“, fragte Lily überrascht. „Ein kleines Gespräch zwischen dir und Alice nach dem Festmahl.“ Lily dachte kurz nach, dann schien sie sich zu erinnern, denn sie wurde leicht rot.James betrachtete sie einen Moment, dann kam ihm ein sowohl interessanter als auch ziemlich nervös machender Gedanke. Vielleicht waren seine Schlussfolgerungen aus ihrer Antwort übereilt und komplett falsch gewesen … Vielleicht hatten sich ihre Gefühle ihm gegenüber inzwischen grundlegend verändert? Inzwischen hatte sich die Röte auf ihren Wangen verflüchtigt und sie musterte ihn sorgfältig. James beschloss nun, dass er es wagen sollte. Er sah ihr direkt in die Augen und fragte sie dann ob sie jetzt mit ihm tanzen würde.Sie lies sich einige Augenblicke Zeit ehe sie leicht nickte. Mit zitternden Beinen stand er auf und hielt ihr seine Hand entgegen. Lily nahm sie vorsichtig und trat näher an ihn heran. Nachdem sie sich noch etwas Musik beschworen hatten und ein wenig Platz gemacht hatten, begannen sie langsam zu tanzen. Keiner von ihnen sagte etwas, stumm bewegten sie sich hin und her. Als sie nach einer gefühlten Ewigkeit stehen blieben nahm James ihre Hände in seine und presste sie an seine Brust. Er öffnete den Mund, brachte jedoch kein Laut über die Lippen. Nach einigen Versuchen gab er es auf und sah sie nur an. Er fühlte sich so leicht und unendlich glücklich, wie hatte er das nur verdient? Sie lächelte ihn an und streichelte ihm nun sanft über die Wange: „Ich liebe dich James!“, murmelte Lily und lächelte ihn strahlend an. Ihre Wangen färbten sich leicht Rosa, sie aber ignorierte dies und gab James einen zarten Kuss auf den Mund.James wusste nicht wie ihm geschah, dieses Gefühl war überwältigend, atemberaubend. Nachdem sie sich wieder von einander gelöst hatten, murmelt er begeistert: „Ich glaube daran könnte ich mich gewöhnen!“ Lily sah ihn grinsend an und fragte: „Was meinst du?“ James beugte sich nun vor und flüsterte in ihr Ohr: „Von dir geküsst zu werden …“ Sie lachte auf und nahm dann seine Hand: „Ich glaube das lässt sich eventuell machen …“ James folgte ihr und fragte: „… eventuell?“ Sie öffnete das Portrait der fetten Dame: „Ja, wenn du brav bist und ein guter fester Freund, dann wird deine Freundin dich liebend gerne küssen.“James lachte auf und schlang sie dann fest in seine Arme. Beide verließen nun den Gemeinschaftsraum und waren rund um zufrieden und glücklich. Hogwarts hatte nun ein wahrhaftiges Schulsprecherpaar.- xxx -Hey Leute!Ich hoffe Euch gefällt meine erste Fanfiktion im neuen Jahr. Viele weitere Kapitel und kleinere und oder größere Projekte werden dieses Jahr hochgeladen. Zuerst kommen nun neue Kapitel zu meinen laufenden Geschichten.Viele Grüße und meine besten Wünsche für 2020!Hier meine erste eigene längere Geschichte und nachfolgend die aktuelle Fanfiktion an welcher ich gerade schreibe!Advent: Ein KalenderEin Leben wie kein anderesTop 5 meiner Fanfiktion!Ein Jahr wie kein anderesEine vergessene NachtKlima und LiebeJames Abenteuer in MittelerdeRosenblätterTop 5 meiner Oneshots!Der erste AprilLilys KatzeAm StrandJames größter FehlerDer 14. FebruarDies sind jeweils nur die am meisten gelesenen Geschichten, ich habe noch weitere geschrieben. Geht einfach auf mein Profil und seht selbst. Der allergrößte Teil meiner Fanfiktion handelt von James und Lily.QuieroLaAventura\\n                            \\n']"
      ]
     },
     "execution_count": 20,
     "metadata": {},
     "output_type": "execute_result"
    }
   ],
   "source": [
    "Potter2021_raw[:1]"
   ]
  },
  {
   "cell_type": "code",
   "execution_count": 21,
   "id": "37e076ae",
   "metadata": {},
   "outputs": [],
   "source": [
    "# PREPROCESSING\n",
    "\n",
    "# merging\n",
    "\n",
    "Potter2021_merged = ' '.join(Potter2021_raw)"
   ]
  },
  {
   "cell_type": "code",
   "execution_count": 23,
   "id": "1989928f",
   "metadata": {},
   "outputs": [
    {
     "data": {
      "text/plain": [
       "'\\n                                \\n                                NeujahrEs war sehr früh am Morgen des ersten Januar 1978, als James Potter sich aus dem Jungenschlafsaal schlich und vorsichtig die Treppen in den Gemeinschaftsraum hinunter stieg. In wenigen Stunden würde es Frühstück geben, doch er war schon jetzt wach. Er hatte nicht mehr schlafen können, wollte seine besten Freunde jedoch nicht so früh wecken. Außerdem musste er nachdenken. Gestern bei der Silvesterparty hätte er beinahe mit Lily getanzt. Mit seiner so wunderschönen Schulsprecherkollegin. Sie hatte ihn sogar gefragt, doch er hatte abgelehnt. Vielleicht war das dumm gewesen, doch seit Weihnachten wo er zufällig ein kurzes Gespräch zwischen Lily und Alice mitangehört hatte, war er ziemlich verwirrt.Nach dem Festmahl hatte er die beiden Mädchen in der Eingangshalle im Vorbeigehen reden gehört. Alice hatte ihre Freundin gerade gefragt: „Warum hast du nicht mit James getanzt?“ Natürlich war er sofort langsamer geworden um'"
      ]
     },
     "execution_count": 23,
     "metadata": {},
     "output_type": "execute_result"
    }
   ],
   "source": [
    "Potter2021_merged[:1000]"
   ]
  },
  {
   "cell_type": "code",
   "execution_count": 24,
   "id": "670cd2a3",
   "metadata": {},
   "outputs": [],
   "source": [
    "Biss2021_merged = ' '.join(Biss2021_raw)"
   ]
  },
  {
   "cell_type": "code",
   "execution_count": 25,
   "id": "5ec69e23",
   "metadata": {},
   "outputs": [],
   "source": [
    "WarriorCats2021_merged = ' '.join(WarriorCats2021_raw)"
   ]
  },
  {
   "cell_type": "code",
   "execution_count": 26,
   "id": "fbd09cea",
   "metadata": {},
   "outputs": [],
   "source": [
    "DFFF2021_merged = ' '.join(DFFF2021_raw)"
   ]
  },
  {
   "cell_type": "code",
   "execution_count": 27,
   "id": "646f5a8f",
   "metadata": {},
   "outputs": [],
   "source": [
    "Mittelerde2021_merged = ' '.join(Mittelerde2021_raw)"
   ]
  },
  {
   "cell_type": "code",
   "execution_count": 28,
   "id": "a562c572",
   "metadata": {},
   "outputs": [],
   "source": [
    "Jackson2021_merged = ' '.join(Jackson2021_raw)"
   ]
  },
  {
   "cell_type": "code",
   "execution_count": 29,
   "id": "d28af958",
   "metadata": {},
   "outputs": [],
   "source": [
    "Panem2021_merged = ' '.join(Panem2021_raw)"
   ]
  },
  {
   "cell_type": "code",
   "execution_count": 30,
   "id": "7845a53b",
   "metadata": {},
   "outputs": [],
   "source": [
    "PotterOriginals_merged = ' '.join(PotterOriginals_raw)"
   ]
  },
  {
   "cell_type": "code",
   "execution_count": null,
   "id": "f2604e79",
   "metadata": {},
   "outputs": [],
   "source": []
  },
  {
   "cell_type": "code",
   "execution_count": 31,
   "id": "a7c82173",
   "metadata": {},
   "outputs": [],
   "source": [
    "# cleaning\n",
    "\n",
    "Potter2021_clean1 = Potter2021_merged.replace('\\n', '')\n",
    "Potter2021_clean2 = Potter2021_clean1.replace('\\xa0', '')"
   ]
  },
  {
   "cell_type": "code",
   "execution_count": 32,
   "id": "c368699b",
   "metadata": {},
   "outputs": [
    {
     "data": {
      "text/plain": [
       "'                                                                NeujahrEs war sehr früh am Morgen des ersten Januar 1978, als James Potter sich aus dem Jungenschlafsaal schlich und vorsichtig die Treppen in den Gemeinschaftsraum hinunter stieg. In wenigen Stunden würde es Frühstück geben, doch er war schon jetzt wach. Er hatte nicht mehr schlafen können, wollte seine besten Freunde jedoch nicht so früh wecken. Außerdem musste er nachdenken. Gestern bei der Silvesterparty hätte er beinahe mit Lily getanzt. Mit seiner so wunderschönen Schulsprecherkollegin. Sie hatte ihn sogar gefragt, doch er hatte abgelehnt. Vielleicht war das dumm gewesen, doch seit Weihnachten wo er zufällig ein kurzes Gespräch zwischen Lily und Alice mitangehört hatte, war er ziemlich verwirrt.Nach dem Festmahl hatte er die beiden Mädchen in der Eingangshalle im Vorbeigehen reden gehört. Alice hatte ihre Freundin gerade gefragt: „Warum hast du nicht mit James getanzt?“ Natürlich war er sofort langsamer geworden um ihre Antwort mitzubekommen. Lily hatte sich kurz umgesehen und dann geantwortet: „Ich weiß nicht was ein Tanz mit ihm mit mir angestellt hätte, deshalb habe ich ‚Nein‘ gesagt.“ Wie hatte sie das gemeint? Dachte sie etwa er würde sie irgendwie verhexen wenn sie ihm zu nahe kommen würde? Er wollte ihr nicht den Eindruck vermitteln, dass er vorhatte sie zu manipulieren, er wollte mit ihr ausgehen, weil er sie liebte, nur deswegen. Früher hatte Lily ihm häufig vorgeworfen, dass es ihm doch nur um Sex und sonst gar nichts gehen würde, dachte sie das etwa immer noch? Frustriert ließ er sich auf einen der Sessel am Kamin nieder und starrte in die kalte Glut. Warum war das Leben so kompliziert? Warum war Liebe so schwierig? Er lehnte sich zurück und sah zur Decke. Warum musste er nur ein Mädchen lieben, dass seine Gefühle so gar nicht erwiderte?„Hey wer ist da?“, hörte er auf einmal eine Mädchenstimme von hinter sich. Er drehte sich halb herum und sah über seine Schulter. Auf der obersten Stufe'"
      ]
     },
     "execution_count": 32,
     "metadata": {},
     "output_type": "execute_result"
    }
   ],
   "source": [
    "Potter2021_clean2[:2000]"
   ]
  },
  {
   "cell_type": "code",
   "execution_count": 33,
   "id": "94a46e26",
   "metadata": {},
   "outputs": [],
   "source": [
    "Biss2021_clean1 = Biss2021_merged.replace('\\n', '')\n",
    "Biss2021_clean2 = Biss2021_clean1.replace('\\xa0', '')"
   ]
  },
  {
   "cell_type": "code",
   "execution_count": 34,
   "id": "191030c6",
   "metadata": {},
   "outputs": [],
   "source": [
    "WarriorCats2021_clean1 = WarriorCats2021_merged.replace('\\n', '')\n",
    "WarriorCats2021_clean2 = WarriorCats2021_clean1.replace('\\xa0', '')"
   ]
  },
  {
   "cell_type": "code",
   "execution_count": 35,
   "id": "7c97d126",
   "metadata": {},
   "outputs": [],
   "source": [
    "DFFF2021_clean1 = DFFF2021_merged.replace('\\n', '')\n",
    "DFFF2021_clean2 = DFFF2021_clean1.replace('\\xa0', '')"
   ]
  },
  {
   "cell_type": "code",
   "execution_count": 36,
   "id": "b131464f",
   "metadata": {},
   "outputs": [],
   "source": [
    "Mittelerde2021_clean1 = Mittelerde2021_merged.replace('\\n', '')\n",
    "Mittelerde2021_clean2 = Mittelerde2021_clean1.replace('\\xa0', '')"
   ]
  },
  {
   "cell_type": "code",
   "execution_count": 37,
   "id": "28f03758",
   "metadata": {},
   "outputs": [],
   "source": [
    "Jackson2021_clean1 = Jackson2021_merged.replace('\\n', '')\n",
    "Jackson2021_clean2 = Jackson2021_clean1.replace('\\xa0', '')"
   ]
  },
  {
   "cell_type": "code",
   "execution_count": 38,
   "id": "58475886",
   "metadata": {},
   "outputs": [],
   "source": [
    "Panem2021_clean1 = Panem2021_merged.replace('\\n', '')\n",
    "Panem2021_clean2 = Panem2021_clean1.replace('\\xa0', '')"
   ]
  },
  {
   "cell_type": "code",
   "execution_count": 39,
   "id": "0b6b40da",
   "metadata": {},
   "outputs": [],
   "source": [
    "PotterOriginals_clean1 = PotterOriginals_merged.replace('\\n', '')\n",
    "PotterOriginals_clean2 = PotterOriginals_clean1.replace('\\xa0', '')"
   ]
  },
  {
   "cell_type": "code",
   "execution_count": 41,
   "id": "8361abda",
   "metadata": {},
   "outputs": [],
   "source": [
    "# tokenize sentences\n",
    "\n",
    "Potter2021_sentences = nltk.sent_tokenize(Potter2021_clean2, language='german')"
   ]
  },
  {
   "cell_type": "code",
   "execution_count": 42,
   "id": "1b738dd6",
   "metadata": {},
   "outputs": [
    {
     "data": {
      "text/plain": [
       "['                                                                NeujahrEs war sehr früh am Morgen des ersten Januar 1978, als James Potter sich aus dem Jungenschlafsaal schlich und vorsichtig die Treppen in den Gemeinschaftsraum hinunter stieg.',\n",
       " 'In wenigen Stunden würde es Frühstück geben, doch er war schon jetzt wach.',\n",
       " 'Er hatte nicht mehr schlafen können, wollte seine besten Freunde jedoch nicht so früh wecken.',\n",
       " 'Außerdem musste er nachdenken.',\n",
       " 'Gestern bei der Silvesterparty hätte er beinahe mit Lily getanzt.']"
      ]
     },
     "execution_count": 42,
     "metadata": {},
     "output_type": "execute_result"
    }
   ],
   "source": [
    "Potter2021_sentences[:5]"
   ]
  },
  {
   "cell_type": "code",
   "execution_count": 43,
   "id": "9e95bcc3",
   "metadata": {},
   "outputs": [],
   "source": [
    "Biss2021_sentences = nltk.sent_tokenize(Biss2021_clean2, language='german')"
   ]
  },
  {
   "cell_type": "code",
   "execution_count": 44,
   "id": "9ce57ec9",
   "metadata": {},
   "outputs": [],
   "source": [
    "WarriorCats2021_sentences = nltk.sent_tokenize(WarriorCats2021_clean2, language='german')"
   ]
  },
  {
   "cell_type": "code",
   "execution_count": 45,
   "id": "c3973729",
   "metadata": {},
   "outputs": [],
   "source": [
    "DFFF2021_sentences = nltk.sent_tokenize(DFFF2021_clean2, language='german')"
   ]
  },
  {
   "cell_type": "code",
   "execution_count": 46,
   "id": "cddf2000",
   "metadata": {},
   "outputs": [],
   "source": [
    "Mittelerde2021_sentences = nltk.sent_tokenize(Mittelerde2021_clean2, language='german')"
   ]
  },
  {
   "cell_type": "code",
   "execution_count": 47,
   "id": "99881760",
   "metadata": {},
   "outputs": [],
   "source": [
    "Jackson2021_sentences = nltk.sent_tokenize(Jackson2021_clean2, language='german')"
   ]
  },
  {
   "cell_type": "code",
   "execution_count": 48,
   "id": "fe5fd45d",
   "metadata": {},
   "outputs": [],
   "source": [
    "Panem2021_sentences = nltk.sent_tokenize(Panem2021_clean2, language='german')"
   ]
  },
  {
   "cell_type": "code",
   "execution_count": 49,
   "id": "b593767c",
   "metadata": {},
   "outputs": [],
   "source": [
    "PotterOriginals_sentences = nltk.sent_tokenize(PotterOriginals_clean2, language='german')"
   ]
  },
  {
   "cell_type": "code",
   "execution_count": 50,
   "id": "3e197e16",
   "metadata": {},
   "outputs": [],
   "source": [
    "# lemmatizing\n",
    "\n",
    "Potter2021_lemmatized = [0]*len(Potter2021_sentences)\n",
    "\n",
    "for i in range(0, len(Potter2021_sentences)):\n",
    "    words = nlp(Potter2021_sentences[i])\n",
    "    interim = [0]*len(words)\n",
    "    for j in range(0, len(interim)):\n",
    "        interim[j] = words[j].lemma_\n",
    "    Potter2021_lemmatized[i] = interim "
   ]
  },
  {
   "cell_type": "code",
   "execution_count": 51,
   "id": "c88690c4",
   "metadata": {
    "scrolled": true
   },
   "outputs": [
    {
     "data": {
      "text/plain": [
       "[['                                                                ',\n",
       "  'NeujahrEs',\n",
       "  'sein',\n",
       "  'sehr',\n",
       "  'früh',\n",
       "  'am',\n",
       "  'Morgen',\n",
       "  'der',\n",
       "  'erst',\n",
       "  'Januar',\n",
       "  '1978',\n",
       "  ',',\n",
       "  'als',\n",
       "  'James',\n",
       "  'Potter',\n",
       "  'sich',\n",
       "  'aus',\n",
       "  'der',\n",
       "  'Jungenschlafsaal',\n",
       "  'schleichen',\n",
       "  'und',\n",
       "  'vorsichtig',\n",
       "  'der',\n",
       "  'Treppe',\n",
       "  'in',\n",
       "  'der',\n",
       "  'Gemeinschaftsraum',\n",
       "  'hinunter',\n",
       "  'steigen',\n",
       "  '.'],\n",
       " ['In',\n",
       "  'wenig',\n",
       "  'Stunde',\n",
       "  'werden',\n",
       "  'ich',\n",
       "  'Frühstück',\n",
       "  'geben',\n",
       "  ',',\n",
       "  'doch',\n",
       "  'ich',\n",
       "  'sein',\n",
       "  'schon',\n",
       "  'jetzt',\n",
       "  'wach',\n",
       "  '.'],\n",
       " ['ich',\n",
       "  'haben',\n",
       "  'nicht',\n",
       "  'mehr',\n",
       "  'schlafen',\n",
       "  'können',\n",
       "  ',',\n",
       "  'wollen',\n",
       "  'mein',\n",
       "  'gut',\n",
       "  'Freund',\n",
       "  'jedoch',\n",
       "  'nicht',\n",
       "  'so',\n",
       "  'früh',\n",
       "  'wecken',\n",
       "  '.'],\n",
       " ['Außerdem', 'musste', 'ich', 'nachdenken', '.'],\n",
       " ['Gestern',\n",
       "  'bei',\n",
       "  'der',\n",
       "  'Silvesterparty',\n",
       "  'haben',\n",
       "  'ich',\n",
       "  'beinahe',\n",
       "  'mit',\n",
       "  'Lily',\n",
       "  'tanzen',\n",
       "  '.']]"
      ]
     },
     "execution_count": 51,
     "metadata": {},
     "output_type": "execute_result"
    }
   ],
   "source": [
    "Potter2021_lemmatized[:5]"
   ]
  },
  {
   "cell_type": "code",
   "execution_count": 52,
   "id": "994c8753",
   "metadata": {},
   "outputs": [],
   "source": [
    "Biss2021_lemmatized = [0]*len(Biss2021_sentences)\n",
    "\n",
    "for i in range(0, len(Biss2021_sentences)):\n",
    "    words = nlp(Biss2021_sentences[i])\n",
    "    interim = [0]*len(words)\n",
    "    for j in range(0, len(interim)):\n",
    "        interim[j] = words[j].lemma_\n",
    "    Biss2021_lemmatized[i] = interim "
   ]
  },
  {
   "cell_type": "code",
   "execution_count": 53,
   "id": "d62e53dd",
   "metadata": {},
   "outputs": [],
   "source": [
    "WarriorCats2021_lemmatized = [0]*len(WarriorCats2021_sentences)\n",
    "\n",
    "for i in range(0, len(WarriorCats2021_sentences)):\n",
    "    words = nlp(WarriorCats2021_sentences[i])\n",
    "    interim = [0]*len(words)\n",
    "    for j in range(0, len(interim)):\n",
    "        interim[j] = words[j].lemma_\n",
    "    WarriorCats2021_lemmatized[i] = interim "
   ]
  },
  {
   "cell_type": "code",
   "execution_count": 54,
   "id": "0236c0f9",
   "metadata": {},
   "outputs": [],
   "source": [
    "DFFF2021_lemmatized = [0]*len(DFFF2021_sentences)\n",
    "\n",
    "for i in range(0, len(DFFF2021_sentences)):\n",
    "    words = nlp(DFFF2021_sentences[i])\n",
    "    interim = [0]*len(words)\n",
    "    for j in range(0, len(interim)):\n",
    "        interim[j] = words[j].lemma_\n",
    "    DFFF2021_lemmatized[i] = interim "
   ]
  },
  {
   "cell_type": "code",
   "execution_count": 55,
   "id": "06992682",
   "metadata": {},
   "outputs": [],
   "source": [
    "Mittelerde2021_lemmatized = [0]*len(Mittelerde2021_sentences)\n",
    "\n",
    "for i in range(0, len(Mittelerde2021_sentences)):\n",
    "    words = nlp(Mittelerde2021_sentences[i])\n",
    "    interim = [0]*len(words)\n",
    "    for j in range(0, len(interim)):\n",
    "        interim[j] = words[j].lemma_\n",
    "    Mittelerde2021_lemmatized[i] = interim "
   ]
  },
  {
   "cell_type": "code",
   "execution_count": 56,
   "id": "f07e2f2e",
   "metadata": {},
   "outputs": [],
   "source": [
    "Jackson2021_lemmatized = [0]*len(Jackson2021_sentences)\n",
    "\n",
    "for i in range(0, len(Jackson2021_sentences)):\n",
    "    words = nlp(Jackson2021_sentences[i])\n",
    "    interim = [0]*len(words)\n",
    "    for j in range(0, len(interim)):\n",
    "        interim[j] = words[j].lemma_\n",
    "    Jackson2021_lemmatized[i] = interim "
   ]
  },
  {
   "cell_type": "code",
   "execution_count": 57,
   "id": "af2e2dcf",
   "metadata": {},
   "outputs": [],
   "source": [
    "Panem2021_lemmatized = [0]*len(Panem2021_sentences)\n",
    "\n",
    "for i in range(0, len(Panem2021_sentences)):\n",
    "    words = nlp(Panem2021_sentences[i])\n",
    "    interim = [0]*len(words)\n",
    "    for j in range(0, len(interim)):\n",
    "        interim[j] = words[j].lemma_\n",
    "    Panem2021_lemmatized[i] = interim "
   ]
  },
  {
   "cell_type": "code",
   "execution_count": 58,
   "id": "e29ec239",
   "metadata": {},
   "outputs": [],
   "source": [
    "PotterOriginals_lemmatized = [0]*len(PotterOriginals_sentences)\n",
    "\n",
    "for i in range(0, len(PotterOriginals_sentences)):\n",
    "    words = nlp(PotterOriginals_sentences[i])\n",
    "    interim = [0]*len(words)\n",
    "    for j in range(0, len(interim)):\n",
    "        interim[j] = words[j].lemma_\n",
    "    PotterOriginals_lemmatized[i] = interim "
   ]
  },
  {
   "cell_type": "code",
   "execution_count": 59,
   "id": "5ba7a1d8",
   "metadata": {},
   "outputs": [],
   "source": [
    "# removing punctuation (no \"_\"!!!)\n",
    "\n",
    "punctuation = \"\"\"!\"#$%&'()*+,-./:;<=>?@[\\]^`{|}~«»\"\"\""
   ]
  },
  {
   "cell_type": "code",
   "execution_count": 60,
   "id": "0ee43e5d",
   "metadata": {},
   "outputs": [],
   "source": [
    "for sent in Potter2021_lemmatized:\n",
    "    for word in sent:\n",
    "        if word in punctuation:\n",
    "            sent.remove(word)"
   ]
  },
  {
   "cell_type": "code",
   "execution_count": 116,
   "id": "f2fd0bb6",
   "metadata": {
    "scrolled": true
   },
   "outputs": [
    {
     "data": {
      "text/plain": [
       "[['                                                                ',\n",
       "  'NeujahrEs',\n",
       "  'sein',\n",
       "  'sehr',\n",
       "  'früh',\n",
       "  'am',\n",
       "  'Morgen',\n",
       "  'der',\n",
       "  'erst',\n",
       "  'Januar',\n",
       "  '1978',\n",
       "  'als',\n",
       "  'James',\n",
       "  'Potter',\n",
       "  'sich',\n",
       "  'aus',\n",
       "  'der',\n",
       "  'Jungenschlafsaal',\n",
       "  'schleichen',\n",
       "  'und',\n",
       "  'vorsichtig',\n",
       "  'der',\n",
       "  'Treppe',\n",
       "  'in',\n",
       "  'der',\n",
       "  'Gemeinschaftsraum',\n",
       "  'hinunter',\n",
       "  'steigen'],\n",
       " ['In',\n",
       "  'wenig',\n",
       "  'Stunde',\n",
       "  'werden',\n",
       "  'ich',\n",
       "  'Frühstück',\n",
       "  'geben',\n",
       "  'doch',\n",
       "  'ich',\n",
       "  'sein',\n",
       "  'schon',\n",
       "  'jetzt',\n",
       "  'wach'],\n",
       " ['ich',\n",
       "  'haben',\n",
       "  'nicht',\n",
       "  'mehr',\n",
       "  'schlafen',\n",
       "  'können',\n",
       "  'wollen',\n",
       "  'mein',\n",
       "  'gut',\n",
       "  'Freund',\n",
       "  'jedoch',\n",
       "  'nicht',\n",
       "  'so',\n",
       "  'früh',\n",
       "  'wecken'],\n",
       " ['Außerdem', 'musste', 'ich', 'nachdenken'],\n",
       " ['Gestern',\n",
       "  'bei',\n",
       "  'der',\n",
       "  'Silvesterparty',\n",
       "  'haben',\n",
       "  'ich',\n",
       "  'beinahe',\n",
       "  'mit',\n",
       "  'Lily',\n",
       "  'tanzen']]"
      ]
     },
     "execution_count": 116,
     "metadata": {},
     "output_type": "execute_result"
    }
   ],
   "source": [
    "Potter2021_lemmatized[:5]"
   ]
  },
  {
   "cell_type": "code",
   "execution_count": 61,
   "id": "e746a8a4",
   "metadata": {},
   "outputs": [],
   "source": [
    "for sent in Biss2021_lemmatized:\n",
    "    for word in sent:\n",
    "        if word in punctuation:\n",
    "            sent.remove(word)"
   ]
  },
  {
   "cell_type": "code",
   "execution_count": 62,
   "id": "863984a7",
   "metadata": {},
   "outputs": [],
   "source": [
    "for sent in WarriorCats2021_lemmatized:\n",
    "    for word in sent:\n",
    "        if word in punctuation:\n",
    "            sent.remove(word)"
   ]
  },
  {
   "cell_type": "code",
   "execution_count": 63,
   "id": "c6a81210",
   "metadata": {},
   "outputs": [],
   "source": [
    "for sent in DFFF2021_lemmatized:\n",
    "    for word in sent:\n",
    "        if word in punctuation:\n",
    "            sent.remove(word)"
   ]
  },
  {
   "cell_type": "code",
   "execution_count": 64,
   "id": "f763ab96",
   "metadata": {},
   "outputs": [],
   "source": [
    "for sent in Mittelerde2021_lemmatized:\n",
    "    for word in sent:\n",
    "        if word in punctuation:\n",
    "            sent.remove(word)"
   ]
  },
  {
   "cell_type": "code",
   "execution_count": 65,
   "id": "8d260b47",
   "metadata": {},
   "outputs": [],
   "source": [
    "for sent in Jackson2021_lemmatized:\n",
    "    for word in sent:\n",
    "        if word in punctuation:\n",
    "            sent.remove(word)"
   ]
  },
  {
   "cell_type": "code",
   "execution_count": 66,
   "id": "57f6ae26",
   "metadata": {},
   "outputs": [],
   "source": [
    "for sent in Panem2021_lemmatized:\n",
    "    for word in sent:\n",
    "        if word in punctuation:\n",
    "            sent.remove(word)"
   ]
  },
  {
   "cell_type": "code",
   "execution_count": 67,
   "id": "7928e63f",
   "metadata": {},
   "outputs": [],
   "source": [
    "for sent in PotterOriginals_lemmatized:\n",
    "    for word in sent:\n",
    "        if word in punctuation:\n",
    "            sent.remove(word)"
   ]
  },
  {
   "cell_type": "code",
   "execution_count": 68,
   "id": "82f30305",
   "metadata": {},
   "outputs": [],
   "source": [
    "# lowercasing\n",
    "\n",
    "Potter2021_sents_final = [[word.lower() for word in sent] for sent in Potter2021_lemmatized]"
   ]
  },
  {
   "cell_type": "code",
   "execution_count": 117,
   "id": "d83d3671",
   "metadata": {},
   "outputs": [
    {
     "data": {
      "text/plain": [
       "[['                                                                ',\n",
       "  'neujahres',\n",
       "  'sein',\n",
       "  'sehr',\n",
       "  'früh',\n",
       "  'am',\n",
       "  'morgen',\n",
       "  'der',\n",
       "  'erst',\n",
       "  'januar',\n",
       "  '1978',\n",
       "  'als',\n",
       "  'james',\n",
       "  'potter',\n",
       "  'sich',\n",
       "  'aus',\n",
       "  'der',\n",
       "  'jungenschlafsaal',\n",
       "  'schleichen',\n",
       "  'und',\n",
       "  'vorsichtig',\n",
       "  'der',\n",
       "  'treppe',\n",
       "  'in',\n",
       "  'der',\n",
       "  'gemeinschaftsraum',\n",
       "  'hinunter',\n",
       "  'steigen'],\n",
       " ['in',\n",
       "  'wenig',\n",
       "  'stunde',\n",
       "  'werden',\n",
       "  'ich',\n",
       "  'frühstück',\n",
       "  'geben',\n",
       "  'doch',\n",
       "  'ich',\n",
       "  'sein',\n",
       "  'schon',\n",
       "  'jetzt',\n",
       "  'wach'],\n",
       " ['ich',\n",
       "  'haben',\n",
       "  'nicht',\n",
       "  'mehr',\n",
       "  'schlafen',\n",
       "  'können',\n",
       "  'wollen',\n",
       "  'mein',\n",
       "  'gut',\n",
       "  'freund',\n",
       "  'jedoch',\n",
       "  'nicht',\n",
       "  'so',\n",
       "  'früh',\n",
       "  'wecken'],\n",
       " ['außerdem', 'musste', 'ich', 'nachdenken'],\n",
       " ['gestern',\n",
       "  'bei',\n",
       "  'der',\n",
       "  'silvesterparty',\n",
       "  'haben',\n",
       "  'ich',\n",
       "  'beinahe',\n",
       "  'mit',\n",
       "  'lily',\n",
       "  'tanzen']]"
      ]
     },
     "execution_count": 117,
     "metadata": {},
     "output_type": "execute_result"
    }
   ],
   "source": [
    "Potter2021_sents_final[:5]"
   ]
  },
  {
   "cell_type": "code",
   "execution_count": 69,
   "id": "44983726",
   "metadata": {},
   "outputs": [],
   "source": [
    "Biss2021_sents_final = [[word.lower() for word in sent] for sent in Biss2021_lemmatized]"
   ]
  },
  {
   "cell_type": "code",
   "execution_count": 70,
   "id": "be20df0a",
   "metadata": {},
   "outputs": [],
   "source": [
    "WarriorCats2021_sents_final = [[word.lower() for word in sent] for sent in WarriorCats2021_lemmatized]"
   ]
  },
  {
   "cell_type": "code",
   "execution_count": 71,
   "id": "e6625ba9",
   "metadata": {},
   "outputs": [],
   "source": [
    "DFFF2021_sents_final = [[word.lower() for word in sent] for sent in DFFF2021_lemmatized]"
   ]
  },
  {
   "cell_type": "code",
   "execution_count": 72,
   "id": "e2f50505",
   "metadata": {},
   "outputs": [],
   "source": [
    "Mittelerde2021_sents_final = [[word.lower() for word in sent] for sent in Mittelerde2021_lemmatized]"
   ]
  },
  {
   "cell_type": "code",
   "execution_count": 73,
   "id": "d3de57c8",
   "metadata": {},
   "outputs": [],
   "source": [
    "Jackson2021_sents_final = [[word.lower() for word in sent] for sent in Jackson2021_lemmatized]"
   ]
  },
  {
   "cell_type": "code",
   "execution_count": 74,
   "id": "15e71015",
   "metadata": {},
   "outputs": [],
   "source": [
    "Panem2021_sents_final = [[word.lower() for word in sent] for sent in Panem2021_lemmatized]"
   ]
  },
  {
   "cell_type": "code",
   "execution_count": 75,
   "id": "5429a1d1",
   "metadata": {},
   "outputs": [],
   "source": [
    "PotterOriginals_sents_final = [[word.lower() for word in sent] for sent in PotterOriginals_lemmatized]"
   ]
  },
  {
   "cell_type": "markdown",
   "id": "7c1a730c",
   "metadata": {},
   "source": [
    "# SAVE CORPORA"
   ]
  },
  {
   "cell_type": "code",
   "execution_count": 76,
   "id": "564ddc25",
   "metadata": {},
   "outputs": [],
   "source": [
    "# save corpus\n",
    "\n",
    "path_pickled = r'D:\\JH\\Masterarbeit\\corpora_3.0'"
   ]
  },
  {
   "cell_type": "code",
   "execution_count": 77,
   "id": "8e8944a0",
   "metadata": {},
   "outputs": [],
   "source": [
    "with open(path_pickled + '\\\\Potter2021_sents_final.pkl', 'wb') as f:\n",
    "    pickle.dump(Potter2021_sents_final, f)"
   ]
  },
  {
   "cell_type": "code",
   "execution_count": 78,
   "id": "2160ff2d",
   "metadata": {},
   "outputs": [],
   "source": [
    "with open(path_pickled + '\\\\Biss2021_sents_final.pkl', 'wb') as f:\n",
    "    pickle.dump(Biss2021_sents_final, f)"
   ]
  },
  {
   "cell_type": "code",
   "execution_count": 79,
   "id": "48bea046",
   "metadata": {},
   "outputs": [],
   "source": [
    "with open(path_pickled + '\\\\WarriorCats2021_sents_final.pkl', 'wb') as f:\n",
    "    pickle.dump(WarriorCats2021_sents_final, f)"
   ]
  },
  {
   "cell_type": "code",
   "execution_count": 81,
   "id": "57d51704",
   "metadata": {},
   "outputs": [],
   "source": [
    "with open(path_pickled + '\\\\DFFF20212021_sents_final.pkl', 'wb') as f:\n",
    "    pickle.dump(DFFF2021_sents_final, f)"
   ]
  },
  {
   "cell_type": "code",
   "execution_count": 82,
   "id": "2619173e",
   "metadata": {},
   "outputs": [],
   "source": [
    "with open(path_pickled + '\\\\Mittelerde2021_sents_final.pkl', 'wb') as f:\n",
    "    pickle.dump(Mittelerde2021_sents_final, f)"
   ]
  },
  {
   "cell_type": "code",
   "execution_count": 83,
   "id": "21881e32",
   "metadata": {},
   "outputs": [],
   "source": [
    "with open(path_pickled + '\\\\Jackson2021_sents_final.pkl', 'wb') as f:\n",
    "    pickle.dump(Jackson2021_sents_final, f)"
   ]
  },
  {
   "cell_type": "code",
   "execution_count": 84,
   "id": "edd89b15",
   "metadata": {},
   "outputs": [],
   "source": [
    "with open(path_pickled + '\\\\Panem2021_sents_final.pkl', 'wb') as f:\n",
    "    pickle.dump(Panem2021_sents_final, f)"
   ]
  },
  {
   "cell_type": "code",
   "execution_count": 85,
   "id": "56466835",
   "metadata": {},
   "outputs": [],
   "source": [
    "with open(path_pickled + '\\\\PotterOriginals_sents_final.pkl', 'wb') as f:\n",
    "    pickle.dump(PotterOriginals_sents_final, f)"
   ]
  },
  {
   "cell_type": "markdown",
   "id": "2cdfe7d7",
   "metadata": {},
   "source": [
    "# CREATE AND SAVE WORD (TOKEN) LIST"
   ]
  },
  {
   "cell_type": "code",
   "execution_count": 86,
   "id": "28a9ebbf",
   "metadata": {},
   "outputs": [],
   "source": [
    "# create and save word (token) list\n",
    "\n",
    "Potter2021_words = [word for sent in Potter2021_sents_final for word in sent]"
   ]
  },
  {
   "cell_type": "code",
   "execution_count": 87,
   "id": "91df7e52",
   "metadata": {},
   "outputs": [],
   "source": [
    "Biss2021_words = [word for sent in Biss2021_sents_final for word in sent]"
   ]
  },
  {
   "cell_type": "code",
   "execution_count": 88,
   "id": "87bc273e",
   "metadata": {},
   "outputs": [],
   "source": [
    "WarriorCats2021_words = [word for sent in WarriorCats2021_sents_final for word in sent]"
   ]
  },
  {
   "cell_type": "code",
   "execution_count": 89,
   "id": "66ae55cf",
   "metadata": {},
   "outputs": [],
   "source": [
    "DFFF2021_words = [word for sent in DFFF2021_sents_final for word in sent]"
   ]
  },
  {
   "cell_type": "code",
   "execution_count": 90,
   "id": "012b8e8b",
   "metadata": {},
   "outputs": [],
   "source": [
    "Mittelerde2021_words = [word for sent in Mittelerde2021_sents_final for word in sent]"
   ]
  },
  {
   "cell_type": "code",
   "execution_count": 91,
   "id": "dbb90ee9",
   "metadata": {},
   "outputs": [],
   "source": [
    "Jackson2021_words = [word for sent in Jackson2021_sents_final for word in sent]"
   ]
  },
  {
   "cell_type": "code",
   "execution_count": 92,
   "id": "3463c038",
   "metadata": {},
   "outputs": [],
   "source": [
    "Panem2021_words = [word for sent in Panem2021_sents_final for word in sent]"
   ]
  },
  {
   "cell_type": "code",
   "execution_count": 93,
   "id": "5645a173",
   "metadata": {},
   "outputs": [],
   "source": [
    "PotterOriginals_words = [word for sent in PotterOriginals_sents_final for word in sent]"
   ]
  },
  {
   "cell_type": "code",
   "execution_count": 94,
   "id": "9ab7320e",
   "metadata": {},
   "outputs": [],
   "source": [
    "with open(path_pickled + '\\\\Potter2021_words.pkl', 'wb') as f:\n",
    "    pickle.dump(Potter2021_words, f)"
   ]
  },
  {
   "cell_type": "code",
   "execution_count": 95,
   "id": "2ae4ee8d",
   "metadata": {},
   "outputs": [],
   "source": [
    "with open(path_pickled + '\\\\BissPotter2021_words.pkl', 'wb') as f:\n",
    "    pickle.dump(Biss2021_words, f)"
   ]
  },
  {
   "cell_type": "code",
   "execution_count": 96,
   "id": "bf7006e2",
   "metadata": {},
   "outputs": [],
   "source": [
    "with open(path_pickled + '\\\\WarriorCats2021_words.pkl', 'wb') as f:\n",
    "    pickle.dump(WarriorCats2021_words, f)"
   ]
  },
  {
   "cell_type": "code",
   "execution_count": 98,
   "id": "09d1057f",
   "metadata": {},
   "outputs": [],
   "source": [
    "with open(path_pickled + '\\\\DFFF2021_words.pkl', 'wb') as f:\n",
    "    pickle.dump(DFFF2021_words, f)"
   ]
  },
  {
   "cell_type": "code",
   "execution_count": 99,
   "id": "1e0ad7c1",
   "metadata": {},
   "outputs": [],
   "source": [
    "with open(path_pickled + '\\\\Mittelerde2021_words.pkl', 'wb') as f:\n",
    "    pickle.dump(Mittelerde2021_words, f)"
   ]
  },
  {
   "cell_type": "code",
   "execution_count": 100,
   "id": "21f2bbd9",
   "metadata": {},
   "outputs": [],
   "source": [
    "with open(path_pickled + '\\\\Jackson2021_words.pkl', 'wb') as f:\n",
    "    pickle.dump(Jackson2021_words, f)"
   ]
  },
  {
   "cell_type": "code",
   "execution_count": 101,
   "id": "1f55df1d",
   "metadata": {},
   "outputs": [],
   "source": [
    "with open(path_pickled + '\\\\Panem2021_words.pkl', 'wb') as f:\n",
    "    pickle.dump(Panem2021_words, f)"
   ]
  },
  {
   "cell_type": "code",
   "execution_count": 102,
   "id": "f2abc4c2",
   "metadata": {},
   "outputs": [],
   "source": [
    "with open(path_pickled + '\\\\PotterOriginals_words.pkl', 'wb') as f:\n",
    "    pickle.dump(PotterOriginals_words, f)"
   ]
  },
  {
   "cell_type": "markdown",
   "id": "257e11d0",
   "metadata": {},
   "source": [
    "# TRAIN AND SAVE MODELS"
   ]
  },
  {
   "cell_type": "code",
   "execution_count": 118,
   "id": "311cab48",
   "metadata": {},
   "outputs": [],
   "source": [
    "# train and save models\n",
    "\n",
    "modelPotter2021A = Word2Vec(Potter2021_sents_final, vector_size=300, window=5, workers=6, min_count=25, sg=0, epochs=5)\n",
    "\n",
    "modelPotter2021B = Word2Vec(Potter2021_sents_final, vector_size=300, window=5, workers=6, min_count=25, sg=0, epochs=10)\n",
    "\n",
    "modelPotter2021C = Word2Vec(Potter2021_sents_final, vector_size=300, window=5, workers=6, min_count=25, sg=0, epochs=15)\n",
    "\n",
    "modelPotter2021D = Word2Vec(Potter2021_sents_final, vector_size=300, window=5, workers=6, min_count=25, sg=0, epochs=20)\n",
    "\n",
    "modelPotter2021E = Word2Vec(Potter2021_sents_final, vector_size=300, window=5, workers=6, min_count=25, sg=0, epochs=25)\n",
    "\n",
    "modelPotter2021F = Word2Vec(Potter2021_sents_final, vector_size=300, window=5, workers=6, min_count=25, sg=1, epochs=5)\n",
    "\n",
    "modelPotter2021G = Word2Vec(Potter2021_sents_final, vector_size=300, window=5, workers=6, min_count=25, sg=1, epochs=10)\n",
    "\n",
    "modelPotter2021H = Word2Vec(Potter2021_sents_final, vector_size=300, window=5, workers=6, min_count=25, sg=1, epochs=15)\n",
    "\n",
    "modelPotter2021I = Word2Vec(Potter2021_sents_final, vector_size=300, window=5, workers=6, min_count=25, sg=1, epochs=20)\n",
    "\n",
    "modelPotter2021J = Word2Vec(Potter2021_sents_final, vector_size=300, window=5, workers=6, min_count=25, sg=1, epochs=25)"
   ]
  },
  {
   "cell_type": "code",
   "execution_count": 115,
   "id": "9e6e51f4",
   "metadata": {},
   "outputs": [],
   "source": [
    "modelBiss2021A = Word2Vec(Biss2021_sents_final, vector_size=300, window=5, workers=6, min_count=25, sg=0, epochs=5)\n",
    "\n",
    "modelBiss2021B = Word2Vec(Biss2021_sents_final, vector_size=300, window=5, workers=6, min_count=25, sg=0, epochs=10)\n",
    "\n",
    "modelBiss2021C = Word2Vec(Biss2021_sents_final, vector_size=300, window=5, workers=6, min_count=25, sg=0, epochs=15)\n",
    "\n",
    "modelBiss2021D = Word2Vec(Biss2021_sents_final, vector_size=300, window=5, workers=6, min_count=25, sg=0, epochs=20)\n",
    "\n",
    "modelBiss2021E = Word2Vec(Biss2021_sents_final, vector_size=300, window=5, workers=6, min_count=25, sg=0, epochs=25)\n",
    "\n",
    "modelBiss2021F = Word2Vec(Biss2021_sents_final, vector_size=300, window=5, workers=6, min_count=25, sg=1, epochs=5)\n",
    "\n",
    "modelBiss2021G = Word2Vec(Biss2021_sents_final, vector_size=300, window=5, workers=6, min_count=25, sg=1, epochs=10)\n",
    "\n",
    "modelBiss2021H = Word2Vec(Biss2021_sents_final, vector_size=300, window=5, workers=6, min_count=25, sg=1, epochs=15)\n",
    "\n",
    "modelBiss2021I = Word2Vec(Biss2021_sents_final, vector_size=300, window=5, workers=6, min_count=25, sg=1, epochs=20)\n",
    "\n",
    "modelBiss2021J = Word2Vec(Biss2021_sents_final, vector_size=300, window=5, workers=6, min_count=25, sg=1, epochs=25)"
   ]
  },
  {
   "cell_type": "code",
   "execution_count": 114,
   "id": "c11b87a5",
   "metadata": {},
   "outputs": [],
   "source": [
    "modelWarriorCats2021A = Word2Vec(WarriorCats2021_sents_final, vector_size=300, window=5, workers=6, min_count=25, sg=0, epochs=5)\n",
    "\n",
    "modelWarriorCats2021B = Word2Vec(WarriorCats2021_sents_final, vector_size=300, window=5, workers=6, min_count=25, sg=0, epochs=10)\n",
    "\n",
    "modelWarriorCats2021C = Word2Vec(WarriorCats2021_sents_final, vector_size=300, window=5, workers=6, min_count=25, sg=0, epochs=15)\n",
    "\n",
    "modelWarriorCats2021D = Word2Vec(WarriorCats2021_sents_final, vector_size=300, window=5, workers=6, min_count=25, sg=0, epochs=20)\n",
    "\n",
    "modelWarriorCats2021E = Word2Vec(WarriorCats2021_sents_final, vector_size=300, window=5, workers=6, min_count=25, sg=0, epochs=25)\n",
    "\n",
    "modelWarriorCats2021F = Word2Vec(WarriorCats2021_sents_final, vector_size=300, window=5, workers=6, min_count=25, sg=1, epochs=5)\n",
    "\n",
    "modelWarriorCats2021G = Word2Vec(WarriorCats2021_sents_final, vector_size=300, window=5, workers=6, min_count=25, sg=1, epochs=10)\n",
    "\n",
    "modelWarriorCats2021H = Word2Vec(WarriorCats2021_sents_final, vector_size=300, window=5, workers=6, min_count=25, sg=1, epochs=15)\n",
    "\n",
    "modelWarriorCats2021I = Word2Vec(WarriorCats2021_sents_final, vector_size=300, window=5, workers=6, min_count=25, sg=1, epochs=20)\n",
    "\n",
    "modelWarriorCats2021J = Word2Vec(WarriorCats2021_sents_final, vector_size=300, window=5, workers=6, min_count=25, sg=1, epochs=25)"
   ]
  },
  {
   "cell_type": "code",
   "execution_count": 113,
   "id": "4b8da236",
   "metadata": {},
   "outputs": [],
   "source": [
    "modelDFFF2021A = Word2Vec(DFFF2021_sents_final, vector_size=300, window=5, workers=6, min_count=25, sg=0, epochs=5)\n",
    "\n",
    "modelDFFF2021B = Word2Vec(DFFF2021_sents_final, vector_size=300, window=5, workers=6, min_count=25, sg=0, epochs=10)\n",
    "\n",
    "modelDFFF2021C = Word2Vec(DFFF2021_sents_final, vector_size=300, window=5, workers=6, min_count=25, sg=0, epochs=15)\n",
    "\n",
    "modelDFFF2021D = Word2Vec(DFFF2021_sents_final, vector_size=300, window=5, workers=6, min_count=25, sg=0, epochs=20)\n",
    "\n",
    "modelDFFF2021E = Word2Vec(DFFF2021_sents_final, vector_size=300, window=5, workers=6, min_count=25, sg=0, epochs=25)\n",
    "\n",
    "modelDFFF2021F = Word2Vec(DFFF2021_sents_final, vector_size=300, window=5, workers=6, min_count=25, sg=1, epochs=5)\n",
    "\n",
    "modelDFFF2021G = Word2Vec(DFFF2021_sents_final, vector_size=300, window=5, workers=6, min_count=25, sg=1, epochs=10)\n",
    "\n",
    "modelDFFF2021H = Word2Vec(DFFF2021_sents_final, vector_size=300, window=5, workers=6, min_count=25, sg=1, epochs=15)\n",
    "\n",
    "modelDFFF2021I = Word2Vec(DFFF2021_sents_final, vector_size=300, window=5, workers=6, min_count=25, sg=1, epochs=20)\n",
    "\n",
    "modelDFFF2021J = Word2Vec(DFFF2021_sents_final, vector_size=300, window=5, workers=6, min_count=25, sg=1, epochs=25)"
   ]
  },
  {
   "cell_type": "code",
   "execution_count": 112,
   "id": "129c123e",
   "metadata": {},
   "outputs": [],
   "source": [
    "modelMittelerde2021A = Word2Vec(Mittelerde2021_sents_final, vector_size=300, window=5, workers=6, min_count=25, sg=0, epochs=5)\n",
    "\n",
    "modelMittelerde2021B = Word2Vec(Mittelerde2021_sents_final, vector_size=300, window=5, workers=6, min_count=25, sg=0, epochs=10)\n",
    "\n",
    "modelMittelerde2021C = Word2Vec(Mittelerde2021_sents_final, vector_size=300, window=5, workers=6, min_count=25, sg=0, epochs=15)\n",
    "\n",
    "modelMittelerde2021D = Word2Vec(Mittelerde2021_sents_final, vector_size=300, window=5, workers=6, min_count=25, sg=0, epochs=20)\n",
    "\n",
    "modelMittelerde2021E = Word2Vec(Mittelerde2021_sents_final, vector_size=300, window=5, workers=6, min_count=25, sg=0, epochs=25)\n",
    "\n",
    "modelMittelerde2021F = Word2Vec(Mittelerde2021_sents_final, vector_size=300, window=5, workers=6, min_count=25, sg=1, epochs=5)\n",
    "\n",
    "modelMittelerde2021G = Word2Vec(Mittelerde2021_sents_final, vector_size=300, window=5, workers=6, min_count=25, sg=1, epochs=10)\n",
    "\n",
    "modelMittelerde2021H = Word2Vec(Mittelerde2021_sents_final, vector_size=300, window=5, workers=6, min_count=25, sg=1, epochs=15)\n",
    "\n",
    "modelMittelerde2021I = Word2Vec(Mittelerde2021_sents_final, vector_size=300, window=5, workers=6, min_count=25, sg=1, epochs=20)\n",
    "\n",
    "modelMittelerde2021J = Word2Vec(Mittelerde2021_sents_final, vector_size=300, window=5, workers=6, min_count=25, sg=1, epochs=25)"
   ]
  },
  {
   "cell_type": "code",
   "execution_count": 111,
   "id": "e59f1bc2",
   "metadata": {},
   "outputs": [],
   "source": [
    "modelJackson2021A = Word2Vec(Jackson2021_sents_final, vector_size=300, window=5, workers=6, min_count=25, sg=0, epochs=5)\n",
    "\n",
    "modelJackson2021B = Word2Vec(Jackson2021_sents_final, vector_size=300, window=5, workers=6, min_count=25, sg=0, epochs=10)\n",
    "\n",
    "modelJackson2021C = Word2Vec(Jackson2021_sents_final, vector_size=300, window=5, workers=6, min_count=25, sg=0, epochs=15)\n",
    "\n",
    "modelJackson2021D = Word2Vec(Jackson2021_sents_final, vector_size=300, window=5, workers=6, min_count=25, sg=0, epochs=20)\n",
    "\n",
    "modelJackson2021E = Word2Vec(Jackson2021_sents_final, vector_size=300, window=5, workers=6, min_count=25, sg=0, epochs=25)\n",
    "\n",
    "modelJackson2021F = Word2Vec(Jackson2021_sents_final, vector_size=300, window=5, workers=6, min_count=25, sg=1, epochs=5)\n",
    "\n",
    "modelJackson2021G = Word2Vec(Jackson2021_sents_final, vector_size=300, window=5, workers=6, min_count=25, sg=1, epochs=10)\n",
    "\n",
    "modelJackson2021H = Word2Vec(Jackson2021_sents_final, vector_size=300, window=5, workers=6, min_count=25, sg=1, epochs=15)\n",
    "\n",
    "modelJackson2021I = Word2Vec(Jackson2021_sents_final, vector_size=300, window=5, workers=6, min_count=25, sg=1, epochs=20)\n",
    "\n",
    "modelJackson2021J = Word2Vec(Jackson2021_sents_final, vector_size=300, window=5, workers=6, min_count=25, sg=1, epochs=25)"
   ]
  },
  {
   "cell_type": "code",
   "execution_count": 110,
   "id": "ef49a9a8",
   "metadata": {},
   "outputs": [],
   "source": [
    "modelPanem2021A = Word2Vec(Panem2021_sents_final, vector_size=300, window=5, workers=6, min_count=25, sg=0, epochs=5)\n",
    "\n",
    "modelPanem2021B = Word2Vec(Panem2021_sents_final, vector_size=300, window=5, workers=6, min_count=25, sg=0, epochs=10)\n",
    "\n",
    "modelPanem2021C = Word2Vec(Panem2021_sents_final, vector_size=300, window=5, workers=6, min_count=25, sg=0, epochs=15)\n",
    "\n",
    "modelPanem2021D = Word2Vec(Panem2021_sents_final, vector_size=300, window=5, workers=6, min_count=25, sg=0, epochs=20)\n",
    "\n",
    "modelPanem2021E = Word2Vec(Panem2021_sents_final, vector_size=300, window=5, workers=6, min_count=25, sg=0, epochs=25)\n",
    "\n",
    "modelPanem2021F = Word2Vec(Panem2021_sents_final, vector_size=300, window=5, workers=6, min_count=25, sg=1, epochs=5)\n",
    "\n",
    "modelPanem2021G = Word2Vec(Panem2021_sents_final, vector_size=300, window=5, workers=6, min_count=25, sg=1, epochs=10)\n",
    "\n",
    "modelPanem2021H = Word2Vec(Panem2021_sents_final, vector_size=300, window=5, workers=6, min_count=25, sg=1, epochs=15)\n",
    "\n",
    "modelPanem2021I = Word2Vec(Panem2021_sents_final, vector_size=300, window=5, workers=6, min_count=25, sg=1, epochs=20)\n",
    "\n",
    "modelPanem2021J = Word2Vec(Panem2021_sents_final, vector_size=300, window=5, workers=6, min_count=25, sg=1, epochs=25)"
   ]
  },
  {
   "cell_type": "code",
   "execution_count": 109,
   "id": "27613e04",
   "metadata": {},
   "outputs": [],
   "source": [
    "modelPotterOriginalsA = Word2Vec(PotterOriginals_sents_final, vector_size=300, window=5, workers=6, min_count=25, sg=0, epochs=5)\n",
    "\n",
    "modelPotterOriginalsB = Word2Vec(PotterOriginals_sents_final, vector_size=300, window=5, workers=6, min_count=25, sg=0, epochs=10)\n",
    "\n",
    "modelPotterOriginalsC = Word2Vec(PotterOriginals_sents_final, vector_size=300, window=5, workers=6, min_count=25, sg=0, epochs=15)\n",
    "\n",
    "modelPotterOriginalsD = Word2Vec(PotterOriginals_sents_final, vector_size=300, window=5, workers=6, min_count=25, sg=0, epochs=20)\n",
    "\n",
    "modelPotterOriginalsE = Word2Vec(PotterOriginals_sents_final, vector_size=300, window=5, workers=6, min_count=25, sg=0, epochs=25)\n",
    "\n",
    "modelPotterOriginalsF = Word2Vec(PotterOriginals_sents_final, vector_size=300, window=5, workers=6, min_count=25, sg=1, epochs=5)\n",
    "\n",
    "modelPotterOriginalsG = Word2Vec(PotterOriginals_sents_final, vector_size=300, window=5, workers=6, min_count=25, sg=1, epochs=10)\n",
    "\n",
    "modelPotterOriginalsH = Word2Vec(PotterOriginals_sents_final, vector_size=300, window=5, workers=6, min_count=25, sg=1, epochs=15)\n",
    "\n",
    "modelPotterOriginalsI = Word2Vec(PotterOriginals_sents_final, vector_size=300, window=5, workers=6, min_count=25, sg=1, epochs=20)\n",
    "\n",
    "modelPotterOriginalsJ = Word2Vec(PotterOriginals_sents_final, vector_size=300, window=5, workers=6, min_count=25, sg=1, epochs=25)"
   ]
  },
  {
   "cell_type": "code",
   "execution_count": 10,
   "id": "72f0c2e3",
   "metadata": {},
   "outputs": [],
   "source": [
    "# save models\n",
    "\n",
    "path_models = r'D:\\JH\\Masterarbeit\\models_3.0'"
   ]
  },
  {
   "cell_type": "code",
   "execution_count": 121,
   "id": "d3a38b74",
   "metadata": {},
   "outputs": [],
   "source": [
    "modelPotter2021A.wv.save(path_models + '\\\\modelPotter2021A.kv')\n",
    "\n",
    "modelPotter2021B.wv.save(path_models + '\\\\modelPotter2021B.kv')\n",
    "\n",
    "modelPotter2021C.wv.save(path_models + '\\\\modelPotter2021C.kv')\n",
    "\n",
    "modelPotter2021D.wv.save(path_models + '\\\\modelPotter2021D.kv')\n",
    "\n",
    "modelPotter2021E.wv.save(path_models + '\\\\modelPotter2021E.kv')\n",
    "\n",
    "modelPotter2021F.wv.save(path_models + '\\\\modelPotter2021F.kv')\n",
    "\n",
    "modelPotter2021G.wv.save(path_models + '\\\\modelPotter2021G.kv')\n",
    "\n",
    "modelPotter2021H.wv.save(path_models + '\\\\modelPotter2021H.kv')\n",
    "\n",
    "modelPotter2021I.wv.save(path_models + '\\\\modelPotter2021I.kv')\n",
    "\n",
    "modelPotter2021J.wv.save(path_models + '\\\\modelPotter2021J.kv')"
   ]
  },
  {
   "cell_type": "code",
   "execution_count": 122,
   "id": "9387c57e",
   "metadata": {},
   "outputs": [],
   "source": [
    "modelBiss2021A.wv.save(path_models + '\\\\modelBiss2021A.kv')\n",
    "\n",
    "modelBiss2021B.wv.save(path_models + '\\\\modelBiss2021B.kv')\n",
    "\n",
    "modelBiss2021C.wv.save(path_models + '\\\\modelBiss2021C.kv')\n",
    "\n",
    "modelBiss2021D.wv.save(path_models + '\\\\modelBiss2021D.kv')\n",
    "\n",
    "modelBiss2021E.wv.save(path_models + '\\\\modelBiss2021E.kv')\n",
    "\n",
    "modelBiss2021F.wv.save(path_models + '\\\\modelBiss2021F.kv')\n",
    "\n",
    "modelBiss2021G.wv.save(path_models + '\\\\modelBiss2021G.kv')\n",
    "\n",
    "modelBiss2021H.wv.save(path_models + '\\\\modelBiss2021H.kv')\n",
    "\n",
    "modelBiss2021I.wv.save(path_models + '\\\\modelBiss2021I.kv')\n",
    "\n",
    "modelBiss2021J.wv.save(path_models + '\\\\modelBiss2021J.kv')"
   ]
  },
  {
   "cell_type": "code",
   "execution_count": 123,
   "id": "c2347795",
   "metadata": {},
   "outputs": [],
   "source": [
    "modelWarriorCats2021A.wv.save(path_models + '\\\\modelWarriorCats2021A.kv')\n",
    "\n",
    "modelWarriorCats2021B.wv.save(path_models + '\\\\modelWarriorCats2021B.kv')\n",
    "\n",
    "modelWarriorCats2021C.wv.save(path_models + '\\\\modelWarriorCats2021C.kv')\n",
    "\n",
    "modelWarriorCats2021D.wv.save(path_models + '\\\\modelWarriorCats2021D.kv')\n",
    "\n",
    "modelWarriorCats2021E.wv.save(path_models + '\\\\modelWarriorCats2021E.kv')\n",
    "\n",
    "modelWarriorCats2021F.wv.save(path_models + '\\\\modelWarriorCats2021F.kv')\n",
    "\n",
    "modelWarriorCats2021G.wv.save(path_models + '\\\\modelWarriorCats2021G.kv')\n",
    "\n",
    "modelWarriorCats2021H.wv.save(path_models + '\\\\modelWarriorCats2021H.kv')\n",
    "\n",
    "modelWarriorCats2021I.wv.save(path_models + '\\\\modelWarriorCats2021I.kv')\n",
    "\n",
    "modelWarriorCats2021J.wv.save(path_models + '\\\\modelWarriorCats2021J.kv')"
   ]
  },
  {
   "cell_type": "code",
   "execution_count": 124,
   "id": "16396deb",
   "metadata": {},
   "outputs": [],
   "source": [
    "modelDFFF2021A.wv.save(path_models + '\\\\modelDFFF2021A.kv')\n",
    "\n",
    "modelDFFF2021B.wv.save(path_models + '\\\\modelDFFF2021B.kv')\n",
    "\n",
    "modelDFFF2021C.wv.save(path_models + '\\\\modelDFFF2021C.kv')\n",
    "\n",
    "modelDFFF2021D.wv.save(path_models + '\\\\modelDFFF2021D.kv')\n",
    "\n",
    "modelDFFF2021E.wv.save(path_models + '\\\\modelDFFF2021E.kv')\n",
    "\n",
    "modelDFFF2021F.wv.save(path_models + '\\\\modelDFFF2021F.kv')\n",
    "\n",
    "modelDFFF2021G.wv.save(path_models + '\\\\modelDFFF2021G.kv')\n",
    "\n",
    "modelDFFF2021H.wv.save(path_models + '\\\\modelDFFF2021H.kv')\n",
    "\n",
    "modelDFFF2021I.wv.save(path_models + '\\\\modelDFFF2021I.kv')\n",
    "\n",
    "modelDFFF2021J.wv.save(path_models + '\\\\modelDFFF2021J.kv')"
   ]
  },
  {
   "cell_type": "code",
   "execution_count": 125,
   "id": "8a0e3021",
   "metadata": {},
   "outputs": [],
   "source": [
    "modelMittelerde2021A.wv.save(path_models + '\\\\modelMittelerde2021A.kv')\n",
    "\n",
    "modelMittelerde2021B.wv.save(path_models + '\\\\modelMittelerde2021B.kv')\n",
    "\n",
    "modelMittelerde2021C.wv.save(path_models + '\\\\modelMittelerde2021C.kv')\n",
    "\n",
    "modelMittelerde2021D.wv.save(path_models + '\\\\modelMittelerde2021D.kv')\n",
    "\n",
    "modelMittelerde2021E.wv.save(path_models + '\\\\modelMittelerde2021E.kv')\n",
    "\n",
    "modelMittelerde2021F.wv.save(path_models + '\\\\modelMittelerde2021F.kv')\n",
    "\n",
    "modelMittelerde2021G.wv.save(path_models + '\\\\modelMittelerde2021G.kv')\n",
    "\n",
    "modelMittelerde2021H.wv.save(path_models + '\\\\modelMittelerde2021H.kv')\n",
    "\n",
    "modelMittelerde2021I.wv.save(path_models + '\\\\modelMittelerde2021I.kv')\n",
    "\n",
    "modelMittelerde2021J.wv.save(path_models + '\\\\modelMittelerde2021J.kv')"
   ]
  },
  {
   "cell_type": "code",
   "execution_count": 126,
   "id": "81a836ce",
   "metadata": {},
   "outputs": [],
   "source": [
    "modelJackson2021A.wv.save(path_models + '\\\\modelJackson2021A.kv')\n",
    "\n",
    "modelJackson2021B.wv.save(path_models + '\\\\modelJackson2021B.kv')\n",
    "\n",
    "modelJackson2021C.wv.save(path_models + '\\\\modelJackson2021C.kv')\n",
    "\n",
    "modelJackson2021D.wv.save(path_models + '\\\\modelJackson2021D.kv')\n",
    "\n",
    "modelJackson2021E.wv.save(path_models + '\\\\modelJackson2021E.kv')\n",
    "\n",
    "modelJackson2021F.wv.save(path_models + '\\\\modelJackson2021F.kv')\n",
    "\n",
    "modelJackson2021G.wv.save(path_models + '\\\\modelJackson2021G.kv')\n",
    "\n",
    "modelJackson2021H.wv.save(path_models + '\\\\modelJackson2021H.kv')\n",
    "\n",
    "modelJackson2021I.wv.save(path_models + '\\\\modelJackson2021I.kv')\n",
    "\n",
    "modelJackson2021J.wv.save(path_models + '\\\\modelJackson2021J.kv')"
   ]
  },
  {
   "cell_type": "code",
   "execution_count": 127,
   "id": "1268b47c",
   "metadata": {},
   "outputs": [],
   "source": [
    "modelPanem2021A.wv.save(path_models + '\\\\modelPanem2021A.kv')\n",
    "\n",
    "modelPanem2021B.wv.save(path_models + '\\\\modelPanem2021B.kv')\n",
    "\n",
    "modelPanem2021C.wv.save(path_models + '\\\\modelPanem2021C.kv')\n",
    "\n",
    "modelPanem2021D.wv.save(path_models + '\\\\modelPanem2021D.kv')\n",
    "\n",
    "modelPanem2021E.wv.save(path_models + '\\\\modelPanem2021E.kv')\n",
    "\n",
    "modelPanem2021F.wv.save(path_models + '\\\\modelPanem2021F.kv')\n",
    "\n",
    "modelPanem2021G.wv.save(path_models + '\\\\modelPanem2021G.kv')\n",
    "\n",
    "modelPanem2021H.wv.save(path_models + '\\\\modelPanem2021H.kv')\n",
    "\n",
    "modelPanem2021I.wv.save(path_models + '\\\\modelPanem2021I.kv')\n",
    "\n",
    "modelPanem2021J.wv.save(path_models + '\\\\modelPanem2021J.kv')"
   ]
  },
  {
   "cell_type": "code",
   "execution_count": 128,
   "id": "67aad2da",
   "metadata": {},
   "outputs": [],
   "source": [
    "modelPotterOriginalsA.wv.save(path_models + '\\\\modelPotterOriginalsA.kv')\n",
    "\n",
    "modelPotterOriginalsB.wv.save(path_models + '\\\\modelPotterOriginalsB.kv')\n",
    "\n",
    "modelPotterOriginalsC.wv.save(path_models + '\\\\modelPotterOriginalsC.kv')\n",
    "\n",
    "modelPotterOriginalsD.wv.save(path_models + '\\\\modelPotterOriginalsD.kv')\n",
    "\n",
    "modelPotterOriginalsE.wv.save(path_models + '\\\\modelPotterOriginalsE.kv')\n",
    "\n",
    "modelPotterOriginalsF.wv.save(path_models + '\\\\modelPotterOriginalsF.kv')\n",
    "\n",
    "modelPotterOriginalsG.wv.save(path_models + '\\\\modelPotterOriginalsG.kv')\n",
    "\n",
    "modelPotterOriginalsH.wv.save(path_models + '\\\\modelPotterOriginalsH.kv')\n",
    "\n",
    "modelPotterOriginalsI.wv.save(path_models + '\\\\modelPotterOriginalsI.kv')\n",
    "\n",
    "modelPotterOriginalsJ.wv.save(path_models + '\\\\modelPotterOriginalsJ.kv')"
   ]
  },
  {
   "cell_type": "markdown",
   "id": "cdec5e50",
   "metadata": {},
   "source": [
    "# EVALUATE MODELS"
   ]
  },
  {
   "cell_type": "markdown",
   "id": "f324ea13",
   "metadata": {},
   "source": [
    "The following code blocks are taken from Brottrager et al.'s \"Character Shifts in Harry Potter Fanfictions\", the relevant Jupyter Notebook can be found under https://github.com/jbrottrager/character-shifts-HPFFS/blob/main/scripts/06_modelEvaluation.ipynb (last viewed: 2022/09/18)"
   ]
  },
  {
   "cell_type": "code",
   "execution_count": 7,
   "id": "e0084d0a",
   "metadata": {},
   "outputs": [],
   "source": [
    "# evaluate models (from Brottrager et al. 2022!!!)\n",
    "\n",
    "google_analogies = r'D:\\JH\\Masterarbeit\\model_evaluation\\de_trans_Google_analogies.txt'\n",
    "word_pairs = r'D:\\JH\\Masterarbeit\\model_evaluation\\de_re-rated_Schm280.txt'"
   ]
  },
  {
   "cell_type": "code",
   "execution_count": 8,
   "id": "31dca26d",
   "metadata": {},
   "outputs": [],
   "source": [
    "path_results = r'D:\\JH\\Masterarbeit\\results\\evaluation'"
   ]
  },
  {
   "cell_type": "code",
   "execution_count": 33,
   "id": "84eabb38",
   "metadata": {},
   "outputs": [],
   "source": [
    "model_name = \"modelPotter2021\"\n",
    "\n",
    "# create model list\n",
    "models = []\n",
    "directory = path_models\n",
    "for filename in sorted(os.listdir(directory)):\n",
    "    if filename.endswith(\".kv\") and filename.startswith(model_name):\n",
    "         models.append((\"model \" + filename[-4:-3], KeyedVectors.load(os.path.join(directory, filename))))"
   ]
  },
  {
   "cell_type": "code",
   "execution_count": 35,
   "id": "89bc4519",
   "metadata": {},
   "outputs": [],
   "source": [
    "#evaluation\n",
    "ticks = [\"google_acc\", \"word_pairs\"]\n",
    "data = {}\n",
    "for tick in ticks:\n",
    "    data[tick] = [tick]\n",
    "for (_, model) in models:\n",
    "    google_acc = model.evaluate_word_analogies(datapath(google_analogies))[0]\n",
    "    pvalue, spear, _ = model.evaluate_word_pairs(datapath(word_pairs), delimiter=\"\\t\")\n",
    "    \n",
    "    data[\"google_acc\"].append(google_acc)\n",
    "    data[\"word_pairs\"].append(spear.correlation)"
   ]
  },
  {
   "cell_type": "code",
   "execution_count": 38,
   "id": "0c56053b",
   "metadata": {},
   "outputs": [],
   "source": [
    "# visualization I\n",
    "\n",
    "fig = plt.figure(figsize=(6,6))\n",
    "ax = fig.add_subplot(111)\n",
    "\n",
    "df_acc = pd.DataFrame([data[\"google_acc\"]],\n",
    "                   columns=['Test'] + [modelname for (modelname, _) in models])\n",
    "df_acc.plot(x='Test',\n",
    "        kind='bar',\n",
    "        stacked=False,\n",
    "        title='',\n",
    "        colormap=\"Spectral\",\n",
    "        ax=ax,\n",
    "        legend=False,\n",
    "        rot=30,\n",
    "        xlabel=\"\",\n",
    "        ylabel=\"accuracy\")\n",
    "\n",
    "plt.legend(loc='center right', bbox_to_anchor=(1.0, 0.5))\n",
    "\n",
    "fig.savefig(path_results + '\\\\model_eval_acc_' + model_name + '.png', dpi=300, bbox_inches = 'tight')\n",
    "\n",
    "# visualization II\n",
    "\n",
    "fig = plt.figure(figsize=(6,6))\n",
    "ax = fig.add_subplot(111)\n",
    "\n",
    "df_spear = pd.DataFrame([data[\"word_pairs\"]],\n",
    "                   columns=['Test'] + [modelname for (modelname, _) in models])\n",
    "df_spear.plot(x='Test',\n",
    "        kind='bar',\n",
    "        stacked=False,\n",
    "        title='',\n",
    "        colormap=\"Spectral\",\n",
    "        ax=ax,\n",
    "        legend=False,\n",
    "        rot=30,\n",
    "        xlabel=\"\",\n",
    "        ylabel=\"correlation score\")\n",
    "\n",
    "plt.legend(loc='center right', bbox_to_anchor=(1.0, 0.5))\n",
    "\n",
    "fig.savefig(path_results + '\\\\model_eval_corr_' + model_name + '.png', dpi=300, bbox_inches = 'tight')"
   ]
  },
  {
   "cell_type": "code",
   "execution_count": 39,
   "id": "0d1f333e",
   "metadata": {},
   "outputs": [],
   "source": [
    "model_name = \"modelBiss2021\"\n",
    "\n",
    "# create model list\n",
    "models = []\n",
    "directory = path_models\n",
    "for filename in sorted(os.listdir(directory)):\n",
    "    if filename.endswith(\".kv\") and filename.startswith(model_name):\n",
    "         models.append((\"model \" + filename[-4:-3], KeyedVectors.load(os.path.join(directory, filename))))\n",
    "            \n",
    "#evaluation\n",
    "ticks = [\"google_acc\", \"word_pairs\"]\n",
    "data = {}\n",
    "for tick in ticks:\n",
    "    data[tick] = [tick]\n",
    "for (_, model) in models:\n",
    "    google_acc = model.evaluate_word_analogies(datapath(google_analogies))[0]\n",
    "    pvalue, spear, _ = model.evaluate_word_pairs(datapath(word_pairs), delimiter=\"\\t\")\n",
    "    \n",
    "    data[\"google_acc\"].append(google_acc)\n",
    "    data[\"word_pairs\"].append(spear.correlation)\n",
    "    \n",
    "# visualization I\n",
    "\n",
    "fig = plt.figure(figsize=(6,6))\n",
    "ax = fig.add_subplot(111)\n",
    "\n",
    "df_acc = pd.DataFrame([data[\"google_acc\"]],\n",
    "                   columns=['Test'] + [modelname for (modelname, _) in models])\n",
    "df_acc.plot(x='Test',\n",
    "        kind='bar',\n",
    "        stacked=False,\n",
    "        title='',\n",
    "        colormap=\"Spectral\",\n",
    "        ax=ax,\n",
    "        legend=False,\n",
    "        rot=30,\n",
    "        xlabel=\"\",\n",
    "        ylabel=\"accuracy\")\n",
    "\n",
    "plt.legend(loc='center right', bbox_to_anchor=(1.0, 0.5))\n",
    "\n",
    "fig.savefig(path_results + '\\\\model_eval_acc_' + model_name + '.png', dpi=300, bbox_inches = 'tight')\n",
    "\n",
    "# visualization II\n",
    "\n",
    "fig = plt.figure(figsize=(6,6))\n",
    "ax = fig.add_subplot(111)\n",
    "\n",
    "df_spear = pd.DataFrame([data[\"word_pairs\"]],\n",
    "                   columns=['Test'] + [modelname for (modelname, _) in models])\n",
    "df_spear.plot(x='Test',\n",
    "        kind='bar',\n",
    "        stacked=False,\n",
    "        title='',\n",
    "        colormap=\"Spectral\",\n",
    "        ax=ax,\n",
    "        legend=False,\n",
    "        rot=30,\n",
    "        xlabel=\"\",\n",
    "        ylabel=\"correlation score\")\n",
    "\n",
    "plt.legend(loc='center right', bbox_to_anchor=(1.0, 0.5))\n",
    "\n",
    "fig.savefig(path_results + '\\\\model_eval_corr_' + model_name + '.png', dpi=300, bbox_inches = 'tight')"
   ]
  },
  {
   "cell_type": "code",
   "execution_count": 40,
   "id": "5fd18459",
   "metadata": {},
   "outputs": [],
   "source": [
    "model_name = \"modelWarriorCats2021\"\n",
    "\n",
    "# create model list\n",
    "models = []\n",
    "directory = path_models\n",
    "for filename in sorted(os.listdir(directory)):\n",
    "    if filename.endswith(\".kv\") and filename.startswith(model_name):\n",
    "         models.append((\"model \" + filename[-4:-3], KeyedVectors.load(os.path.join(directory, filename))))\n",
    "            \n",
    "#evaluation\n",
    "ticks = [\"google_acc\", \"word_pairs\"]\n",
    "data = {}\n",
    "for tick in ticks:\n",
    "    data[tick] = [tick]\n",
    "for (_, model) in models:\n",
    "    google_acc = model.evaluate_word_analogies(datapath(google_analogies))[0]\n",
    "    pvalue, spear, _ = model.evaluate_word_pairs(datapath(word_pairs), delimiter=\"\\t\")\n",
    "    \n",
    "    data[\"google_acc\"].append(google_acc)\n",
    "    data[\"word_pairs\"].append(spear.correlation)\n",
    "    \n",
    "# visualization I\n",
    "\n",
    "fig = plt.figure(figsize=(6,6))\n",
    "ax = fig.add_subplot(111)\n",
    "\n",
    "df_acc = pd.DataFrame([data[\"google_acc\"]],\n",
    "                   columns=['Test'] + [modelname for (modelname, _) in models])\n",
    "df_acc.plot(x='Test',\n",
    "        kind='bar',\n",
    "        stacked=False,\n",
    "        title='',\n",
    "        colormap=\"Spectral\",\n",
    "        ax=ax,\n",
    "        legend=False,\n",
    "        rot=30,\n",
    "        xlabel=\"\",\n",
    "        ylabel=\"accuracy\")\n",
    "\n",
    "plt.legend(loc='center right', bbox_to_anchor=(1.0, 0.5))\n",
    "\n",
    "fig.savefig(path_results + '\\\\model_eval_acc_' + model_name + '.png', dpi=300, bbox_inches = 'tight')\n",
    "\n",
    "# visualization II\n",
    "\n",
    "fig = plt.figure(figsize=(6,6))\n",
    "ax = fig.add_subplot(111)\n",
    "\n",
    "df_spear = pd.DataFrame([data[\"word_pairs\"]],\n",
    "                   columns=['Test'] + [modelname for (modelname, _) in models])\n",
    "df_spear.plot(x='Test',\n",
    "        kind='bar',\n",
    "        stacked=False,\n",
    "        title='',\n",
    "        colormap=\"Spectral\",\n",
    "        ax=ax,\n",
    "        legend=False,\n",
    "        rot=30,\n",
    "        xlabel=\"\",\n",
    "        ylabel=\"correlation score\")\n",
    "\n",
    "plt.legend(loc='center right', bbox_to_anchor=(1.0, 0.5))\n",
    "\n",
    "fig.savefig(path_results + '\\\\model_eval_corr_' + model_name + '.png', dpi=300, bbox_inches = 'tight')"
   ]
  },
  {
   "cell_type": "code",
   "execution_count": 41,
   "id": "377b33d9",
   "metadata": {},
   "outputs": [],
   "source": [
    "model_name = \"modelDFFF2021\"\n",
    "\n",
    "# create model list\n",
    "models = []\n",
    "directory = path_models\n",
    "for filename in sorted(os.listdir(directory)):\n",
    "    if filename.endswith(\".kv\") and filename.startswith(model_name):\n",
    "         models.append((\"model \" + filename[-4:-3], KeyedVectors.load(os.path.join(directory, filename))))\n",
    "            \n",
    "#evaluation\n",
    "ticks = [\"google_acc\", \"word_pairs\"]\n",
    "data = {}\n",
    "for tick in ticks:\n",
    "    data[tick] = [tick]\n",
    "for (_, model) in models:\n",
    "    google_acc = model.evaluate_word_analogies(datapath(google_analogies))[0]\n",
    "    pvalue, spear, _ = model.evaluate_word_pairs(datapath(word_pairs), delimiter=\"\\t\")\n",
    "    \n",
    "    data[\"google_acc\"].append(google_acc)\n",
    "    data[\"word_pairs\"].append(spear.correlation)\n",
    "    \n",
    "# visualization I\n",
    "\n",
    "fig = plt.figure(figsize=(6,6))\n",
    "ax = fig.add_subplot(111)\n",
    "\n",
    "df_acc = pd.DataFrame([data[\"google_acc\"]],\n",
    "                   columns=['Test'] + [modelname for (modelname, _) in models])\n",
    "df_acc.plot(x='Test',\n",
    "        kind='bar',\n",
    "        stacked=False,\n",
    "        title='',\n",
    "        colormap=\"Spectral\",\n",
    "        ax=ax,\n",
    "        legend=False,\n",
    "        rot=30,\n",
    "        xlabel=\"\",\n",
    "        ylabel=\"accuracy\")\n",
    "\n",
    "plt.legend(loc='center right', bbox_to_anchor=(1.0, 0.5))\n",
    "\n",
    "fig.savefig(path_results + '\\\\model_eval_acc_' + model_name + '.png', dpi=300, bbox_inches = 'tight')\n",
    "\n",
    "# visualization II\n",
    "\n",
    "fig = plt.figure(figsize=(6,6))\n",
    "ax = fig.add_subplot(111)\n",
    "\n",
    "df_spear = pd.DataFrame([data[\"word_pairs\"]],\n",
    "                   columns=['Test'] + [modelname for (modelname, _) in models])\n",
    "df_spear.plot(x='Test',\n",
    "        kind='bar',\n",
    "        stacked=False,\n",
    "        title='',\n",
    "        colormap=\"Spectral\",\n",
    "        ax=ax,\n",
    "        legend=False,\n",
    "        rot=30,\n",
    "        xlabel=\"\",\n",
    "        ylabel=\"correlation score\")\n",
    "\n",
    "plt.legend(loc='center right', bbox_to_anchor=(1.0, 0.5))\n",
    "\n",
    "fig.savefig(path_results + '\\\\model_eval_corr_' + model_name + '.png', dpi=300, bbox_inches = 'tight')"
   ]
  },
  {
   "cell_type": "code",
   "execution_count": 42,
   "id": "a6d4bcc6",
   "metadata": {},
   "outputs": [],
   "source": [
    "model_name = \"modelMittelerde2021\"\n",
    "\n",
    "# create model list\n",
    "models = []\n",
    "directory = path_models\n",
    "for filename in sorted(os.listdir(directory)):\n",
    "    if filename.endswith(\".kv\") and filename.startswith(model_name):\n",
    "         models.append((\"model \" + filename[-4:-3], KeyedVectors.load(os.path.join(directory, filename))))\n",
    "            \n",
    "#evaluation\n",
    "ticks = [\"google_acc\", \"word_pairs\"]\n",
    "data = {}\n",
    "for tick in ticks:\n",
    "    data[tick] = [tick]\n",
    "for (_, model) in models:\n",
    "    google_acc = model.evaluate_word_analogies(datapath(google_analogies))[0]\n",
    "    pvalue, spear, _ = model.evaluate_word_pairs(datapath(word_pairs), delimiter=\"\\t\")\n",
    "    \n",
    "    data[\"google_acc\"].append(google_acc)\n",
    "    data[\"word_pairs\"].append(spear.correlation)\n",
    "    \n",
    "# visualization I\n",
    "\n",
    "fig = plt.figure(figsize=(6,6))\n",
    "ax = fig.add_subplot(111)\n",
    "\n",
    "df_acc = pd.DataFrame([data[\"google_acc\"]],\n",
    "                   columns=['Test'] + [modelname for (modelname, _) in models])\n",
    "df_acc.plot(x='Test',\n",
    "        kind='bar',\n",
    "        stacked=False,\n",
    "        title='',\n",
    "        colormap=\"Spectral\",\n",
    "        ax=ax,\n",
    "        legend=False,\n",
    "        rot=30,\n",
    "        xlabel=\"\",\n",
    "        ylabel=\"accuracy\")\n",
    "\n",
    "plt.legend(loc='center right', bbox_to_anchor=(1.0, 0.5))\n",
    "\n",
    "fig.savefig(path_results + '\\\\model_eval_acc_' + model_name + '.png', dpi=300, bbox_inches = 'tight')\n",
    "\n",
    "# visualization II\n",
    "\n",
    "fig = plt.figure(figsize=(6,6))\n",
    "ax = fig.add_subplot(111)\n",
    "\n",
    "df_spear = pd.DataFrame([data[\"word_pairs\"]],\n",
    "                   columns=['Test'] + [modelname for (modelname, _) in models])\n",
    "df_spear.plot(x='Test',\n",
    "        kind='bar',\n",
    "        stacked=False,\n",
    "        title='',\n",
    "        colormap=\"Spectral\",\n",
    "        ax=ax,\n",
    "        legend=False,\n",
    "        rot=30,\n",
    "        xlabel=\"\",\n",
    "        ylabel=\"correlation score\")\n",
    "\n",
    "plt.legend(loc='center right', bbox_to_anchor=(1.0, 0.5))\n",
    "\n",
    "fig.savefig(path_results + '\\\\model_eval_corr_' + model_name + '.png', dpi=300, bbox_inches = 'tight')"
   ]
  },
  {
   "cell_type": "code",
   "execution_count": 43,
   "id": "e7fb3ff4",
   "metadata": {},
   "outputs": [],
   "source": [
    "model_name = \"modelJackson2021\"\n",
    "\n",
    "# create model list\n",
    "models = []\n",
    "directory = path_models\n",
    "for filename in sorted(os.listdir(directory)):\n",
    "    if filename.endswith(\".kv\") and filename.startswith(model_name):\n",
    "         models.append((\"model \" + filename[-4:-3], KeyedVectors.load(os.path.join(directory, filename))))\n",
    "            \n",
    "#evaluation\n",
    "ticks = [\"google_acc\", \"word_pairs\"]\n",
    "data = {}\n",
    "for tick in ticks:\n",
    "    data[tick] = [tick]\n",
    "for (_, model) in models:\n",
    "    google_acc = model.evaluate_word_analogies(datapath(google_analogies))[0]\n",
    "    pvalue, spear, _ = model.evaluate_word_pairs(datapath(word_pairs), delimiter=\"\\t\")\n",
    "    \n",
    "    data[\"google_acc\"].append(google_acc)\n",
    "    data[\"word_pairs\"].append(spear.correlation)\n",
    "    \n",
    "# visualization I\n",
    "\n",
    "fig = plt.figure(figsize=(6,6))\n",
    "ax = fig.add_subplot(111)\n",
    "\n",
    "df_acc = pd.DataFrame([data[\"google_acc\"]],\n",
    "                   columns=['Test'] + [modelname for (modelname, _) in models])\n",
    "df_acc.plot(x='Test',\n",
    "        kind='bar',\n",
    "        stacked=False,\n",
    "        title='',\n",
    "        colormap=\"Spectral\",\n",
    "        ax=ax,\n",
    "        legend=False,\n",
    "        rot=30,\n",
    "        xlabel=\"\",\n",
    "        ylabel=\"accuracy\")\n",
    "\n",
    "plt.legend(loc='center right', bbox_to_anchor=(1.0, 0.5))\n",
    "\n",
    "fig.savefig(path_results + '\\\\model_eval_acc_' + model_name + '.png', dpi=300, bbox_inches = 'tight')\n",
    "\n",
    "# visualization II\n",
    "\n",
    "fig = plt.figure(figsize=(6,6))\n",
    "ax = fig.add_subplot(111)\n",
    "\n",
    "df_spear = pd.DataFrame([data[\"word_pairs\"]],\n",
    "                   columns=['Test'] + [modelname for (modelname, _) in models])\n",
    "df_spear.plot(x='Test',\n",
    "        kind='bar',\n",
    "        stacked=False,\n",
    "        title='',\n",
    "        colormap=\"Spectral\",\n",
    "        ax=ax,\n",
    "        legend=False,\n",
    "        rot=30,\n",
    "        xlabel=\"\",\n",
    "        ylabel=\"correlation score\")\n",
    "\n",
    "plt.legend(loc='center right', bbox_to_anchor=(1.0, 0.5))\n",
    "\n",
    "fig.savefig(path_results + '\\\\model_eval_corr_' + model_name + '.png', dpi=300, bbox_inches = 'tight')"
   ]
  },
  {
   "cell_type": "code",
   "execution_count": 44,
   "id": "b0bc43a5",
   "metadata": {},
   "outputs": [],
   "source": [
    "model_name = \"modelPanem2021\"\n",
    "\n",
    "# create model list\n",
    "models = []\n",
    "directory = path_models\n",
    "for filename in sorted(os.listdir(directory)):\n",
    "    if filename.endswith(\".kv\") and filename.startswith(model_name):\n",
    "         models.append((\"model \" + filename[-4:-3], KeyedVectors.load(os.path.join(directory, filename))))\n",
    "            \n",
    "#evaluation\n",
    "ticks = [\"google_acc\", \"word_pairs\"]\n",
    "data = {}\n",
    "for tick in ticks:\n",
    "    data[tick] = [tick]\n",
    "for (_, model) in models:\n",
    "    google_acc = model.evaluate_word_analogies(datapath(google_analogies))[0]\n",
    "    pvalue, spear, _ = model.evaluate_word_pairs(datapath(word_pairs), delimiter=\"\\t\")\n",
    "    \n",
    "    data[\"google_acc\"].append(google_acc)\n",
    "    data[\"word_pairs\"].append(spear.correlation)\n",
    "    \n",
    "# visualization I\n",
    "\n",
    "fig = plt.figure(figsize=(6,6))\n",
    "ax = fig.add_subplot(111)\n",
    "\n",
    "df_acc = pd.DataFrame([data[\"google_acc\"]],\n",
    "                   columns=['Test'] + [modelname for (modelname, _) in models])\n",
    "df_acc.plot(x='Test',\n",
    "        kind='bar',\n",
    "        stacked=False,\n",
    "        title='',\n",
    "        colormap=\"Spectral\",\n",
    "        ax=ax,\n",
    "        legend=False,\n",
    "        rot=30,\n",
    "        xlabel=\"\",\n",
    "        ylabel=\"accuracy\")\n",
    "\n",
    "plt.legend(loc='center right', bbox_to_anchor=(1.0, 0.5))\n",
    "\n",
    "fig.savefig(path_results + '\\\\model_eval_acc_' + model_name + '.png', dpi=300, bbox_inches = 'tight')\n",
    "\n",
    "# visualization II\n",
    "\n",
    "fig = plt.figure(figsize=(6,6))\n",
    "ax = fig.add_subplot(111)\n",
    "\n",
    "df_spear = pd.DataFrame([data[\"word_pairs\"]],\n",
    "                   columns=['Test'] + [modelname for (modelname, _) in models])\n",
    "df_spear.plot(x='Test',\n",
    "        kind='bar',\n",
    "        stacked=False,\n",
    "        title='',\n",
    "        colormap=\"Spectral\",\n",
    "        ax=ax,\n",
    "        legend=False,\n",
    "        rot=30,\n",
    "        xlabel=\"\",\n",
    "        ylabel=\"correlation score\")\n",
    "\n",
    "plt.legend(loc='center right', bbox_to_anchor=(1.0, 0.5))\n",
    "\n",
    "fig.savefig(path_results + '\\\\model_eval_corr_' + model_name + '.png', dpi=300, bbox_inches = 'tight')"
   ]
  },
  {
   "cell_type": "code",
   "execution_count": 45,
   "id": "d56332f8",
   "metadata": {},
   "outputs": [],
   "source": [
    "model_name = \"modelPotterOriginals\"\n",
    "\n",
    "# create model list\n",
    "models = []\n",
    "directory = path_models\n",
    "for filename in sorted(os.listdir(directory)):\n",
    "    if filename.endswith(\".kv\") and filename.startswith(model_name):\n",
    "         models.append((\"model \" + filename[-4:-3], KeyedVectors.load(os.path.join(directory, filename))))\n",
    "            \n",
    "#evaluation\n",
    "ticks = [\"google_acc\", \"word_pairs\"]\n",
    "data = {}\n",
    "for tick in ticks:\n",
    "    data[tick] = [tick]\n",
    "for (_, model) in models:\n",
    "    google_acc = model.evaluate_word_analogies(datapath(google_analogies))[0]\n",
    "    pvalue, spear, _ = model.evaluate_word_pairs(datapath(word_pairs), delimiter=\"\\t\")\n",
    "    \n",
    "    data[\"google_acc\"].append(google_acc)\n",
    "    data[\"word_pairs\"].append(spear.correlation)\n",
    "    \n",
    "# visualization I\n",
    "\n",
    "fig = plt.figure(figsize=(6,6))\n",
    "ax = fig.add_subplot(111)\n",
    "\n",
    "df_acc = pd.DataFrame([data[\"google_acc\"]],\n",
    "                   columns=['Test'] + [modelname for (modelname, _) in models])\n",
    "df_acc.plot(x='Test',\n",
    "        kind='bar',\n",
    "        stacked=False,\n",
    "        title='',\n",
    "        colormap=\"Spectral\",\n",
    "        ax=ax,\n",
    "        legend=False,\n",
    "        rot=30,\n",
    "        xlabel=\"\",\n",
    "        ylabel=\"accuracy\")\n",
    "\n",
    "plt.legend(loc='center right', bbox_to_anchor=(1.0, 0.5))\n",
    "\n",
    "fig.savefig(path_results + '\\\\model_eval_acc_' + model_name + '.png', dpi=300, bbox_inches = 'tight')\n",
    "\n",
    "# visualization II\n",
    "\n",
    "fig = plt.figure(figsize=(6,6))\n",
    "ax = fig.add_subplot(111)\n",
    "\n",
    "df_spear = pd.DataFrame([data[\"word_pairs\"]],\n",
    "                   columns=['Test'] + [modelname for (modelname, _) in models])\n",
    "df_spear.plot(x='Test',\n",
    "        kind='bar',\n",
    "        stacked=False,\n",
    "        title='',\n",
    "        colormap=\"Spectral\",\n",
    "        ax=ax,\n",
    "        legend=False,\n",
    "        rot=30,\n",
    "        xlabel=\"\",\n",
    "        ylabel=\"correlation score\")\n",
    "\n",
    "plt.legend(loc='center right', bbox_to_anchor=(1.0, 0.5))\n",
    "\n",
    "fig.savefig(path_results + '\\\\model_eval_corr_' + model_name + '.png', dpi=300, bbox_inches = 'tight')"
   ]
  },
  {
   "cell_type": "markdown",
   "id": "28db7425",
   "metadata": {},
   "source": [
    "# SUMMARIZE INFO"
   ]
  },
  {
   "cell_type": "code",
   "execution_count": 136,
   "id": "256e3a8d",
   "metadata": {},
   "outputs": [
    {
     "data": {
      "text/plain": [
       "92615705"
      ]
     },
     "execution_count": 136,
     "metadata": {},
     "output_type": "execute_result"
    }
   ],
   "source": [
    "# summarize info\n",
    "\n",
    "# word (token) count\n",
    "\n",
    "len(Potter2021_words)"
   ]
  },
  {
   "cell_type": "code",
   "execution_count": 137,
   "id": "72ddb619",
   "metadata": {},
   "outputs": [
    {
     "data": {
      "text/plain": [
       "7879972"
      ]
     },
     "execution_count": 137,
     "metadata": {},
     "output_type": "execute_result"
    }
   ],
   "source": [
    "len(Biss2021_words)"
   ]
  },
  {
   "cell_type": "code",
   "execution_count": 138,
   "id": "ca157716",
   "metadata": {},
   "outputs": [
    {
     "data": {
      "text/plain": [
       "2323804"
      ]
     },
     "execution_count": 138,
     "metadata": {},
     "output_type": "execute_result"
    }
   ],
   "source": [
    "len(WarriorCats2021_words)"
   ]
  },
  {
   "cell_type": "code",
   "execution_count": 139,
   "id": "1df497ed",
   "metadata": {},
   "outputs": [
    {
     "data": {
      "text/plain": [
       "4213801"
      ]
     },
     "execution_count": 139,
     "metadata": {},
     "output_type": "execute_result"
    }
   ],
   "source": [
    "len(DFFF2021_words)"
   ]
  },
  {
   "cell_type": "code",
   "execution_count": 140,
   "id": "d4071a76",
   "metadata": {},
   "outputs": [
    {
     "data": {
      "text/plain": [
       "10630831"
      ]
     },
     "execution_count": 140,
     "metadata": {},
     "output_type": "execute_result"
    }
   ],
   "source": [
    "len(Mittelerde2021_words)"
   ]
  },
  {
   "cell_type": "code",
   "execution_count": 141,
   "id": "8580526a",
   "metadata": {},
   "outputs": [
    {
     "data": {
      "text/plain": [
       "3082836"
      ]
     },
     "execution_count": 141,
     "metadata": {},
     "output_type": "execute_result"
    }
   ],
   "source": [
    "len(Jackson2021_words)"
   ]
  },
  {
   "cell_type": "code",
   "execution_count": 142,
   "id": "530b625b",
   "metadata": {},
   "outputs": [
    {
     "data": {
      "text/plain": [
       "1971107"
      ]
     },
     "execution_count": 142,
     "metadata": {},
     "output_type": "execute_result"
    }
   ],
   "source": [
    "len(Panem2021_words)"
   ]
  },
  {
   "cell_type": "code",
   "execution_count": 143,
   "id": "357bdd94",
   "metadata": {},
   "outputs": [
    {
     "data": {
      "text/plain": [
       "1125168"
      ]
     },
     "execution_count": 143,
     "metadata": {},
     "output_type": "execute_result"
    }
   ],
   "source": [
    "len(PotterOriginals_words)"
   ]
  },
  {
   "cell_type": "code",
   "execution_count": null,
   "id": "b0174974",
   "metadata": {},
   "outputs": [],
   "source": [
    "# info model B\n",
    "\n",
    "print(modelPotter2021B)"
   ]
  },
  {
   "cell_type": "code",
   "execution_count": null,
   "id": "dbd63632",
   "metadata": {},
   "outputs": [],
   "source": [
    "print(modelBiss2021B)"
   ]
  },
  {
   "cell_type": "code",
   "execution_count": null,
   "id": "e9de9fe5",
   "metadata": {},
   "outputs": [],
   "source": [
    "print(modelWarriorCats2021B)"
   ]
  },
  {
   "cell_type": "code",
   "execution_count": null,
   "id": "e1066a6b",
   "metadata": {},
   "outputs": [],
   "source": [
    "print(modelDFFF2021B)"
   ]
  },
  {
   "cell_type": "code",
   "execution_count": null,
   "id": "27302578",
   "metadata": {},
   "outputs": [],
   "source": [
    "print(modelMittelerde2021B)"
   ]
  },
  {
   "cell_type": "code",
   "execution_count": null,
   "id": "757b23fc",
   "metadata": {},
   "outputs": [],
   "source": [
    "print(modelJackson2021B)"
   ]
  },
  {
   "cell_type": "code",
   "execution_count": null,
   "id": "f3585c5b",
   "metadata": {},
   "outputs": [],
   "source": [
    "print(modelPanem2021B)"
   ]
  },
  {
   "cell_type": "code",
   "execution_count": null,
   "id": "0527a99c",
   "metadata": {},
   "outputs": [],
   "source": [
    "print(modelPotterOriginalsB)"
   ]
  },
  {
   "cell_type": "markdown",
   "id": "7557d9ff",
   "metadata": {},
   "source": [
    "# TEST MODELS"
   ]
  },
  {
   "cell_type": "code",
   "execution_count": null,
   "id": "cae6eab4",
   "metadata": {},
   "outputs": [],
   "source": [
    "# test models\n",
    "\n",
    "modelPotter2021B.wv.most_similar(\"held\")"
   ]
  },
  {
   "cell_type": "code",
   "execution_count": null,
   "id": "8e2e30de",
   "metadata": {},
   "outputs": [],
   "source": [
    "modelBiss2021B.wv.most_similar(\"held\")"
   ]
  },
  {
   "cell_type": "code",
   "execution_count": null,
   "id": "cfe44611",
   "metadata": {},
   "outputs": [],
   "source": [
    "modelWarriorCats2021B.wv.most_similar(\"held\")"
   ]
  },
  {
   "cell_type": "code",
   "execution_count": null,
   "id": "662d31b3",
   "metadata": {},
   "outputs": [],
   "source": [
    "modelDFFF2021B.most_similar(\"held\")"
   ]
  },
  {
   "cell_type": "code",
   "execution_count": null,
   "id": "044cdf92",
   "metadata": {},
   "outputs": [],
   "source": [
    "modelMittelerde2021B.wv.most_similar(\"held\")"
   ]
  },
  {
   "cell_type": "code",
   "execution_count": null,
   "id": "fdbb7364",
   "metadata": {},
   "outputs": [],
   "source": [
    "modelJackson2021B.wv.most_similar(\"held\")"
   ]
  },
  {
   "cell_type": "code",
   "execution_count": null,
   "id": "c9589dad",
   "metadata": {},
   "outputs": [],
   "source": [
    "modelPanem2021B.wv.most_similar(\"held\")"
   ]
  },
  {
   "cell_type": "code",
   "execution_count": null,
   "id": "26d75822",
   "metadata": {},
   "outputs": [],
   "source": [
    "modelPotterOriginals2021B.wv.most_similar(\"held\")"
   ]
  }
 ],
 "metadata": {
  "kernelspec": {
   "display_name": "Python 3",
   "language": "python",
   "name": "python3"
  },
  "language_info": {
   "codemirror_mode": {
    "name": "ipython",
    "version": 3
   },
   "file_extension": ".py",
   "mimetype": "text/x-python",
   "name": "python",
   "nbconvert_exporter": "python",
   "pygments_lexer": "ipython3",
   "version": "3.8.8"
  }
 },
 "nbformat": 4,
 "nbformat_minor": 5
}
