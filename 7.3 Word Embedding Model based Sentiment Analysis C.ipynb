{
 "cells": [
  {
   "cell_type": "markdown",
   "id": "20f10a30",
   "metadata": {},
   "source": [
    "Documentation for the Master thesis \"Fanfiction Semantics - A Quantitative Analysis of Sensitive Topics in German Fanfiction\" by Julian Jacopo Häußler, Date of submission: September 19, 2022."
   ]
  },
  {
   "cell_type": "markdown",
   "id": "11550885",
   "metadata": {},
   "source": [
    "# 7.3 Word Embedding Model Based Sentiment Analysis C"
   ]
  },
  {
   "cell_type": "markdown",
   "id": "e1f2afdd",
   "metadata": {},
   "source": [
    "## Overview\n",
    "\n",
    "### - load libraries and read in data\n",
    "### - extract most frequent wors\n",
    "### - visualize emotional profiles"
   ]
  },
  {
   "cell_type": "markdown",
   "id": "483ce430",
   "metadata": {},
   "source": [
    "# LOAD LIBRARIES AND READ IN DATA"
   ]
  },
  {
   "cell_type": "code",
   "execution_count": 1,
   "id": "47f88e58",
   "metadata": {},
   "outputs": [],
   "source": [
    "# load libraries\n",
    "\n",
    "import matplotlib.pyplot as plt\n",
    "import matplotlib.patches as mpatches\n",
    "%matplotlib inline\n",
    "import pandas as pd\n",
    "import numpy as np\n",
    "import math\n",
    "import pickle\n",
    "from gensim.models import KeyedVectors\n",
    "from sklearn.metrics.pairwise import cosine_similarity\n",
    "\n",
    "from nltk.corpus import stopwords\n",
    "from collections import Counter"
   ]
  },
  {
   "cell_type": "code",
   "execution_count": 2,
   "id": "02f1bbdc",
   "metadata": {},
   "outputs": [],
   "source": [
    "# define paths\n",
    "\n",
    "path_data = r'C:\\Users\\Public\\Data\\Masterarbeit\\data_bawl'\n",
    "path_models = r'C:\\Users\\Public\\Data\\Masterarbeit\\models_3.0'\n",
    "path_pickled = r'C:\\Users\\Public\\Data\\Masterarbeit\\results\\bawl_cluster'\n",
    "path_sentiment = r'C:\\Users\\Public\\Data\\Masterarbeit\\results\\7.3 Word Embedding Model based Sentiment Analyses'"
   ]
  },
  {
   "cell_type": "code",
   "execution_count": 3,
   "id": "ac73475d",
   "metadata": {},
   "outputs": [],
   "source": [
    "# load models\n",
    "\n",
    "modelPotter = KeyedVectors.load(path_models + '\\\\modelPotter2021H.kv')\n",
    "\n",
    "modelBiss = KeyedVectors.load(path_models + '\\\\modelBiss2021H.kv')\n",
    "\n",
    "modelWarriorCats = KeyedVectors.load(path_models + '\\\\modelWarriorCats2021H.kv')\n",
    "\n",
    "modelDFFF = KeyedVectors.load(path_models + '\\\\modelDFFF2021H.kv')\n",
    "\n",
    "modelMittelerde = KeyedVectors.load(path_models + '\\\\modelMittelerde2021H.kv')\n",
    "\n",
    "modelJackson = KeyedVectors.load(path_models + '\\\\modelJackson2021H.kv')\n",
    "\n",
    "modelPanem = KeyedVectors.load(path_models + '\\\\modelPanem2021H.kv')\n",
    "\n",
    "modelPotterOriginals = KeyedVectors.load(path_models + '\\\\modelPotterOriginalsH.kv')"
   ]
  },
  {
   "cell_type": "code",
   "execution_count": 4,
   "id": "f1c40525",
   "metadata": {},
   "outputs": [],
   "source": [
    "# load corpora\n",
    "\n",
    "with open(r'C:\\Users\\Public\\Data\\Masterarbeit\\corpora_3.0\\\\Potter2021_words.pkl', 'rb') as f:\n",
    "    Potter_words = pickle.load(f)\n",
    "    \n",
    "with open(r'C:\\Users\\Public\\Data\\Masterarbeit\\corpora_3.0\\\\Biss2021_words.pkl', 'rb') as f:\n",
    "    Biss_words = pickle.load(f)\n",
    "\n",
    "with open(r'C:\\Users\\Public\\Data\\Masterarbeit\\corpora_3.0\\\\WarriorCats2021_words.pkl', 'rb') as f:\n",
    "    WarriorCats_words = pickle.load(f)\n",
    "    \n",
    "with open(r'C:\\Users\\Public\\Data\\Masterarbeit\\corpora_3.0\\\\DFFF2021_words.pkl', 'rb') as f:\n",
    "    DFFF_words = pickle.load(f)\n",
    "\n",
    "with open(r'C:\\Users\\Public\\Data\\Masterarbeit\\corpora_3.0\\\\Mittelerde2021_words.pkl', 'rb') as f:\n",
    "    Mittelerde_words = pickle.load(f)\n",
    "\n",
    "with open(r'C:\\Users\\Public\\Data\\Masterarbeit\\corpora_3.0\\\\Jackson2021_words.pkl', 'rb') as f:\n",
    "    Jackson_words = pickle.load(f)\n",
    "\n",
    "with open(r'C:\\Users\\Public\\Data\\Masterarbeit\\corpora_3.0\\\\Panem2021_words.pkl', 'rb') as f:\n",
    "    Panem_words = pickle.load(f)\n",
    "\n",
    "with open(r'C:\\Users\\Public\\Data\\Masterarbeit\\corpora_3.0\\\\PotterOriginals_words.pkl', 'rb') as f:\n",
    "    PotterOriginals_words = pickle.load(f)"
   ]
  },
  {
   "cell_type": "markdown",
   "id": "996f6da4",
   "metadata": {},
   "source": [
    "# EXTRACT MOST FREQUENT WORDS"
   ]
  },
  {
   "cell_type": "code",
   "execution_count": 5,
   "id": "a07af82e",
   "metadata": {},
   "outputs": [],
   "source": [
    "stopwords_german = stopwords.words(\"german\")"
   ]
  },
  {
   "cell_type": "code",
   "execution_count": 6,
   "id": "a9c1a21f",
   "metadata": {},
   "outputs": [],
   "source": [
    "Potter_words_clean = [word for word in Potter_words if word not in stopwords_german]\n",
    "\n",
    "Potter_top500 = Counter(Potter_words_clean).most_common(500)\n",
    "\n",
    "Potter_top500_words = [i[0] for i in Potter_top500]"
   ]
  },
  {
   "cell_type": "code",
   "execution_count": 7,
   "id": "8807a2e6",
   "metadata": {},
   "outputs": [
    {
     "data": {
      "text/plain": [
       "['“', '„', 'harry', 'sehen', 'sagen']"
      ]
     },
     "execution_count": 7,
     "metadata": {},
     "output_type": "execute_result"
    }
   ],
   "source": [
    "Potter_top500_words[:5]"
   ]
  },
  {
   "cell_type": "code",
   "execution_count": 8,
   "id": "dd5abcad",
   "metadata": {},
   "outputs": [],
   "source": [
    "Biss_words_clean = [word for word in Biss_words if word not in stopwords_german]\n",
    "\n",
    "Biss_top500 = Counter(Biss_words_clean).most_common(500)\n",
    "\n",
    "Biss_top500_words = [i[0] for i in Biss_top500]"
   ]
  },
  {
   "cell_type": "code",
   "execution_count": 9,
   "id": "f9bafb64",
   "metadata": {},
   "outputs": [],
   "source": [
    "WarriorCats_words_clean = [word for word in WarriorCats_words if word not in stopwords_german]\n",
    "\n",
    "WarriorCats_top500 = Counter(WarriorCats_words_clean).most_common(500)\n",
    "\n",
    "WarriorCats_top500_words = [i[0] for i in WarriorCats_top500]"
   ]
  },
  {
   "cell_type": "code",
   "execution_count": 10,
   "id": "989769d0",
   "metadata": {},
   "outputs": [],
   "source": [
    "DFFF_words_clean = [word for word in DFFF_words if word not in stopwords_german]\n",
    "\n",
    "DFFF_top500 = Counter(DFFF_words_clean).most_common(500)\n",
    "\n",
    "DFFF_top500_words = [i[0] for i in DFFF_top500]"
   ]
  },
  {
   "cell_type": "code",
   "execution_count": 11,
   "id": "c167e6d6",
   "metadata": {},
   "outputs": [],
   "source": [
    "Mittelerde_words_clean = [word for word in Mittelerde_words if word not in stopwords_german]\n",
    "\n",
    "Mittelerde_top500 = Counter(Mittelerde_words_clean).most_common(500)\n",
    "\n",
    "Mittelerde_top500_words = [i[0] for i in Mittelerde_top500]"
   ]
  },
  {
   "cell_type": "code",
   "execution_count": 12,
   "id": "90500be5",
   "metadata": {},
   "outputs": [],
   "source": [
    "Jackson_words_clean = [word for word in Jackson_words if word not in stopwords_german]\n",
    "\n",
    "Jackson_top500 = Counter(Jackson_words_clean).most_common(500)\n",
    "\n",
    "Jackson_top500_words = [i[0] for i in Jackson_top500]"
   ]
  },
  {
   "cell_type": "code",
   "execution_count": 13,
   "id": "778a4f15",
   "metadata": {},
   "outputs": [],
   "source": [
    "Panem_words_clean = [word for word in Panem_words if word not in stopwords_german]\n",
    "\n",
    "Panem_top500 = Counter(Panem_words_clean).most_common(500)\n",
    "\n",
    "Panem_top500_words = [i[0] for i in Panem_top500]"
   ]
  },
  {
   "cell_type": "code",
   "execution_count": 14,
   "id": "a8261b91",
   "metadata": {},
   "outputs": [],
   "source": [
    "PotterOriginals_words_clean = [word for word in PotterOriginals_words if word not in stopwords_german]\n",
    "\n",
    "PotterOriginals_top500 = Counter(PotterOriginals_words_clean).most_common(500)\n",
    "\n",
    "PotterOriginals_top500_words = [i[0] for i in PotterOriginals_top500]"
   ]
  },
  {
   "cell_type": "code",
   "execution_count": 15,
   "id": "291ec8f5",
   "metadata": {},
   "outputs": [
    {
     "data": {
      "text/plain": [
       "['harry', 'sagen', ',', '–', '…']"
      ]
     },
     "execution_count": 15,
     "metadata": {},
     "output_type": "execute_result"
    }
   ],
   "source": [
    "PotterOriginals_top500_words[:5]"
   ]
  },
  {
   "cell_type": "markdown",
   "id": "8cbd1502",
   "metadata": {},
   "source": [
    "# VISUALIZE EMOTIONAL PROFILES"
   ]
  },
  {
   "cell_type": "markdown",
   "id": "a0e77967",
   "metadata": {},
   "source": [
    "The following code blocks are taken from Brottrager et al.'s \"Character Shifts in Harry Potter Fanfictions\", the relevant Jupyter Notebook can be found under https://github.com/jbrottrager/character-shifts-HPFFS/blob/main/scripts/10_emotionalProfiles.ipynb (last viewed: 2022/09/18)\n"
   ]
  },
  {
   "cell_type": "code",
   "execution_count": 16,
   "id": "6897357e",
   "metadata": {},
   "outputs": [],
   "source": [
    "# Define emotional potential function:\n",
    "\n",
    "def emotional_potential(valence, arousal):\n",
    "    return abs(valence) * arousal"
   ]
  },
  {
   "cell_type": "code",
   "execution_count": 17,
   "id": "4ed8cb1d",
   "metadata": {},
   "outputs": [],
   "source": [
    "# Define low/high valence and low/high arousal centroids\n",
    "\n",
    "# Potter\n",
    "with open(path_pickled + '\\\\high_val_Potter.pkl', 'rb') as f:\n",
    "    high_valence_cluster = pickle.load(f)\n",
    "centroid_high_valence_Potter = np.average([modelPotter.get_vector(word) for word in high_valence_cluster], axis=0)\n",
    "\n",
    "with open(path_pickled + '\\\\low_val_Potter.pkl', 'rb') as f:\n",
    "    low_valence_cluster = pickle.load(f)\n",
    "centroid_low_valence_Potter = np.average([modelPotter.get_vector(word) for word in low_valence_cluster], axis=0)\n",
    "\n",
    "with open(path_pickled + '\\\\high_arousal_Potter.pkl', 'rb') as f:\n",
    "    high_arousal_cluster = pickle.load(f)\n",
    "centroid_high_arousal_Potter = np.average([modelPotter.get_vector(word) for word in high_arousal_cluster], axis=0)\n",
    "\n",
    "with open(path_pickled + '\\\\low_arousal_Potter.pkl', 'rb') as f:\n",
    "    low_arousal_cluster = pickle.load(f)\n",
    "centroid_low_arousal_Potter = np.average([modelPotter.get_vector(word) for word in low_arousal_cluster], axis=0)"
   ]
  },
  {
   "cell_type": "code",
   "execution_count": 18,
   "id": "c93f109f",
   "metadata": {},
   "outputs": [],
   "source": [
    "# Define low/high valence and low/high arousal centroids\n",
    "\n",
    "# Biss\n",
    "with open(path_pickled + '\\\\high_val_Biss.pkl', 'rb') as f:\n",
    "    high_valence_cluster = pickle.load(f)\n",
    "centroid_high_valence_Biss = np.average([modelBiss.get_vector(word) for word in high_valence_cluster], axis=0)\n",
    "\n",
    "with open(path_pickled + '\\\\low_val_Biss.pkl', 'rb') as f:\n",
    "    low_valence_cluster = pickle.load(f)\n",
    "centroid_low_valence_Biss = np.average([modelBiss.get_vector(word) for word in low_valence_cluster], axis=0)\n",
    "\n",
    "with open(path_pickled + '\\\\high_arousal_Biss.pkl', 'rb') as f:\n",
    "    high_arousal_cluster = pickle.load(f)\n",
    "centroid_high_arousal_Biss = np.average([modelBiss.get_vector(word) for word in high_arousal_cluster], axis=0)\n",
    "\n",
    "with open(path_pickled + '\\\\low_arousal_Biss.pkl', 'rb') as f:\n",
    "    low_arousal_cluster = pickle.load(f)\n",
    "centroid_low_arousal_Biss = np.average([modelBiss.get_vector(word) for word in low_arousal_cluster], axis=0)"
   ]
  },
  {
   "cell_type": "code",
   "execution_count": 19,
   "id": "5ef5728c",
   "metadata": {},
   "outputs": [],
   "source": [
    "# Define low/high valence and low/high arousal centroids\n",
    "\n",
    "# WarriorCats\n",
    "with open(path_pickled + '\\\\high_val_WarriorCats.pkl', 'rb') as f:\n",
    "    high_valence_cluster = pickle.load(f)\n",
    "centroid_high_valence_WarriorCats = np.average([modelWarriorCats.get_vector(word) for word in high_valence_cluster], axis=0)\n",
    "\n",
    "with open(path_pickled + '\\\\low_val_WarriorCats.pkl', 'rb') as f:\n",
    "    low_valence_cluster = pickle.load(f)\n",
    "centroid_low_valence_WarriorCats = np.average([modelWarriorCats.get_vector(word) for word in low_valence_cluster], axis=0)\n",
    "\n",
    "with open(path_pickled + '\\\\high_arousal_WarriorCats.pkl', 'rb') as f:\n",
    "    high_arousal_cluster = pickle.load(f)\n",
    "centroid_high_arousal_WarriorCats = np.average([modelWarriorCats.get_vector(word) for word in high_arousal_cluster], axis=0)\n",
    "\n",
    "with open(path_pickled + '\\\\low_arousal_WarriorCats.pkl', 'rb') as f:\n",
    "    low_arousal_cluster = pickle.load(f)\n",
    "centroid_low_arousal_WarriorCats = np.average([modelWarriorCats.get_vector(word) for word in low_arousal_cluster], axis=0)"
   ]
  },
  {
   "cell_type": "code",
   "execution_count": 20,
   "id": "aa29bd7e",
   "metadata": {},
   "outputs": [],
   "source": [
    "# Define low/high valence and low/high arousal centroids\n",
    "\n",
    "# DFFF\n",
    "with open(path_pickled + '\\\\high_val_DFFF.pkl', 'rb') as f:\n",
    "    high_valence_cluster = pickle.load(f)\n",
    "centroid_high_valence_DFFF = np.average([modelDFFF.get_vector(word) for word in high_valence_cluster], axis=0)\n",
    "\n",
    "with open(path_pickled + '\\\\low_val_DFFF.pkl', 'rb') as f:\n",
    "    low_valence_cluster = pickle.load(f)\n",
    "centroid_low_valence_DFFF = np.average([modelDFFF.get_vector(word) for word in low_valence_cluster], axis=0)\n",
    "\n",
    "with open(path_pickled + '\\\\high_arousal_DFFF.pkl', 'rb') as f:\n",
    "    high_arousal_cluster = pickle.load(f)\n",
    "centroid_high_arousal_DFFF = np.average([modelDFFF.get_vector(word) for word in high_arousal_cluster], axis=0)\n",
    "\n",
    "with open(path_pickled + '\\\\low_arousal_DFFF.pkl', 'rb') as f:\n",
    "    low_arousal_cluster = pickle.load(f)\n",
    "centroid_low_arousal_DFFF = np.average([modelDFFF.get_vector(word) for word in low_arousal_cluster], axis=0)"
   ]
  },
  {
   "cell_type": "code",
   "execution_count": 21,
   "id": "d3b013d4",
   "metadata": {},
   "outputs": [],
   "source": [
    "# Define low/high valence and low/high arousal centroids\n",
    "\n",
    "# Mittelerde\n",
    "with open(path_pickled + '\\\\high_val_Mittelerde.pkl', 'rb') as f:\n",
    "    high_valence_cluster = pickle.load(f)\n",
    "centroid_high_valence_Mittelerde = np.average([modelMittelerde.get_vector(word) for word in high_valence_cluster], axis=0)\n",
    "\n",
    "with open(path_pickled + '\\\\low_val_Mittelerde.pkl', 'rb') as f:\n",
    "    low_valence_cluster = pickle.load(f)\n",
    "centroid_low_valence_Mittelerde = np.average([modelMittelerde.get_vector(word) for word in low_valence_cluster], axis=0)\n",
    "\n",
    "with open(path_pickled + '\\\\high_arousal_Mittelerde.pkl', 'rb') as f:\n",
    "    high_arousal_cluster = pickle.load(f)\n",
    "centroid_high_arousal_Mittelerde = np.average([modelMittelerde.get_vector(word) for word in high_arousal_cluster], axis=0)\n",
    "\n",
    "with open(path_pickled + '\\\\low_arousal_Mittelerde.pkl', 'rb') as f:\n",
    "    low_arousal_cluster = pickle.load(f)\n",
    "centroid_low_arousal_Mittelerde = np.average([modelMittelerde.get_vector(word) for word in low_arousal_cluster], axis=0)"
   ]
  },
  {
   "cell_type": "code",
   "execution_count": 22,
   "id": "e732b25f",
   "metadata": {},
   "outputs": [],
   "source": [
    "# Define low/high valence and low/high arousal centroids\n",
    "\n",
    "# Jackson\n",
    "with open(path_pickled + '\\\\high_val_Jackson.pkl', 'rb') as f:\n",
    "    high_valence_cluster = pickle.load(f)\n",
    "centroid_high_valence_Jackson = np.average([modelJackson.get_vector(word) for word in high_valence_cluster], axis=0)\n",
    "\n",
    "with open(path_pickled + '\\\\low_val_Jackson.pkl', 'rb') as f:\n",
    "    low_valence_cluster = pickle.load(f)\n",
    "centroid_low_valence_Jackson = np.average([modelJackson.get_vector(word) for word in low_valence_cluster], axis=0)\n",
    "\n",
    "with open(path_pickled + '\\\\high_arousal_Jackson.pkl', 'rb') as f:\n",
    "    high_arousal_cluster = pickle.load(f)\n",
    "centroid_high_arousal_Jackson = np.average([modelJackson.get_vector(word) for word in high_arousal_cluster], axis=0)\n",
    "\n",
    "with open(path_pickled + '\\\\low_arousal_Jackson.pkl', 'rb') as f:\n",
    "    low_arousal_cluster = pickle.load(f)\n",
    "centroid_low_arousal_Jackson = np.average([modelJackson.get_vector(word) for word in low_arousal_cluster], axis=0)"
   ]
  },
  {
   "cell_type": "code",
   "execution_count": 23,
   "id": "e7a2bd9e",
   "metadata": {},
   "outputs": [],
   "source": [
    "# Define low/high valence and low/high arousal centroids\n",
    "\n",
    "# Panem\n",
    "with open(path_pickled + '\\\\high_val_Panem.pkl', 'rb') as f:\n",
    "    high_valence_cluster = pickle.load(f)\n",
    "centroid_high_valence_Panem = np.average([modelPanem.get_vector(word) for word in high_valence_cluster], axis=0)\n",
    "\n",
    "with open(path_pickled + '\\\\low_val_Panem.pkl', 'rb') as f:\n",
    "    low_valence_cluster = pickle.load(f)\n",
    "centroid_low_valence_Panem = np.average([modelPanem.get_vector(word) for word in low_valence_cluster], axis=0)\n",
    "\n",
    "with open(path_pickled + '\\\\high_arousal_Panem.pkl', 'rb') as f:\n",
    "    high_arousal_cluster = pickle.load(f)\n",
    "centroid_high_arousal_Panem = np.average([modelPanem.get_vector(word) for word in high_arousal_cluster], axis=0)\n",
    "\n",
    "with open(path_pickled + '\\\\low_arousal_Panem.pkl', 'rb') as f:\n",
    "    low_arousal_cluster = pickle.load(f)\n",
    "centroid_low_arousal_Panem = np.average([modelPanem.get_vector(word) for word in low_arousal_cluster], axis=0)"
   ]
  },
  {
   "cell_type": "code",
   "execution_count": 24,
   "id": "be38d60f",
   "metadata": {},
   "outputs": [],
   "source": [
    "# Define low/high valence and low/high arousal centroids\n",
    "\n",
    "# Panem\n",
    "with open(path_pickled + '\\\\high_val_Panem.pkl', 'rb') as f:\n",
    "    high_valence_cluster = pickle.load(f)\n",
    "centroid_high_valence_Panem = np.average([modelPanem.get_vector(word) for word in high_valence_cluster], axis=0)\n",
    "\n",
    "with open(path_pickled + '\\\\low_val_Panem.pkl', 'rb') as f:\n",
    "    low_valence_cluster = pickle.load(f)\n",
    "centroid_low_valence_Panem = np.average([modelPanem.get_vector(word) for word in low_valence_cluster], axis=0)\n",
    "\n",
    "with open(path_pickled + '\\\\high_arousal_Panem.pkl', 'rb') as f:\n",
    "    high_arousal_cluster = pickle.load(f)\n",
    "centroid_high_arousal_Panem = np.average([modelPanem.get_vector(word) for word in high_arousal_cluster], axis=0)\n",
    "\n",
    "with open(path_pickled + '\\\\low_arousal_Panem.pkl', 'rb') as f:\n",
    "    low_arousal_cluster = pickle.load(f)\n",
    "centroid_low_arousal_Panem = np.average([modelPanem.get_vector(word) for word in low_arousal_cluster], axis=0)"
   ]
  },
  {
   "cell_type": "code",
   "execution_count": 25,
   "id": "be86ee7f",
   "metadata": {},
   "outputs": [],
   "source": [
    "# Define low/high valence and low/high arousal centroids\n",
    "\n",
    "# PotterOriginals\n",
    "with open(path_pickled + '\\\\high_val_PotterOriginals.pkl', 'rb') as f:\n",
    "    high_valence_cluster = pickle.load(f)\n",
    "centroid_high_valence_PotterOriginals = np.average([modelPotterOriginals.get_vector(word) for word in high_valence_cluster], axis=0)\n",
    "\n",
    "with open(path_pickled + '\\\\low_val_PotterOriginals.pkl', 'rb') as f:\n",
    "    low_valence_cluster = pickle.load(f)\n",
    "centroid_low_valence_PotterOriginals = np.average([modelPotterOriginals.get_vector(word) for word in low_valence_cluster], axis=0)\n",
    "\n",
    "with open(path_pickled + '\\\\high_arousal_PotterOriginals.pkl', 'rb') as f:\n",
    "    high_arousal_cluster = pickle.load(f)\n",
    "centroid_high_arousal_PotterOriginals = np.average([modelPotterOriginals.get_vector(word) for word in high_arousal_cluster], axis=0)\n",
    "\n",
    "with open(path_pickled + '\\\\low_arousal_PotterOriginals.pkl', 'rb') as f:\n",
    "    low_arousal_cluster = pickle.load(f)\n",
    "centroid_low_arousal_PotterOriginals = np.average([modelPotterOriginals.get_vector(word) for word in low_arousal_cluster], axis=0)"
   ]
  },
  {
   "cell_type": "code",
   "execution_count": 26,
   "id": "dd19765a",
   "metadata": {},
   "outputs": [],
   "source": [
    "# Define emotional distance function\n",
    "\n",
    "def emo_distance(word, model, aspect = \"valence\", centroid_choice = \"fanfiction\"):\n",
    "    if centroid_choice == \"Potter\":\n",
    "        if aspect == \"valence\":\n",
    "            high = cosine_similarity([centroid_high_valence_Potter,model.get_vector(word)], dense_output=False)[0,1]\n",
    "            low = cosine_similarity([centroid_low_valence_Potter,model.get_vector(word)], dense_output=False)[0,1]\n",
    "        if aspect == \"arousal\":\n",
    "            high = cosine_similarity([centroid_high_arousal_Potter,model.get_vector(word)], dense_output=False)[0,1]\n",
    "            low = cosine_similarity([centroid_low_arousal_Potter,model.get_vector(word)], dense_output=False)[0,1]\n",
    "    \n",
    "    if centroid_choice == \"Biss\":\n",
    "        if aspect == \"valence\":\n",
    "            high = cosine_similarity([centroid_high_valence_Biss,model.get_vector(word)], dense_output=False)[0,1]\n",
    "            low = cosine_similarity([centroid_low_valence_Biss,model.get_vector(word)], dense_output=False)[0,1]\n",
    "        if aspect == \"arousal\":\n",
    "            high = cosine_similarity([centroid_high_arousal_Biss,model.get_vector(word)], dense_output=False)[0,1]\n",
    "            low = cosine_similarity([centroid_low_arousal_Biss,model.get_vector(word)], dense_output=False)[0,1]\n",
    "\n",
    "    if centroid_choice == \"WarriorCats\":\n",
    "        if aspect == \"valence\":\n",
    "            high = cosine_similarity([centroid_high_valence_WarriorCats,model.get_vector(word)], dense_output=False)[0,1]\n",
    "            low = cosine_similarity([centroid_low_valence_WarriorCats,model.get_vector(word)], dense_output=False)[0,1]\n",
    "        if aspect == \"arousal\":\n",
    "            high = cosine_similarity([centroid_high_arousal_WarriorCats,model.get_vector(word)], dense_output=False)[0,1]\n",
    "            low = cosine_similarity([centroid_low_arousal_WarriorCats,model.get_vector(word)], dense_output=False)[0,1]\n",
    "\n",
    "    if centroid_choice == \"DFFF\":\n",
    "        if aspect == \"valence\":\n",
    "            high = cosine_similarity([centroid_high_valence_DFFF,model.get_vector(word)], dense_output=False)[0,1]\n",
    "            low = cosine_similarity([centroid_low_valence_DFFF,model.get_vector(word)], dense_output=False)[0,1]\n",
    "        if aspect == \"arousal\":\n",
    "            high = cosine_similarity([centroid_high_arousal_DFFF,model.get_vector(word)], dense_output=False)[0,1]\n",
    "            low = cosine_similarity([centroid_low_arousal_DFFF,model.get_vector(word)], dense_output=False)[0,1]\n",
    "            \n",
    "    if centroid_choice == \"Mittelerde\":\n",
    "        if aspect == \"valence\":\n",
    "            high = cosine_similarity([centroid_high_valence_Mittelerde,model.get_vector(word)], dense_output=False)[0,1]\n",
    "            low = cosine_similarity([centroid_low_valence_Mittelerde,model.get_vector(word)], dense_output=False)[0,1]\n",
    "        if aspect == \"arousal\":\n",
    "            high = cosine_similarity([centroid_high_arousal_Mittelerde,model.get_vector(word)], dense_output=False)[0,1]\n",
    "            low = cosine_similarity([centroid_low_arousal_Mittelerde,model.get_vector(word)], dense_output=False)[0,1]\n",
    "            \n",
    "    if centroid_choice == \"Jackson\":\n",
    "        if aspect == \"valence\":\n",
    "            high = cosine_similarity([centroid_high_valence_Jackson,model.get_vector(word)], dense_output=False)[0,1]\n",
    "            low = cosine_similarity([centroid_low_valence_Jackson,model.get_vector(word)], dense_output=False)[0,1]\n",
    "        if aspect == \"arousal\":\n",
    "            high = cosine_similarity([centroid_high_arousal_Jackson,model.get_vector(word)], dense_output=False)[0,1]\n",
    "            low = cosine_similarity([centroid_low_arousal_Jackson,model.get_vector(word)], dense_output=False)[0,1]\n",
    "        \n",
    "    if centroid_choice == \"Panem\":\n",
    "        if aspect == \"valence\":\n",
    "            high = cosine_similarity([centroid_high_valence_Panem,model.get_vector(word)], dense_output=False)[0,1]\n",
    "            low = cosine_similarity([centroid_low_valence_Panem,model.get_vector(word)], dense_output=False)[0,1]\n",
    "        if aspect == \"arousal\":\n",
    "            high = cosine_similarity([centroid_high_arousal_Panem,model.get_vector(word)], dense_output=False)[0,1]\n",
    "            low = cosine_similarity([centroid_low_arousal_Panem,model.get_vector(word)], dense_output=False)[0,1]\n",
    "\n",
    "    if centroid_choice == \"PotterOriginals\":\n",
    "        if aspect == \"valence\":\n",
    "            high = cosine_similarity([centroid_high_valence_PotterOriginals,model.get_vector(word)], dense_output=False)[0,1]\n",
    "            low = cosine_similarity([centroid_low_valence_PotterOriginals,model.get_vector(word)], dense_output=False)[0,1]\n",
    "        if aspect == \"arousal\":\n",
    "            high = cosine_similarity([centroid_high_arousal_PotterOriginals,model.get_vector(word)], dense_output=False)[0,1]\n",
    "            low = cosine_similarity([centroid_low_arousal_PotterOriginals,model.get_vector(word)], dense_output=False)[0,1]           \n",
    "\n",
    "    return (high - low)"
   ]
  },
  {
   "cell_type": "code",
   "execution_count": 27,
   "id": "aac1867a",
   "metadata": {},
   "outputs": [],
   "source": [
    "# sensitive topics\n",
    "\n",
    "keywords = [\"angreifen\",\"töten\",\"küssen\",\"erregen\"]"
   ]
  },
  {
   "cell_type": "markdown",
   "id": "07da358b",
   "metadata": {},
   "source": [
    "# 1. POTTER"
   ]
  },
  {
   "cell_type": "code",
   "execution_count": 28,
   "id": "2dc4f173",
   "metadata": {},
   "outputs": [
    {
     "name": "stdout",
     "output_type": "stream",
     "text": [
      "Minimal Valence: -0.54564327\n",
      "Maximal Valence: 0.37088582\n",
      "Minimal Arousal: -0.34967783\n",
      "Maximal Arousal: 0.38014317\n",
      "Minimal Potential: -0.034327127\n",
      "Maximal Potential: 0.1822775\n"
     ]
    },
    {
     "data": {
      "image/png": "[encoded data removed]",
      "text/plain": [
       "<Figure size 1152x576 with 1 Axes>"
      ]
     },
     "metadata": {
      "needs_background": "light"
     },
     "output_type": "display_data"
    }
   ],
   "source": [
    "for keyword in keywords:\n",
    "    if keyword not in Potter_top500_words:\n",
    "        Potter_top500_words.append(keyword)\n",
    "\n",
    "# Dictionary containing valence/arousal/emotional potential for top 100 most frequent characters:\n",
    "    \n",
    "profile_dict_Potter = {}\n",
    "valence_list = []\n",
    "arousal_list = []\n",
    "potential_list = []\n",
    "\n",
    "for word in Potter_top500_words:\n",
    "    try:\n",
    "        valence = emo_distance(word, modelPotter, \"valence\", \"Potter\")\n",
    "        valence_list.append(valence)\n",
    "        arousal = emo_distance(word, modelPotter, \"arousal\", \"Potter\")\n",
    "        arousal_list.append(arousal)\n",
    "        potential = emotional_potential(valence, arousal)\n",
    "        potential_list.append(potential)\n",
    "        profile_dict_Potter[word] = (valence, arousal, potential)\n",
    "    except:\n",
    "        continue\n",
    "\n",
    "# Min/Max values of valence/arousal/emotional potential:\n",
    "\n",
    "min_valence_Potter = min(valence_list)\n",
    "max_valence_Potter = max(valence_list)\n",
    "min_arousal_Potter = min(arousal_list)\n",
    "max_arousal_Potter = max(arousal_list)\n",
    "min_potential_Potter = min(potential_list)\n",
    "max_potential_Potter = max(potential_list)\n",
    "\n",
    "print(\"Minimal Valence: \" + str(min_valence_Potter))\n",
    "print(\"Maximal Valence: \" + str(max_valence_Potter))\n",
    "print(\"Minimal Arousal: \" + str(min_arousal_Potter))\n",
    "print(\"Maximal Arousal: \" + str(max_arousal_Potter))\n",
    "print(\"Minimal Potential: \" + str(min_potential_Potter))\n",
    "print(\"Maximal Potential: \" + str(max_potential_Potter))\n",
    "\n",
    "# Lists containing percentile of chosen characters for valence/arousal/emotional potential:\n",
    "\n",
    "\n",
    "\n",
    "valence_list = []\n",
    "arousal_list = []\n",
    "potential_list = []\n",
    "for keyword in keywords:\n",
    "    valence_list.append(float(profile_dict_Potter[keyword][0] - min_valence_Potter) / (max_valence_Potter - min_valence_Potter))\n",
    "    arousal_list.append(float(profile_dict_Potter[keyword][1] - min_arousal_Potter) / (max_arousal_Potter - min_arousal_Potter))\n",
    "    potential_list.append(float(profile_dict_Potter[keyword][2] - min_potential_Potter) / (max_potential_Potter - min_potential_Potter))\n",
    "\n",
    "# Grouped bar plot for valence/arousal/emotional potential:\n",
    "\n",
    "x = np.arange(len(keywords))\n",
    "\n",
    "fig = plt.figure(figsize=(16,8))\n",
    "ax = fig.add_subplot(111)\n",
    "\n",
    "bar1 = ax.bar(x + 0.00, potential_list, color='blue', width=0.25, label='emotional potential')\n",
    "bar2 = ax.bar(x + 0.25, valence_list, color='orange', width=0.25, label=\"valence\")\n",
    "bar3 = ax.bar(x + 0.5, arousal_list, color='grey', width=0.25, label=\"arousal\")\n",
    "\n",
    "plt.xlabel('keyword', fontweight='bold')\n",
    "plt.xticks([r + 0.25 for r in range(len(keywords))], keywords, fontsize=8)\n",
    "plt.ylabel('normalized score', fontweight='bold')\n",
    "plt.yticks(np.arange(0, 1, 0.1))\n",
    "\n",
    "ax.legend(prop={'size': 16})\n",
    "\n",
    "ax.bar_label(bar1, padding=3, fmt='%.2f', fontsize=8)\n",
    "ax.bar_label(bar2, padding=3, fmt='%.2f', fontsize=8)\n",
    "ax.bar_label(bar3, padding=3, fmt='%.2f', fontsize=8)\n",
    "\n",
    "plt.show()\n",
    "\n",
    "fig.savefig(path_sentiment + '\\\\keywords_barplot_Potter.png', dpi=300, bbox_inches = 'tight')"
   ]
  },
  {
   "cell_type": "markdown",
   "id": "2b8b611c",
   "metadata": {},
   "source": [
    "## 2. Biss"
   ]
  },
  {
   "cell_type": "code",
   "execution_count": 29,
   "id": "e78f3e06",
   "metadata": {},
   "outputs": [
    {
     "name": "stdout",
     "output_type": "stream",
     "text": [
      "Minimal Valence: -0.49973366\n",
      "Maximal Valence: 0.34942967\n",
      "Minimal Arousal: -0.44157246\n",
      "Maximal Arousal: 0.30736396\n",
      "Minimal Potential: -0.11197534\n",
      "Maximal Potential: 0.15360011\n"
     ]
    },
    {
     "data": {
      "image/png": "[encoded data removed]",
      "text/plain": [
       "<Figure size 1152x576 with 1 Axes>"
      ]
     },
     "metadata": {
      "needs_background": "light"
     },
     "output_type": "display_data"
    }
   ],
   "source": [
    "for keyword in keywords:\n",
    "    if keyword not in Biss_top500_words:\n",
    "        Biss_top500_words.append(keyword)\n",
    "\n",
    "# Dictionary containing valence/arousal/emotional potential for top 100 most frequent characters:\n",
    "    \n",
    "profile_dict_Biss = {}\n",
    "valence_list = []\n",
    "arousal_list = []\n",
    "potential_list = []\n",
    "\n",
    "for word in Biss_top500_words:\n",
    "    try:\n",
    "        valence = emo_distance(word, modelBiss, \"valence\", \"Biss\")\n",
    "        valence_list.append(valence)\n",
    "        arousal = emo_distance(word, modelBiss, \"arousal\", \"Biss\")\n",
    "        arousal_list.append(arousal)\n",
    "        potential = emotional_potential(valence, arousal)\n",
    "        potential_list.append(potential)\n",
    "        profile_dict_Biss[word] = (valence, arousal, potential)\n",
    "    except:\n",
    "        continue\n",
    "\n",
    "# Min/Max values of valence/arousal/emotional potential:\n",
    "\n",
    "min_valence_Biss = min(valence_list)\n",
    "max_valence_Biss = max(valence_list)\n",
    "min_arousal_Biss = min(arousal_list)\n",
    "max_arousal_Biss = max(arousal_list)\n",
    "min_potential_Biss = min(potential_list)\n",
    "max_potential_Biss = max(potential_list)\n",
    "\n",
    "print(\"Minimal Valence: \" + str(min_valence_Biss))\n",
    "print(\"Maximal Valence: \" + str(max_valence_Biss))\n",
    "print(\"Minimal Arousal: \" + str(min_arousal_Biss))\n",
    "print(\"Maximal Arousal: \" + str(max_arousal_Biss))\n",
    "print(\"Minimal Potential: \" + str(min_potential_Biss))\n",
    "print(\"Maximal Potential: \" + str(max_potential_Biss))\n",
    "\n",
    "# Lists containing percentile of chosen characters for valence/arousal/emotional potential:\n",
    "\n",
    "\n",
    "\n",
    "valence_list = []\n",
    "arousal_list = []\n",
    "potential_list = []\n",
    "for keyword in keywords:\n",
    "    valence_list.append(float(profile_dict_Biss[keyword][0] - min_valence_Biss) / (max_valence_Biss - min_valence_Biss))\n",
    "    arousal_list.append(float(profile_dict_Biss[keyword][1] - min_arousal_Biss) / (max_arousal_Biss - min_arousal_Biss))\n",
    "    potential_list.append(float(profile_dict_Biss[keyword][2] - min_potential_Biss) / (max_potential_Biss - min_potential_Biss))\n",
    "\n",
    "# Grouped bar plot for valence/arousal/emotional potential:\n",
    "\n",
    "x = np.arange(len(keywords))\n",
    "\n",
    "fig = plt.figure(figsize=(16,8))\n",
    "ax = fig.add_subplot(111)\n",
    "\n",
    "bar1 = ax.bar(x + 0.00, potential_list, color='blue', width=0.25, label='emotional potential')\n",
    "bar2 = ax.bar(x + 0.25, valence_list, color='orange', width=0.25, label=\"valence\")\n",
    "bar3 = ax.bar(x + 0.5, arousal_list, color='grey', width=0.25, label=\"arousal\")\n",
    "\n",
    "plt.xlabel('keyword', fontweight='bold')\n",
    "plt.xticks([r + 0.25 for r in range(len(keywords))], keywords, fontsize=8)\n",
    "plt.ylabel('normalized score', fontweight='bold')\n",
    "plt.yticks(np.arange(0, 1, 0.1))\n",
    "\n",
    "ax.legend(prop={'size': 16})\n",
    "\n",
    "ax.bar_label(bar1, padding=3, fmt='%.2f', fontsize=8)\n",
    "ax.bar_label(bar2, padding=3, fmt='%.2f', fontsize=8)\n",
    "ax.bar_label(bar3, padding=3, fmt='%.2f', fontsize=8)\n",
    "\n",
    "plt.show()\n",
    "\n",
    "fig.savefig(path_sentiment + '\\\\keywords_barplot_Biss.png', dpi=300, bbox_inches = 'tight')"
   ]
  },
  {
   "cell_type": "markdown",
   "id": "1673f0e7",
   "metadata": {},
   "source": [
    "## 3. WarriorCats"
   ]
  },
  {
   "cell_type": "code",
   "execution_count": 30,
   "id": "4a39264b",
   "metadata": {},
   "outputs": [],
   "source": [
    "# sensitive topics\n",
    "\n",
    "keywords = [\"angreifen\",\"töten\",\"erregen\"]"
   ]
  },
  {
   "cell_type": "code",
   "execution_count": 31,
   "id": "b593e104",
   "metadata": {},
   "outputs": [
    {
     "name": "stdout",
     "output_type": "stream",
     "text": [
      "Minimal Valence: -0.3879237\n",
      "Maximal Valence: 0.31724417\n",
      "Minimal Arousal: -0.48230618\n",
      "Maximal Arousal: 0.48569328\n",
      "Minimal Potential: -0.048877455\n",
      "Maximal Potential: 0.052437667\n"
     ]
    },
    {
     "data": {
      "image/png": "[encoded data removed]",
      "text/plain": [
       "<Figure size 1152x576 with 1 Axes>"
      ]
     },
     "metadata": {
      "needs_background": "light"
     },
     "output_type": "display_data"
    }
   ],
   "source": [
    "for keyword in keywords:\n",
    "    if keyword not in WarriorCats_top500_words:\n",
    "        WarriorCats_top500_words.append(keyword)\n",
    "\n",
    "# Dictionary containing valence/arousal/emotional potential for top 100 most frequent characters:\n",
    "    \n",
    "profile_dict_WarriorCats = {}\n",
    "valence_list = []\n",
    "arousal_list = []\n",
    "potential_list = []\n",
    "\n",
    "for word in WarriorCats_top500_words:\n",
    "    try:\n",
    "        valence = emo_distance(word, modelWarriorCats, \"valence\", \"WarriorCats\")\n",
    "        valence_list.append(valence)\n",
    "        arousal = emo_distance(word, modelWarriorCats, \"arousal\", \"WarriorCats\")\n",
    "        arousal_list.append(arousal)\n",
    "        potential = emotional_potential(valence, arousal)\n",
    "        potential_list.append(potential)\n",
    "        profile_dict_WarriorCats[word] = (valence, arousal, potential)\n",
    "    except:\n",
    "        continue\n",
    "\n",
    "# Min/Max values of valence/arousal/emotional potential:\n",
    "\n",
    "min_valence_WarriorCats = min(valence_list)\n",
    "max_valence_WarriorCats = max(valence_list)\n",
    "min_arousal_WarriorCats = min(arousal_list)\n",
    "max_arousal_WarriorCats = max(arousal_list)\n",
    "min_potential_WarriorCats = min(potential_list)\n",
    "max_potential_WarriorCats = max(potential_list)\n",
    "\n",
    "print(\"Minimal Valence: \" + str(min_valence_WarriorCats))\n",
    "print(\"Maximal Valence: \" + str(max_valence_WarriorCats))\n",
    "print(\"Minimal Arousal: \" + str(min_arousal_WarriorCats))\n",
    "print(\"Maximal Arousal: \" + str(max_arousal_WarriorCats))\n",
    "print(\"Minimal Potential: \" + str(min_potential_WarriorCats))\n",
    "print(\"Maximal Potential: \" + str(max_potential_WarriorCats))\n",
    "\n",
    "# Lists containing percentile of chosen characters for valence/arousal/emotional potential:\n",
    "\n",
    "\n",
    "\n",
    "valence_list = []\n",
    "arousal_list = []\n",
    "potential_list = []\n",
    "for keyword in keywords:\n",
    "    valence_list.append(float(profile_dict_WarriorCats[keyword][0] - min_valence_WarriorCats) / (max_valence_WarriorCats - min_valence_WarriorCats))\n",
    "    arousal_list.append(float(profile_dict_WarriorCats[keyword][1] - min_arousal_WarriorCats) / (max_arousal_WarriorCats - min_arousal_WarriorCats))\n",
    "    potential_list.append(float(profile_dict_WarriorCats[keyword][2] - min_potential_WarriorCats) / (max_potential_WarriorCats - min_potential_WarriorCats))\n",
    "\n",
    "# Grouped bar plot for valence/arousal/emotional potential:\n",
    "\n",
    "x = np.arange(len(keywords))\n",
    "\n",
    "fig = plt.figure(figsize=(16,8))\n",
    "ax = fig.add_subplot(111)\n",
    "\n",
    "bar1 = ax.bar(x + 0.00, potential_list, color='blue', width=0.25, label='emotional potential')\n",
    "bar2 = ax.bar(x + 0.25, valence_list, color='orange', width=0.25, label=\"valence\")\n",
    "bar3 = ax.bar(x + 0.5, arousal_list, color='grey', width=0.25, label=\"arousal\")\n",
    "\n",
    "plt.xlabel('keyword', fontweight='bold')\n",
    "plt.xticks([r + 0.25 for r in range(len(keywords))], keywords, fontsize=8)\n",
    "plt.ylabel('normalized score', fontweight='bold')\n",
    "plt.yticks(np.arange(0, 1, 0.1))\n",
    "\n",
    "ax.legend(prop={'size': 16})\n",
    "\n",
    "ax.bar_label(bar1, padding=3, fmt='%.2f', fontsize=8)\n",
    "ax.bar_label(bar2, padding=3, fmt='%.2f', fontsize=8)\n",
    "ax.bar_label(bar3, padding=3, fmt='%.2f', fontsize=8)\n",
    "\n",
    "plt.show()\n",
    "\n",
    "fig.savefig(path_sentiment + '\\\\keywords_barplot_WarriorCats.png', dpi=300, bbox_inches = 'tight')"
   ]
  },
  {
   "cell_type": "markdown",
   "id": "ea6a4e88",
   "metadata": {},
   "source": [
    "## 4. DFFF"
   ]
  },
  {
   "cell_type": "code",
   "execution_count": 32,
   "id": "e47185f1",
   "metadata": {},
   "outputs": [],
   "source": [
    "# sensitive topics\n",
    "\n",
    "keywords = [\"angreifen\",\"töten\",\"küssen\",\"erregen\"]"
   ]
  },
  {
   "cell_type": "code",
   "execution_count": 33,
   "id": "c96f94d2",
   "metadata": {},
   "outputs": [
    {
     "name": "stdout",
     "output_type": "stream",
     "text": [
      "Minimal Valence: -0.22598901\n",
      "Maximal Valence: 0.45096338\n",
      "Minimal Arousal: -0.42176563\n",
      "Maximal Arousal: 0.5760336\n",
      "Minimal Potential: -0.035319727\n",
      "Maximal Potential: 0.08205564\n"
     ]
    },
    {
     "data": {
      "image/png": "[encoded data removed]",
      "text/plain": [
       "<Figure size 1152x576 with 1 Axes>"
      ]
     },
     "metadata": {
      "needs_background": "light"
     },
     "output_type": "display_data"
    }
   ],
   "source": [
    "for keyword in keywords:\n",
    "    if keyword not in DFFF_top500_words:\n",
    "        DFFF_top500_words.append(keyword)\n",
    "\n",
    "# Dictionary containing valence/arousal/emotional potential for top 100 most frequent characters:\n",
    "    \n",
    "profile_dict_DFFF = {}\n",
    "valence_list = []\n",
    "arousal_list = []\n",
    "potential_list = []\n",
    "\n",
    "for word in DFFF_top500_words:\n",
    "    try:\n",
    "        valence = emo_distance(word, modelDFFF, \"valence\", \"DFFF\")\n",
    "        valence_list.append(valence)\n",
    "        arousal = emo_distance(word, modelDFFF, \"arousal\", \"DFFF\")\n",
    "        arousal_list.append(arousal)\n",
    "        potential = emotional_potential(valence, arousal)\n",
    "        potential_list.append(potential)\n",
    "        profile_dict_DFFF[word] = (valence, arousal, potential)\n",
    "    except:\n",
    "        continue\n",
    "\n",
    "# Min/Max values of valence/arousal/emotional potential:\n",
    "\n",
    "min_valence_DFFF = min(valence_list)\n",
    "max_valence_DFFF = max(valence_list)\n",
    "min_arousal_DFFF = min(arousal_list)\n",
    "max_arousal_DFFF = max(arousal_list)\n",
    "min_potential_DFFF = min(potential_list)\n",
    "max_potential_DFFF = max(potential_list)\n",
    "\n",
    "print(\"Minimal Valence: \" + str(min_valence_DFFF))\n",
    "print(\"Maximal Valence: \" + str(max_valence_DFFF))\n",
    "print(\"Minimal Arousal: \" + str(min_arousal_DFFF))\n",
    "print(\"Maximal Arousal: \" + str(max_arousal_DFFF))\n",
    "print(\"Minimal Potential: \" + str(min_potential_DFFF))\n",
    "print(\"Maximal Potential: \" + str(max_potential_DFFF))\n",
    "\n",
    "# Lists containing percentile of chosen characters for valence/arousal/emotional potential:\n",
    "\n",
    "\n",
    "\n",
    "valence_list = []\n",
    "arousal_list = []\n",
    "potential_list = []\n",
    "for keyword in keywords:\n",
    "    valence_list.append(float(profile_dict_DFFF[keyword][0] - min_valence_DFFF) / (max_valence_DFFF - min_valence_DFFF))\n",
    "    arousal_list.append(float(profile_dict_DFFF[keyword][1] - min_arousal_DFFF) / (max_arousal_DFFF - min_arousal_DFFF))\n",
    "    potential_list.append(float(profile_dict_DFFF[keyword][2] - min_potential_DFFF) / (max_potential_DFFF - min_potential_DFFF))\n",
    "\n",
    "# Grouped bar plot for valence/arousal/emotional potential:\n",
    "\n",
    "x = np.arange(len(keywords))\n",
    "\n",
    "fig = plt.figure(figsize=(16,8))\n",
    "ax = fig.add_subplot(111)\n",
    "\n",
    "bar1 = ax.bar(x + 0.00, potential_list, color='blue', width=0.25, label='emotional potential')\n",
    "bar2 = ax.bar(x + 0.25, valence_list, color='orange', width=0.25, label=\"valence\")\n",
    "bar3 = ax.bar(x + 0.5, arousal_list, color='grey', width=0.25, label=\"arousal\")\n",
    "\n",
    "plt.xlabel('keyword', fontweight='bold')\n",
    "plt.xticks([r + 0.25 for r in range(len(keywords))], keywords, fontsize=8)\n",
    "plt.ylabel('normalized score', fontweight='bold')\n",
    "plt.yticks(np.arange(0, 1, 0.1))\n",
    "\n",
    "ax.legend(prop={'size': 16})\n",
    "\n",
    "ax.bar_label(bar1, padding=3, fmt='%.2f', fontsize=8)\n",
    "ax.bar_label(bar2, padding=3, fmt='%.2f', fontsize=8)\n",
    "ax.bar_label(bar3, padding=3, fmt='%.2f', fontsize=8)\n",
    "\n",
    "plt.show()\n",
    "\n",
    "fig.savefig(path_sentiment + '\\\\keywords_barplot_DFFF.png', dpi=300, bbox_inches = 'tight')"
   ]
  },
  {
   "cell_type": "markdown",
   "id": "e406c4ef",
   "metadata": {},
   "source": [
    "## 5. Mittelerde"
   ]
  },
  {
   "cell_type": "code",
   "execution_count": 34,
   "id": "63cab2a1",
   "metadata": {},
   "outputs": [
    {
     "name": "stdout",
     "output_type": "stream",
     "text": [
      "Minimal Valence: -0.44617736\n",
      "Maximal Valence: 0.42278352\n",
      "Minimal Arousal: -0.4382277\n",
      "Maximal Arousal: 0.3012056\n",
      "Minimal Potential: -0.06094301\n",
      "Maximal Potential: 0.13439113\n"
     ]
    },
    {
     "data": {
      "image/png": "[encoded data removed]",
      "text/plain": [
       "<Figure size 1152x576 with 1 Axes>"
      ]
     },
     "metadata": {
      "needs_background": "light"
     },
     "output_type": "display_data"
    }
   ],
   "source": [
    "for keyword in keywords:\n",
    "    if keyword not in Mittelerde_top500_words:\n",
    "        Mittelerde_top500_words.append(keyword)\n",
    "\n",
    "# Dictionary containing valence/arousal/emotional potential for top 100 most frequent characters:\n",
    "    \n",
    "profile_dict_Mittelerde = {}\n",
    "valence_list = []\n",
    "arousal_list = []\n",
    "potential_list = []\n",
    "\n",
    "for word in Mittelerde_top500_words:\n",
    "    try:\n",
    "        valence = emo_distance(word, modelMittelerde, \"valence\", \"Mittelerde\")\n",
    "        valence_list.append(valence)\n",
    "        arousal = emo_distance(word, modelMittelerde, \"arousal\", \"Mittelerde\")\n",
    "        arousal_list.append(arousal)\n",
    "        potential = emotional_potential(valence, arousal)\n",
    "        potential_list.append(potential)\n",
    "        profile_dict_Mittelerde[word] = (valence, arousal, potential)\n",
    "    except:\n",
    "        continue\n",
    "\n",
    "# Min/Max values of valence/arousal/emotional potential:\n",
    "\n",
    "min_valence_Mittelerde = min(valence_list)\n",
    "max_valence_Mittelerde = max(valence_list)\n",
    "min_arousal_Mittelerde = min(arousal_list)\n",
    "max_arousal_Mittelerde = max(arousal_list)\n",
    "min_potential_Mittelerde = min(potential_list)\n",
    "max_potential_Mittelerde = max(potential_list)\n",
    "\n",
    "print(\"Minimal Valence: \" + str(min_valence_Mittelerde))\n",
    "print(\"Maximal Valence: \" + str(max_valence_Mittelerde))\n",
    "print(\"Minimal Arousal: \" + str(min_arousal_Mittelerde))\n",
    "print(\"Maximal Arousal: \" + str(max_arousal_Mittelerde))\n",
    "print(\"Minimal Potential: \" + str(min_potential_Mittelerde))\n",
    "print(\"Maximal Potential: \" + str(max_potential_Mittelerde))\n",
    "\n",
    "# Lists containing percentile of chosen characters for valence/arousal/emotional potential:\n",
    "\n",
    "\n",
    "\n",
    "valence_list = []\n",
    "arousal_list = []\n",
    "potential_list = []\n",
    "for keyword in keywords:\n",
    "    valence_list.append(float(profile_dict_Mittelerde[keyword][0] - min_valence_Mittelerde) / (max_valence_Mittelerde - min_valence_Mittelerde))\n",
    "    arousal_list.append(float(profile_dict_Mittelerde[keyword][1] - min_arousal_Mittelerde) / (max_arousal_Mittelerde - min_arousal_Mittelerde))\n",
    "    potential_list.append(float(profile_dict_Mittelerde[keyword][2] - min_potential_Mittelerde) / (max_potential_Mittelerde - min_potential_Mittelerde))\n",
    "\n",
    "# Grouped bar plot for valence/arousal/emotional potential:\n",
    "\n",
    "x = np.arange(len(keywords))\n",
    "\n",
    "fig = plt.figure(figsize=(16,8))\n",
    "ax = fig.add_subplot(111)\n",
    "\n",
    "bar1 = ax.bar(x + 0.00, potential_list, color='blue', width=0.25, label='emotional potential')\n",
    "bar2 = ax.bar(x + 0.25, valence_list, color='orange', width=0.25, label=\"valence\")\n",
    "bar3 = ax.bar(x + 0.5, arousal_list, color='grey', width=0.25, label=\"arousal\")\n",
    "\n",
    "plt.xlabel('keyword', fontweight='bold')\n",
    "plt.xticks([r + 0.25 for r in range(len(keywords))], keywords, fontsize=8)\n",
    "plt.ylabel('normalized score', fontweight='bold')\n",
    "plt.yticks(np.arange(0, 1, 0.1))\n",
    "\n",
    "ax.legend(prop={'size': 16})\n",
    "\n",
    "ax.bar_label(bar1, padding=3, fmt='%.2f', fontsize=8)\n",
    "ax.bar_label(bar2, padding=3, fmt='%.2f', fontsize=8)\n",
    "ax.bar_label(bar3, padding=3, fmt='%.2f', fontsize=8)\n",
    "\n",
    "plt.show()\n",
    "\n",
    "fig.savefig(path_sentiment + '\\\\keywords_barplot_Mittelerde.png', dpi=300, bbox_inches = 'tight')"
   ]
  },
  {
   "cell_type": "markdown",
   "id": "44605bb8",
   "metadata": {},
   "source": [
    "## 6. Jackson"
   ]
  },
  {
   "cell_type": "code",
   "execution_count": 35,
   "id": "191c66e3",
   "metadata": {},
   "outputs": [
    {
     "name": "stdout",
     "output_type": "stream",
     "text": [
      "Minimal Valence: -0.5231054\n",
      "Maximal Valence: 0.32257152\n",
      "Minimal Arousal: -0.4107099\n",
      "Maximal Arousal: 0.5427405\n",
      "Minimal Potential: -0.08080752\n",
      "Maximal Potential: 0.19351752\n"
     ]
    },
    {
     "data": {
      "image/png": "[encoded data removed]",
      "text/plain": [
       "<Figure size 1152x576 with 1 Axes>"
      ]
     },
     "metadata": {
      "needs_background": "light"
     },
     "output_type": "display_data"
    }
   ],
   "source": [
    "for keyword in keywords:\n",
    "    if keyword not in Jackson_top500_words:\n",
    "        Jackson_top500_words.append(keyword)\n",
    "\n",
    "# Dictionary containing valence/arousal/emotional potential for top 100 most frequent characters:\n",
    "    \n",
    "profile_dict_Jackson = {}\n",
    "valence_list = []\n",
    "arousal_list = []\n",
    "potential_list = []\n",
    "\n",
    "for word in Jackson_top500_words:\n",
    "    try:\n",
    "        valence = emo_distance(word, modelJackson, \"valence\", \"Jackson\")\n",
    "        valence_list.append(valence)\n",
    "        arousal = emo_distance(word, modelJackson, \"arousal\", \"Jackson\")\n",
    "        arousal_list.append(arousal)\n",
    "        potential = emotional_potential(valence, arousal)\n",
    "        potential_list.append(potential)\n",
    "        profile_dict_Jackson[word] = (valence, arousal, potential)\n",
    "    except:\n",
    "        continue\n",
    "\n",
    "# Min/Max values of valence/arousal/emotional potential:\n",
    "\n",
    "min_valence_Jackson = min(valence_list)\n",
    "max_valence_Jackson = max(valence_list)\n",
    "min_arousal_Jackson = min(arousal_list)\n",
    "max_arousal_Jackson = max(arousal_list)\n",
    "min_potential_Jackson = min(potential_list)\n",
    "max_potential_Jackson = max(potential_list)\n",
    "\n",
    "print(\"Minimal Valence: \" + str(min_valence_Jackson))\n",
    "print(\"Maximal Valence: \" + str(max_valence_Jackson))\n",
    "print(\"Minimal Arousal: \" + str(min_arousal_Jackson))\n",
    "print(\"Maximal Arousal: \" + str(max_arousal_Jackson))\n",
    "print(\"Minimal Potential: \" + str(min_potential_Jackson))\n",
    "print(\"Maximal Potential: \" + str(max_potential_Jackson))\n",
    "\n",
    "# Lists containing percentile of chosen characters for valence/arousal/emotional potential:\n",
    "\n",
    "\n",
    "\n",
    "valence_list = []\n",
    "arousal_list = []\n",
    "potential_list = []\n",
    "for keyword in keywords:\n",
    "    valence_list.append(float(profile_dict_Jackson[keyword][0] - min_valence_Jackson) / (max_valence_Jackson - min_valence_Jackson))\n",
    "    arousal_list.append(float(profile_dict_Jackson[keyword][1] - min_arousal_Jackson) / (max_arousal_Jackson - min_arousal_Jackson))\n",
    "    potential_list.append(float(profile_dict_Jackson[keyword][2] - min_potential_Jackson) / (max_potential_Jackson - min_potential_Jackson))\n",
    "\n",
    "# Grouped bar plot for valence/arousal/emotional potential:\n",
    "\n",
    "x = np.arange(len(keywords))\n",
    "\n",
    "fig = plt.figure(figsize=(16,8))\n",
    "ax = fig.add_subplot(111)\n",
    "\n",
    "bar1 = ax.bar(x + 0.00, potential_list, color='blue', width=0.25, label='emotional potential')\n",
    "bar2 = ax.bar(x + 0.25, valence_list, color='orange', width=0.25, label=\"valence\")\n",
    "bar3 = ax.bar(x + 0.5, arousal_list, color='grey', width=0.25, label=\"arousal\")\n",
    "\n",
    "plt.xlabel('keyword', fontweight='bold')\n",
    "plt.xticks([r + 0.25 for r in range(len(keywords))], keywords, fontsize=8)\n",
    "plt.ylabel('normalized score', fontweight='bold')\n",
    "plt.yticks(np.arange(0, 1, 0.1))\n",
    "\n",
    "ax.legend(prop={'size': 16})\n",
    "\n",
    "ax.bar_label(bar1, padding=3, fmt='%.2f', fontsize=8)\n",
    "ax.bar_label(bar2, padding=3, fmt='%.2f', fontsize=8)\n",
    "ax.bar_label(bar3, padding=3, fmt='%.2f', fontsize=8)\n",
    "\n",
    "plt.show()\n",
    "\n",
    "fig.savefig(path_sentiment + '\\\\keywords_barplot_Jackson.png', dpi=300, bbox_inches = 'tight')"
   ]
  },
  {
   "cell_type": "markdown",
   "id": "dba557b9",
   "metadata": {},
   "source": [
    "## 7. Panem"
   ]
  },
  {
   "cell_type": "code",
   "execution_count": 36,
   "id": "11039798",
   "metadata": {},
   "outputs": [
    {
     "name": "stdout",
     "output_type": "stream",
     "text": [
      "Minimal Valence: -0.18974005\n",
      "Maximal Valence: 0.29412013\n",
      "Minimal Arousal: -0.42020786\n",
      "Maximal Arousal: 0.50690943\n",
      "Minimal Potential: -0.04406831\n",
      "Maximal Potential: 0.053061757\n"
     ]
    },
    {
     "data": {
      "image/png": "[encoded data removed]",
      "text/plain": [
       "<Figure size 1152x576 with 1 Axes>"
      ]
     },
     "metadata": {
      "needs_background": "light"
     },
     "output_type": "display_data"
    }
   ],
   "source": [
    "for keyword in keywords:\n",
    "    if keyword not in Panem_top500_words:\n",
    "        Panem_top500_words.append(keyword)\n",
    "\n",
    "# Dictionary containing valence/arousal/emotional potential for top 100 most frequent characters:\n",
    "    \n",
    "profile_dict_Panem = {}\n",
    "valence_list = []\n",
    "arousal_list = []\n",
    "potential_list = []\n",
    "\n",
    "for word in Panem_top500_words:\n",
    "    try:\n",
    "        valence = emo_distance(word, modelPanem, \"valence\", \"Panem\")\n",
    "        valence_list.append(valence)\n",
    "        arousal = emo_distance(word, modelPanem, \"arousal\", \"Panem\")\n",
    "        arousal_list.append(arousal)\n",
    "        potential = emotional_potential(valence, arousal)\n",
    "        potential_list.append(potential)\n",
    "        profile_dict_Panem[word] = (valence, arousal, potential)\n",
    "    except:\n",
    "        continue\n",
    "\n",
    "# Min/Max values of valence/arousal/emotional potential:\n",
    "\n",
    "min_valence_Panem = min(valence_list)\n",
    "max_valence_Panem = max(valence_list)\n",
    "min_arousal_Panem = min(arousal_list)\n",
    "max_arousal_Panem = max(arousal_list)\n",
    "min_potential_Panem = min(potential_list)\n",
    "max_potential_Panem = max(potential_list)\n",
    "\n",
    "print(\"Minimal Valence: \" + str(min_valence_Panem))\n",
    "print(\"Maximal Valence: \" + str(max_valence_Panem))\n",
    "print(\"Minimal Arousal: \" + str(min_arousal_Panem))\n",
    "print(\"Maximal Arousal: \" + str(max_arousal_Panem))\n",
    "print(\"Minimal Potential: \" + str(min_potential_Panem))\n",
    "print(\"Maximal Potential: \" + str(max_potential_Panem))\n",
    "\n",
    "# Lists containing percentile of chosen characters for valence/arousal/emotional potential:\n",
    "\n",
    "\n",
    "\n",
    "valence_list = []\n",
    "arousal_list = []\n",
    "potential_list = []\n",
    "for keyword in keywords:\n",
    "    valence_list.append(float(profile_dict_Panem[keyword][0] - min_valence_Panem) / (max_valence_Panem - min_valence_Panem))\n",
    "    arousal_list.append(float(profile_dict_Panem[keyword][1] - min_arousal_Panem) / (max_arousal_Panem - min_arousal_Panem))\n",
    "    potential_list.append(float(profile_dict_Panem[keyword][2] - min_potential_Panem) / (max_potential_Panem - min_potential_Panem))\n",
    "\n",
    "# Grouped bar plot for valence/arousal/emotional potential:\n",
    "\n",
    "x = np.arange(len(keywords))\n",
    "\n",
    "fig = plt.figure(figsize=(16,8))\n",
    "ax = fig.add_subplot(111)\n",
    "\n",
    "bar1 = ax.bar(x + 0.00, potential_list, color='blue', width=0.25, label='emotional potential')\n",
    "bar2 = ax.bar(x + 0.25, valence_list, color='orange', width=0.25, label=\"valence\")\n",
    "bar3 = ax.bar(x + 0.5, arousal_list, color='grey', width=0.25, label=\"arousal\")\n",
    "\n",
    "plt.xlabel('keyword', fontweight='bold')\n",
    "plt.xticks([r + 0.25 for r in range(len(keywords))], keywords, fontsize=8)\n",
    "plt.ylabel('normalized score', fontweight='bold')\n",
    "plt.yticks(np.arange(0, 1, 0.1))\n",
    "\n",
    "ax.legend(prop={'size': 16})\n",
    "\n",
    "ax.bar_label(bar1, padding=3, fmt='%.2f', fontsize=8)\n",
    "ax.bar_label(bar2, padding=3, fmt='%.2f', fontsize=8)\n",
    "ax.bar_label(bar3, padding=3, fmt='%.2f', fontsize=8)\n",
    "\n",
    "plt.show()\n",
    "\n",
    "fig.savefig(path_sentiment + '\\\\keywords_barplot_Panem.png', dpi=300, bbox_inches = 'tight')"
   ]
  },
  {
   "cell_type": "markdown",
   "id": "e3775eda",
   "metadata": {},
   "source": [
    "## 8. Potter Originals"
   ]
  },
  {
   "cell_type": "code",
   "execution_count": 37,
   "id": "5f966046",
   "metadata": {},
   "outputs": [],
   "source": [
    "# sensitive topics\n",
    "\n",
    "keywords = [\"angreifen\",\"töten\",\"erregen\"]"
   ]
  },
  {
   "cell_type": "code",
   "execution_count": 38,
   "id": "142acb24",
   "metadata": {},
   "outputs": [
    {
     "name": "stdout",
     "output_type": "stream",
     "text": [
      "Minimal Valence: -0.30698752\n",
      "Maximal Valence: 0.36029926\n",
      "Minimal Arousal: -0.49250364\n",
      "Maximal Arousal: 0.43020803\n",
      "Minimal Potential: -0.036497924\n",
      "Maximal Potential: 0.10149332\n"
     ]
    },
    {
     "data": {
      "image/png": "[encoded data removed]",
      "text/plain": [
       "<Figure size 1152x576 with 1 Axes>"
      ]
     },
     "metadata": {
      "needs_background": "light"
     },
     "output_type": "display_data"
    }
   ],
   "source": [
    "for keyword in keywords:\n",
    "    if keyword not in PotterOriginals_top500_words:\n",
    "        PotterOriginals_top500_words.append(keyword)\n",
    "\n",
    "# Dictionary containing valence/arousal/emotional potential for top 100 most frequent characters:\n",
    "    \n",
    "profile_dict_PotterOriginals = {}\n",
    "valence_list = []\n",
    "arousal_list = []\n",
    "potential_list = []\n",
    "\n",
    "for word in PotterOriginals_top500_words:\n",
    "    try:\n",
    "        valence = emo_distance(word, modelPotterOriginals, \"valence\", \"PotterOriginals\")\n",
    "        valence_list.append(valence)\n",
    "        arousal = emo_distance(word, modelPotterOriginals, \"arousal\", \"PotterOriginals\")\n",
    "        arousal_list.append(arousal)\n",
    "        potential = emotional_potential(valence, arousal)\n",
    "        potential_list.append(potential)\n",
    "        profile_dict_PotterOriginals[word] = (valence, arousal, potential)\n",
    "    except:\n",
    "        continue\n",
    "\n",
    "# Min/Max values of valence/arousal/emotional potential:\n",
    "\n",
    "min_valence_PotterOriginals = min(valence_list)\n",
    "max_valence_PotterOriginals = max(valence_list)\n",
    "min_arousal_PotterOriginals = min(arousal_list)\n",
    "max_arousal_PotterOriginals = max(arousal_list)\n",
    "min_potential_PotterOriginals = min(potential_list)\n",
    "max_potential_PotterOriginals = max(potential_list)\n",
    "\n",
    "print(\"Minimal Valence: \" + str(min_valence_PotterOriginals))\n",
    "print(\"Maximal Valence: \" + str(max_valence_PotterOriginals))\n",
    "print(\"Minimal Arousal: \" + str(min_arousal_PotterOriginals))\n",
    "print(\"Maximal Arousal: \" + str(max_arousal_PotterOriginals))\n",
    "print(\"Minimal Potential: \" + str(min_potential_PotterOriginals))\n",
    "print(\"Maximal Potential: \" + str(max_potential_PotterOriginals))\n",
    "\n",
    "# Lists containing percentile of chosen characters for valence/arousal/emotional potential:\n",
    "\n",
    "\n",
    "\n",
    "valence_list = []\n",
    "arousal_list = []\n",
    "potential_list = []\n",
    "for keyword in keywords:\n",
    "    valence_list.append(float(profile_dict_PotterOriginals[keyword][0] - min_valence_PotterOriginals) / (max_valence_PotterOriginals - min_valence_PotterOriginals))\n",
    "    arousal_list.append(float(profile_dict_PotterOriginals[keyword][1] - min_arousal_PotterOriginals) / (max_arousal_PotterOriginals - min_arousal_PotterOriginals))\n",
    "    potential_list.append(float(profile_dict_PotterOriginals[keyword][2] - min_potential_PotterOriginals) / (max_potential_PotterOriginals - min_potential_PotterOriginals))\n",
    "\n",
    "# Grouped bar plot for valence/arousal/emotional potential:\n",
    "\n",
    "x = np.arange(len(keywords))\n",
    "\n",
    "fig = plt.figure(figsize=(16,8))\n",
    "ax = fig.add_subplot(111)\n",
    "\n",
    "bar1 = ax.bar(x + 0.00, potential_list, color='blue', width=0.25, label='emotional potential')\n",
    "bar2 = ax.bar(x + 0.25, valence_list, color='orange', width=0.25, label=\"valence\")\n",
    "bar3 = ax.bar(x + 0.5, arousal_list, color='grey', width=0.25, label=\"arousal\")\n",
    "\n",
    "plt.xlabel('keyword', fontweight='bold')\n",
    "plt.xticks([r + 0.25 for r in range(len(keywords))], keywords, fontsize=8)\n",
    "plt.ylabel('normalized score', fontweight='bold')\n",
    "plt.yticks(np.arange(0, 1, 0.1))\n",
    "\n",
    "ax.legend(prop={'size': 16})\n",
    "\n",
    "ax.bar_label(bar1, padding=3, fmt='%.2f', fontsize=8)\n",
    "ax.bar_label(bar2, padding=3, fmt='%.2f', fontsize=8)\n",
    "ax.bar_label(bar3, padding=3, fmt='%.2f', fontsize=8)\n",
    "\n",
    "plt.show()\n",
    "\n",
    "fig.savefig(path_sentiment + '\\\\keywords_barplot_PotterOriginals.png', dpi=300, bbox_inches = 'tight')"
   ]
  }
 ],
 "metadata": {
  "kernelspec": {
   "display_name": "Python 3",
   "language": "python",
   "name": "python3"
  },
  "language_info": {
   "codemirror_mode": {
    "name": "ipython",
    "version": 3
   },
   "file_extension": ".py",
   "mimetype": "text/x-python",
   "name": "python",
   "nbconvert_exporter": "python",
   "pygments_lexer": "ipython3",
   "version": "3.8.8"
  }
 },
 "nbformat": 4,
 "nbformat_minor": 5
}
