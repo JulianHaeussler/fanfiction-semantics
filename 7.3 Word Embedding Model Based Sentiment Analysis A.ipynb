{
 "cells": [
  {
   "cell_type": "markdown",
   "id": "e1bcee98",
   "metadata": {},
   "source": [
    "Documentation for the Master thesis \"Fanfiction Semantics - A Quantitative Analysis of Sensitive Topics in German Fanfiction\" by Julian Jacopo Häußler, Date of submission: September 19, 2022."
   ]
  },
  {
   "cell_type": "markdown",
   "id": "eba893c4",
   "metadata": {},
   "source": [
    "# 7.3 Word Embedding Model Based Sentiment Analysis A"
   ]
  },
  {
   "cell_type": "markdown",
   "id": "654de8bc",
   "metadata": {},
   "source": [
    "## Overview\n",
    "\n",
    "### - load libraries\n",
    "### - count frequencies to determine possible emotion words"
   ]
  },
  {
   "cell_type": "markdown",
   "id": "7335e72e",
   "metadata": {},
   "source": [
    "# LOAD LIBRARIES"
   ]
  },
  {
   "cell_type": "code",
   "execution_count": 2,
   "id": "a610e043",
   "metadata": {},
   "outputs": [],
   "source": [
    "import pandas as pd"
   ]
  },
  {
   "cell_type": "code",
   "execution_count": 3,
   "id": "b026d2e8",
   "metadata": {},
   "outputs": [],
   "source": [
    "import csv"
   ]
  },
  {
   "cell_type": "code",
   "execution_count": 4,
   "id": "e5815b23",
   "metadata": {},
   "outputs": [],
   "source": [
    "import pickle"
   ]
  },
  {
   "cell_type": "markdown",
   "id": "18babe95",
   "metadata": {},
   "source": [
    "# COUNT FREQUENCIES TO DETERMINE POSSIBLE EMOTION WORDS"
   ]
  },
  {
   "cell_type": "markdown",
   "id": "08d7b3ff",
   "metadata": {},
   "source": [
    "The following code blocks are taken from Brottrager et al.'s \"Character Shifts in Harry Potter Fanfictions\", the relevant Jupyter Notebook can be found under https://github.com/jbrottrager/character-shifts-HPFFS/blob/main/scripts/08_countFrequenciesAll.ipynb (last viewed: 2022/09/18)"
   ]
  },
  {
   "cell_type": "code",
   "execution_count": 2,
   "id": "041fe2df",
   "metadata": {},
   "outputs": [],
   "source": [
    "path_data = r'C:\\Users\\Public\\Data\\Masterarbeit'"
   ]
  },
  {
   "cell_type": "code",
   "execution_count": 6,
   "id": "bf6eda81",
   "metadata": {},
   "outputs": [],
   "source": [
    "df = pd.read_excel(path_data + '\\\\data_bawl\\\\BAWL-R.xls')\n",
    "\n",
    "WORD = df['WORD'].tolist()\n",
    "\n",
    "WORD_LOWER = df['WORD_LOWER'].tolist()\n",
    "\n",
    "WORD_CLASS = df['WORD_CLASS'].tolist()\n",
    "\n",
    "EMO_MEAN = df['EMO_MEAN'].tolist()\n",
    "\n",
    "EMO_STD = df['EMO_STD'].tolist()\n",
    "\n",
    "AROUSAL_MEAN = df['AROUSAL_MEAN'].tolist()\n",
    "\n",
    "AROUSAL_STD = df['AROUSAL_STD'].tolist()"
   ]
  },
  {
   "cell_type": "code",
   "execution_count": 7,
   "id": "c3060707",
   "metadata": {},
   "outputs": [],
   "source": [
    "# Potter\n",
    "\n",
    "with open(path_data + r'\\corpora_3.0\\\\Potter2021_words.pkl', 'rb') as f:\n",
    "    Potter_words = pickle.load(f)\n",
    "\n",
    "POTTER_FREQ = []\n",
    "\n",
    "for word in WORD_LOWER:\n",
    "    POTTER_FREQ.append(Potter_words.count(word))"
   ]
  },
  {
   "cell_type": "code",
   "execution_count": 8,
   "id": "eb27416d",
   "metadata": {},
   "outputs": [],
   "source": [
    "# Biss\n",
    "\n",
    "with open(path_data + r'\\corpora_3.0\\\\Biss2021_words.pkl', 'rb') as f:\n",
    "    Biss_words = pickle.load(f)\n",
    "\n",
    "BISS_FREQ = []\n",
    "\n",
    "for word in WORD_LOWER:\n",
    "    BISS_FREQ.append(Biss_words.count(word))"
   ]
  },
  {
   "cell_type": "code",
   "execution_count": 9,
   "id": "5209dba1",
   "metadata": {},
   "outputs": [],
   "source": [
    "# WarriorCats\n",
    "\n",
    "with open(path_data + r'\\corpora_3.0\\\\WarriorCats2021_words.pkl', 'rb') as f:\n",
    "    WarriorCats_words = pickle.load(f)\n",
    "\n",
    "WARRIORCATS_FREQ = []\n",
    "\n",
    "for word in WORD_LOWER:\n",
    "    WARRIORCATS_FREQ.append(WarriorCats_words.count(word))"
   ]
  },
  {
   "cell_type": "code",
   "execution_count": 10,
   "id": "e9825ea3",
   "metadata": {},
   "outputs": [],
   "source": [
    "# DFFF\n",
    "\n",
    "with open(path_data + r'\\corpora_3.0\\\\DFFF2021_words.pkl', 'rb') as f:\n",
    "    DFFF_words = pickle.load(f)\n",
    "\n",
    "DFFF_FREQ = []\n",
    "\n",
    "for word in WORD_LOWER:\n",
    "    DFFF_FREQ.append(DFFF_words.count(word))"
   ]
  },
  {
   "cell_type": "code",
   "execution_count": 11,
   "id": "ee14eaae",
   "metadata": {},
   "outputs": [],
   "source": [
    "# Mittelerde\n",
    "\n",
    "with open(path_data + r'\\corpora_3.0\\\\Mittelerde2021_words.pkl', 'rb') as f:\n",
    "    Mittelerde_words = pickle.load(f)\n",
    "\n",
    "MITTELERDE_FREQ = []\n",
    "\n",
    "for word in WORD_LOWER:\n",
    "    MITTELERDE_FREQ.append(Mittelerde_words.count(word))"
   ]
  },
  {
   "cell_type": "code",
   "execution_count": 12,
   "id": "a77916a8",
   "metadata": {},
   "outputs": [],
   "source": [
    "# Jackson\n",
    "\n",
    "with open(path_data + r'\\corpora_3.0\\\\Jackson2021_words.pkl', 'rb') as f:\n",
    "    Jackson_words = pickle.load(f)\n",
    "\n",
    "JACKSON_FREQ = []\n",
    "\n",
    "for word in WORD_LOWER:\n",
    "    JACKSON_FREQ.append(Jackson_words.count(word))"
   ]
  },
  {
   "cell_type": "code",
   "execution_count": 13,
   "id": "1b3ed3eb",
   "metadata": {},
   "outputs": [],
   "source": [
    "# Panem\n",
    "\n",
    "with open(path_data + r'\\corpora_3.0\\\\Panem2021_words.pkl', 'rb') as f:\n",
    "    Panem_words = pickle.load(f)\n",
    "\n",
    "PANEM_FREQ = []\n",
    "\n",
    "for word in WORD_LOWER:\n",
    "    PANEM_FREQ.append(Panem_words.count(word))"
   ]
  },
  {
   "cell_type": "code",
   "execution_count": 14,
   "id": "4c2272c8",
   "metadata": {},
   "outputs": [],
   "source": [
    "# PotterOrigina.s\n",
    "\n",
    "with open(path_data + r'\\corpora_3.0\\\\PotterOriginals_words.pkl', 'rb') as f:\n",
    "    PotterOriginals_words = pickle.load(f)\n",
    "\n",
    "POTTERORIGINALS_FREQ = []\n",
    "\n",
    "for word in WORD_LOWER:\n",
    "    POTTERORIGINALS_FREQ.append(PotterOriginals_words.count(word))"
   ]
  },
  {
   "cell_type": "code",
   "execution_count": 17,
   "id": "8c918016",
   "metadata": {},
   "outputs": [],
   "source": [
    "# create final data frame\n",
    "\n",
    "BAWLR_with_freqs = pd.DataFrame(\n",
    "    {'WORD': WORD,\n",
    "     'WORD_LOWER': WORD_LOWER,\n",
    "     'WORD_CLASS ': WORD_CLASS ,\n",
    "     'EMO_MEAN': EMO_MEAN,\n",
    "     'EMO_STD': EMO_STD,\n",
    "     'AROUSAL_MEAN': AROUSAL_MEAN,\n",
    "     'AROUSAL_STD': AROUSAL_STD,\n",
    "     'POTTER_FREQ': POTTER_FREQ,\n",
    "     'BISS_FREQ' : BISS_FREQ,\n",
    "     'WARRIORCATS_FREQ' : WARRIORCATS_FREQ,\n",
    "     'DFFF_FREQ' : DFFF_FREQ,\n",
    "     'MITTELERDE_FREQ' : MITTELERDE_FREQ,\n",
    "     'JACKSON_FREQ' : JACKSON_FREQ,\n",
    "     'PANEM_FREQ' : PANEM_FREQ,\n",
    "     'POTTERORIGINALS_FREQ' : POTTERORIGINALS_FREQ\n",
    "    }\n",
    ")"
   ]
  },
  {
   "cell_type": "code",
   "execution_count": 18,
   "id": "4466ea8f",
   "metadata": {},
   "outputs": [],
   "source": [
    "# save file\n",
    "\n",
    "BAWLR_with_freqs.to_csv(path_data + '\\\\data_bawl\\\\BAWLR_with_freqs.csv')"
   ]
  }
 ],
 "metadata": {
  "kernelspec": {
   "display_name": "Python 3",
   "language": "python",
   "name": "python3"
  },
  "language_info": {
   "codemirror_mode": {
    "name": "ipython",
    "version": 3
   },
   "file_extension": ".py",
   "mimetype": "text/x-python",
   "name": "python",
   "nbconvert_exporter": "python",
   "pygments_lexer": "ipython3",
   "version": "3.8.8"
  }
 },
 "nbformat": 4,
 "nbformat_minor": 5
}
