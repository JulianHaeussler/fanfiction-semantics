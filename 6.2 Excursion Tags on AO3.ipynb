{
 "cells": [
  {
   "cell_type": "markdown",
   "id": "7e99fe10",
   "metadata": {},
   "source": [
    "Documentation for the Master thesis \"Fanfiction Semantics - A Quantitative Analysis of Sensitive Topics in German Fanfiction\" by Julian Jacopo Häußler, Date of submission: September 19, 2022."
   ]
  },
  {
   "cell_type": "markdown",
   "id": "f0912803",
   "metadata": {},
   "source": [
    "# 6.2 Excursion Tags on AO3"
   ]
  },
  {
   "cell_type": "markdown",
   "id": "d55fefec",
   "metadata": {},
   "source": [
    "## Overview\n",
    "### - load libraries and read in data\n",
    "### - frequency distributions of sensitive tags"
   ]
  },
  {
   "cell_type": "markdown",
   "id": "4b38f8f5",
   "metadata": {},
   "source": [
    "# LOAD LIBRARIES AND READ IN DATA"
   ]
  },
  {
   "cell_type": "code",
   "execution_count": 38,
   "id": "91ab1bb5",
   "metadata": {},
   "outputs": [],
   "source": [
    "# load libraries\n",
    "\n",
    "import pandas as pd\n",
    "import matplotlib.pyplot as plt"
   ]
  },
  {
   "cell_type": "code",
   "execution_count": 2,
   "id": "6864bfe9",
   "metadata": {},
   "outputs": [],
   "source": [
    "# define paths\n",
    "\n",
    "data_path = r'C:\\Users\\Julian\\OneDrive\\(2) Studies\\M.A.Linguistic_and_Literary_Computing\\14.SS_22\\MASTERARBEIT\\AO3\\20210226-stats'\n",
    "\n",
    "results = r'C:\\Users\\Public\\Data\\Masterarbeit\\results\\6.2 Excursion Tags on AO3'"
   ]
  },
  {
   "cell_type": "code",
   "execution_count": 3,
   "id": "6266a2d5",
   "metadata": {},
   "outputs": [],
   "source": [
    "# read in file\n",
    "\n",
    "tagsAO3_df = pd.read_csv(data_path+'\\\\tags-20210226.csv', delimiter=\",\", encoding='ISO-8859-1', error_bad_lines=False)"
   ]
  },
  {
   "cell_type": "code",
   "execution_count": 4,
   "id": "0f6bb4aa",
   "metadata": {},
   "outputs": [
    {
     "data": {
      "text/html": [
       "<div>\n",
       "<style scoped>\n",
       "    .dataframe tbody tr th:only-of-type {\n",
       "        vertical-align: middle;\n",
       "    }\n",
       "\n",
       "    .dataframe tbody tr th {\n",
       "        vertical-align: top;\n",
       "    }\n",
       "\n",
       "    .dataframe thead th {\n",
       "        text-align: right;\n",
       "    }\n",
       "</style>\n",
       "<table border=\"1\" class=\"dataframe\">\n",
       "  <thead>\n",
       "    <tr style=\"text-align: right;\">\n",
       "      <th></th>\n",
       "      <th>id</th>\n",
       "      <th>type</th>\n",
       "      <th>name</th>\n",
       "      <th>canonical</th>\n",
       "      <th>cached_count</th>\n",
       "      <th>merger_id</th>\n",
       "    </tr>\n",
       "  </thead>\n",
       "  <tbody>\n",
       "    <tr>\n",
       "      <th>0</th>\n",
       "      <td>1</td>\n",
       "      <td>Media</td>\n",
       "      <td>TV Shows</td>\n",
       "      <td>True</td>\n",
       "      <td>910</td>\n",
       "      <td>NaN</td>\n",
       "    </tr>\n",
       "    <tr>\n",
       "      <th>1</th>\n",
       "      <td>2</td>\n",
       "      <td>Media</td>\n",
       "      <td>Movies</td>\n",
       "      <td>True</td>\n",
       "      <td>1164</td>\n",
       "      <td>NaN</td>\n",
       "    </tr>\n",
       "    <tr>\n",
       "      <th>2</th>\n",
       "      <td>3</td>\n",
       "      <td>Media</td>\n",
       "      <td>Books &amp; Literature</td>\n",
       "      <td>True</td>\n",
       "      <td>134</td>\n",
       "      <td>NaN</td>\n",
       "    </tr>\n",
       "    <tr>\n",
       "      <th>3</th>\n",
       "      <td>4</td>\n",
       "      <td>Media</td>\n",
       "      <td>Cartoons &amp; Comics &amp; Graphic Novels</td>\n",
       "      <td>True</td>\n",
       "      <td>166</td>\n",
       "      <td>NaN</td>\n",
       "    </tr>\n",
       "    <tr>\n",
       "      <th>4</th>\n",
       "      <td>5</td>\n",
       "      <td>Media</td>\n",
       "      <td>Anime &amp; Manga</td>\n",
       "      <td>True</td>\n",
       "      <td>501</td>\n",
       "      <td>NaN</td>\n",
       "    </tr>\n",
       "  </tbody>\n",
       "</table>\n",
       "</div>"
      ],
      "text/plain": [
       "   id   type                                name  canonical  cached_count  \\\n",
       "0   1  Media                            TV Shows       True           910   \n",
       "1   2  Media                              Movies       True          1164   \n",
       "2   3  Media                  Books & Literature       True           134   \n",
       "3   4  Media  Cartoons & Comics & Graphic Novels       True           166   \n",
       "4   5  Media                       Anime & Manga       True           501   \n",
       "\n",
       "   merger_id  \n",
       "0        NaN  \n",
       "1        NaN  \n",
       "2        NaN  \n",
       "3        NaN  \n",
       "4        NaN  "
      ]
     },
     "execution_count": 4,
     "metadata": {},
     "output_type": "execute_result"
    }
   ],
   "source": [
    "tagsAO3_df.head()"
   ]
  },
  {
   "cell_type": "markdown",
   "id": "5ca04d6e",
   "metadata": {},
   "source": [
    "# FREQUENCY DISTRIBUTIONS OF SENSITIVE TAGS"
   ]
  },
  {
   "cell_type": "code",
   "execution_count": 28,
   "id": "47829970",
   "metadata": {},
   "outputs": [],
   "source": [
    "# extract ratings\n",
    "\n",
    "rating = tagsAO3_df.loc[tagsAO3_df['type'] == 'Rating']"
   ]
  },
  {
   "cell_type": "code",
   "execution_count": 30,
   "id": "ec291d32",
   "metadata": {},
   "outputs": [
    {
     "data": {
      "text/html": [
       "<div>\n",
       "<style scoped>\n",
       "    .dataframe tbody tr th:only-of-type {\n",
       "        vertical-align: middle;\n",
       "    }\n",
       "\n",
       "    .dataframe tbody tr th {\n",
       "        vertical-align: top;\n",
       "    }\n",
       "\n",
       "    .dataframe thead th {\n",
       "        text-align: right;\n",
       "    }\n",
       "</style>\n",
       "<table border=\"1\" class=\"dataframe\">\n",
       "  <thead>\n",
       "    <tr style=\"text-align: right;\">\n",
       "      <th></th>\n",
       "      <th>id</th>\n",
       "      <th>type</th>\n",
       "      <th>name</th>\n",
       "      <th>canonical</th>\n",
       "      <th>cached_count</th>\n",
       "      <th>merger_id</th>\n",
       "    </tr>\n",
       "  </thead>\n",
       "  <tbody>\n",
       "    <tr>\n",
       "      <th>8</th>\n",
       "      <td>9</td>\n",
       "      <td>Rating</td>\n",
       "      <td>Not Rated</td>\n",
       "      <td>True</td>\n",
       "      <td>825385</td>\n",
       "      <td>NaN</td>\n",
       "    </tr>\n",
       "    <tr>\n",
       "      <th>9</th>\n",
       "      <td>10</td>\n",
       "      <td>Rating</td>\n",
       "      <td>General Audiences</td>\n",
       "      <td>True</td>\n",
       "      <td>2115153</td>\n",
       "      <td>NaN</td>\n",
       "    </tr>\n",
       "    <tr>\n",
       "      <th>10</th>\n",
       "      <td>11</td>\n",
       "      <td>Rating</td>\n",
       "      <td>Teen And Up Audiences</td>\n",
       "      <td>True</td>\n",
       "      <td>2272688</td>\n",
       "      <td>NaN</td>\n",
       "    </tr>\n",
       "    <tr>\n",
       "      <th>11</th>\n",
       "      <td>12</td>\n",
       "      <td>Rating</td>\n",
       "      <td>Mature</td>\n",
       "      <td>True</td>\n",
       "      <td>1151260</td>\n",
       "      <td>NaN</td>\n",
       "    </tr>\n",
       "    <tr>\n",
       "      <th>12</th>\n",
       "      <td>13</td>\n",
       "      <td>Rating</td>\n",
       "      <td>Explicit</td>\n",
       "      <td>True</td>\n",
       "      <td>1238331</td>\n",
       "      <td>NaN</td>\n",
       "    </tr>\n",
       "  </tbody>\n",
       "</table>\n",
       "</div>"
      ],
      "text/plain": [
       "    id    type                   name  canonical  cached_count  merger_id\n",
       "8    9  Rating              Not Rated       True        825385        NaN\n",
       "9   10  Rating      General Audiences       True       2115153        NaN\n",
       "10  11  Rating  Teen And Up Audiences       True       2272688        NaN\n",
       "11  12  Rating                 Mature       True       1151260        NaN\n",
       "12  13  Rating               Explicit       True       1238331        NaN"
      ]
     },
     "execution_count": 30,
     "metadata": {},
     "output_type": "execute_result"
    }
   ],
   "source": [
    "rating.head()"
   ]
  },
  {
   "cell_type": "code",
   "execution_count": 31,
   "id": "e066c077",
   "metadata": {},
   "outputs": [],
   "source": [
    "# remove irrelevant columns\n",
    "\n",
    "rating = rating[['name', 'cached_count']]"
   ]
  },
  {
   "cell_type": "code",
   "execution_count": 32,
   "id": "d06e69e4",
   "metadata": {},
   "outputs": [],
   "source": [
    "# change index\n",
    "\n",
    "rating = rating.set_index(\"name\")"
   ]
  },
  {
   "cell_type": "code",
   "execution_count": 39,
   "id": "d5982a60",
   "metadata": {},
   "outputs": [
    {
     "data": {
      "image/png": "[encoded data removed]",
      "text/plain": [
       "<Figure size 504x504 with 1 Axes>"
      ]
     },
     "metadata": {},
     "output_type": "display_data"
    }
   ],
   "source": [
    "# create pie chart\n",
    "\n",
    "rating[\"cached_count\"].plot.pie(autopct='%.2f',figsize=(7,7),ylabel='') \n",
    "plt.savefig(results+'\\\\AO3_rating_distribution.png', dpi=300, bbox_inches = 'tight')"
   ]
  },
  {
   "cell_type": "code",
   "execution_count": 40,
   "id": "a99d5530",
   "metadata": {},
   "outputs": [],
   "source": [
    "# extract warnings\n",
    "\n",
    "warning = tagsAO3_df.loc[tagsAO3_df['type'] == 'ArchiveWarning']"
   ]
  },
  {
   "cell_type": "code",
   "execution_count": 41,
   "id": "b771f2d0",
   "metadata": {},
   "outputs": [
    {
     "data": {
      "text/html": [
       "<div>\n",
       "<style scoped>\n",
       "    .dataframe tbody tr th:only-of-type {\n",
       "        vertical-align: middle;\n",
       "    }\n",
       "\n",
       "    .dataframe tbody tr th {\n",
       "        vertical-align: top;\n",
       "    }\n",
       "\n",
       "    .dataframe thead th {\n",
       "        text-align: right;\n",
       "    }\n",
       "</style>\n",
       "<table border=\"1\" class=\"dataframe\">\n",
       "  <thead>\n",
       "    <tr style=\"text-align: right;\">\n",
       "      <th></th>\n",
       "      <th>id</th>\n",
       "      <th>type</th>\n",
       "      <th>name</th>\n",
       "      <th>canonical</th>\n",
       "      <th>cached_count</th>\n",
       "      <th>merger_id</th>\n",
       "    </tr>\n",
       "  </thead>\n",
       "  <tbody>\n",
       "    <tr>\n",
       "      <th>13</th>\n",
       "      <td>14</td>\n",
       "      <td>ArchiveWarning</td>\n",
       "      <td>Choose Not To Use Archive Warnings</td>\n",
       "      <td>True</td>\n",
       "      <td>2556570</td>\n",
       "      <td>NaN</td>\n",
       "    </tr>\n",
       "    <tr>\n",
       "      <th>14</th>\n",
       "      <td>16</td>\n",
       "      <td>ArchiveWarning</td>\n",
       "      <td>No Archive Warnings Apply</td>\n",
       "      <td>True</td>\n",
       "      <td>4095298</td>\n",
       "      <td>NaN</td>\n",
       "    </tr>\n",
       "    <tr>\n",
       "      <th>15</th>\n",
       "      <td>17</td>\n",
       "      <td>ArchiveWarning</td>\n",
       "      <td>Graphic Depictions Of Violence</td>\n",
       "      <td>True</td>\n",
       "      <td>519931</td>\n",
       "      <td>NaN</td>\n",
       "    </tr>\n",
       "    <tr>\n",
       "      <th>16</th>\n",
       "      <td>18</td>\n",
       "      <td>ArchiveWarning</td>\n",
       "      <td>Major Character Death</td>\n",
       "      <td>True</td>\n",
       "      <td>379648</td>\n",
       "      <td>NaN</td>\n",
       "    </tr>\n",
       "    <tr>\n",
       "      <th>17</th>\n",
       "      <td>19</td>\n",
       "      <td>ArchiveWarning</td>\n",
       "      <td>Rape/Non-Con</td>\n",
       "      <td>True</td>\n",
       "      <td>192479</td>\n",
       "      <td>NaN</td>\n",
       "    </tr>\n",
       "  </tbody>\n",
       "</table>\n",
       "</div>"
      ],
      "text/plain": [
       "    id            type                                name  canonical  \\\n",
       "13  14  ArchiveWarning  Choose Not To Use Archive Warnings       True   \n",
       "14  16  ArchiveWarning           No Archive Warnings Apply       True   \n",
       "15  17  ArchiveWarning      Graphic Depictions Of Violence       True   \n",
       "16  18  ArchiveWarning               Major Character Death       True   \n",
       "17  19  ArchiveWarning                        Rape/Non-Con       True   \n",
       "\n",
       "    cached_count  merger_id  \n",
       "13       2556570        NaN  \n",
       "14       4095298        NaN  \n",
       "15        519931        NaN  \n",
       "16        379648        NaN  \n",
       "17        192479        NaN  "
      ]
     },
     "execution_count": 41,
     "metadata": {},
     "output_type": "execute_result"
    }
   ],
   "source": [
    "warning.head()"
   ]
  },
  {
   "cell_type": "code",
   "execution_count": 42,
   "id": "40b01366",
   "metadata": {},
   "outputs": [],
   "source": [
    "# remove irrelevant columns\n",
    "\n",
    "warning = warning[['name', 'cached_count']]"
   ]
  },
  {
   "cell_type": "code",
   "execution_count": 43,
   "id": "690cefb4",
   "metadata": {},
   "outputs": [],
   "source": [
    "# change index\n",
    "\n",
    "warning = warning.set_index(\"name\")"
   ]
  },
  {
   "cell_type": "code",
   "execution_count": 45,
   "id": "03afb7ae",
   "metadata": {},
   "outputs": [
    {
     "data": {
      "image/png": "[encoded data removed]",
      "text/plain": [
       "<Figure size 504x504 with 1 Axes>"
      ]
     },
     "metadata": {},
     "output_type": "display_data"
    }
   ],
   "source": [
    "# create pie chart\n",
    "\n",
    "warning[\"cached_count\"].plot.pie(autopct='%.2f',figsize=(7,7),ylabel='') \n",
    "plt.savefig(results+'\\\\AO3_warning_distribution.png', dpi=300, bbox_inches = 'tight')"
   ]
  },
  {
   "cell_type": "code",
   "execution_count": 46,
   "id": "36ec40f8",
   "metadata": {},
   "outputs": [],
   "source": [
    "# extract freeform tags\n",
    "\n",
    "freeform = tagsAO3_df.loc[tagsAO3_df['type'] == 'Freeform']"
   ]
  },
  {
   "cell_type": "code",
   "execution_count": 47,
   "id": "9f03e563",
   "metadata": {},
   "outputs": [
    {
     "data": {
      "text/html": [
       "<div>\n",
       "<style scoped>\n",
       "    .dataframe tbody tr th:only-of-type {\n",
       "        vertical-align: middle;\n",
       "    }\n",
       "\n",
       "    .dataframe tbody tr th {\n",
       "        vertical-align: top;\n",
       "    }\n",
       "\n",
       "    .dataframe thead th {\n",
       "        text-align: right;\n",
       "    }\n",
       "</style>\n",
       "<table border=\"1\" class=\"dataframe\">\n",
       "  <thead>\n",
       "    <tr style=\"text-align: right;\">\n",
       "      <th></th>\n",
       "      <th>id</th>\n",
       "      <th>type</th>\n",
       "      <th>name</th>\n",
       "      <th>canonical</th>\n",
       "      <th>cached_count</th>\n",
       "      <th>merger_id</th>\n",
       "    </tr>\n",
       "  </thead>\n",
       "  <tbody>\n",
       "    <tr>\n",
       "      <th>41</th>\n",
       "      <td>50</td>\n",
       "      <td>Freeform</td>\n",
       "      <td>flangst</td>\n",
       "      <td>False</td>\n",
       "      <td>1354</td>\n",
       "      <td>418427.0</td>\n",
       "    </tr>\n",
       "    <tr>\n",
       "      <th>43</th>\n",
       "      <td>54</td>\n",
       "      <td>Freeform</td>\n",
       "      <td>One-Shot</td>\n",
       "      <td>False</td>\n",
       "      <td>34893</td>\n",
       "      <td>1125.0</td>\n",
       "    </tr>\n",
       "    <tr>\n",
       "      <th>45</th>\n",
       "      <td>57</td>\n",
       "      <td>Freeform</td>\n",
       "      <td>lustful thoughts</td>\n",
       "      <td>False</td>\n",
       "      <td>11</td>\n",
       "      <td>208540.0</td>\n",
       "    </tr>\n",
       "    <tr>\n",
       "      <th>47</th>\n",
       "      <td>59</td>\n",
       "      <td>Freeform</td>\n",
       "      <td>souffle</td>\n",
       "      <td>False</td>\n",
       "      <td>9</td>\n",
       "      <td>763298.0</td>\n",
       "    </tr>\n",
       "    <tr>\n",
       "      <th>48</th>\n",
       "      <td>60</td>\n",
       "      <td>Freeform</td>\n",
       "      <td>Romance</td>\n",
       "      <td>True</td>\n",
       "      <td>353482</td>\n",
       "      <td>NaN</td>\n",
       "    </tr>\n",
       "  </tbody>\n",
       "</table>\n",
       "</div>"
      ],
      "text/plain": [
       "    id      type              name  canonical  cached_count  merger_id\n",
       "41  50  Freeform           flangst      False          1354   418427.0\n",
       "43  54  Freeform          One-Shot      False         34893     1125.0\n",
       "45  57  Freeform  lustful thoughts      False            11   208540.0\n",
       "47  59  Freeform           souffle      False             9   763298.0\n",
       "48  60  Freeform           Romance       True        353482        NaN"
      ]
     },
     "execution_count": 47,
     "metadata": {},
     "output_type": "execute_result"
    }
   ],
   "source": [
    "freeform.head()"
   ]
  },
  {
   "cell_type": "code",
   "execution_count": 51,
   "id": "fa4f5623",
   "metadata": {},
   "outputs": [
    {
     "data": {
      "text/html": [
       "<div>\n",
       "<style scoped>\n",
       "    .dataframe tbody tr th:only-of-type {\n",
       "        vertical-align: middle;\n",
       "    }\n",
       "\n",
       "    .dataframe tbody tr th {\n",
       "        vertical-align: top;\n",
       "    }\n",
       "\n",
       "    .dataframe thead th {\n",
       "        text-align: right;\n",
       "    }\n",
       "</style>\n",
       "<table border=\"1\" class=\"dataframe\">\n",
       "  <thead>\n",
       "    <tr style=\"text-align: right;\">\n",
       "      <th></th>\n",
       "      <th>id</th>\n",
       "      <th>type</th>\n",
       "      <th>name</th>\n",
       "      <th>canonical</th>\n",
       "      <th>cached_count</th>\n",
       "      <th>merger_id</th>\n",
       "    </tr>\n",
       "  </thead>\n",
       "  <tbody>\n",
       "    <tr>\n",
       "      <th>96</th>\n",
       "      <td>110</td>\n",
       "      <td>Freeform</td>\n",
       "      <td>Fluff</td>\n",
       "      <td>True</td>\n",
       "      <td>1183065</td>\n",
       "      <td>NaN</td>\n",
       "    </tr>\n",
       "    <tr>\n",
       "      <th>158</th>\n",
       "      <td>176</td>\n",
       "      <td>Freeform</td>\n",
       "      <td>Angst</td>\n",
       "      <td>True</td>\n",
       "      <td>813647</td>\n",
       "      <td>NaN</td>\n",
       "    </tr>\n",
       "    <tr>\n",
       "      <th>827</th>\n",
       "      <td>965</td>\n",
       "      <td>Freeform</td>\n",
       "      <td>To Read</td>\n",
       "      <td>True</td>\n",
       "      <td>529014</td>\n",
       "      <td>NaN</td>\n",
       "    </tr>\n",
       "    <tr>\n",
       "      <th>63</th>\n",
       "      <td>76</td>\n",
       "      <td>Freeform</td>\n",
       "      <td>Complete</td>\n",
       "      <td>True</td>\n",
       "      <td>472403</td>\n",
       "      <td>NaN</td>\n",
       "    </tr>\n",
       "    <tr>\n",
       "      <th>1747</th>\n",
       "      <td>2026</td>\n",
       "      <td>Freeform</td>\n",
       "      <td>Smut</td>\n",
       "      <td>True</td>\n",
       "      <td>444264</td>\n",
       "      <td>NaN</td>\n",
       "    </tr>\n",
       "    <tr>\n",
       "      <th>2065</th>\n",
       "      <td>2379</td>\n",
       "      <td>Freeform</td>\n",
       "      <td>Hurt/Comfort</td>\n",
       "      <td>True</td>\n",
       "      <td>415318</td>\n",
       "      <td>NaN</td>\n",
       "    </tr>\n",
       "    <tr>\n",
       "      <th>48</th>\n",
       "      <td>60</td>\n",
       "      <td>Freeform</td>\n",
       "      <td>Romance</td>\n",
       "      <td>True</td>\n",
       "      <td>353482</td>\n",
       "      <td>NaN</td>\n",
       "    </tr>\n",
       "    <tr>\n",
       "      <th>74745</th>\n",
       "      <td>108269</td>\n",
       "      <td>Freeform</td>\n",
       "      <td>Read</td>\n",
       "      <td>True</td>\n",
       "      <td>351016</td>\n",
       "      <td>NaN</td>\n",
       "    </tr>\n",
       "    <tr>\n",
       "      <th>979</th>\n",
       "      <td>1160</td>\n",
       "      <td>Freeform</td>\n",
       "      <td>Established Relationship</td>\n",
       "      <td>True</td>\n",
       "      <td>308719</td>\n",
       "      <td>NaN</td>\n",
       "    </tr>\n",
       "    <tr>\n",
       "      <th>830</th>\n",
       "      <td>968</td>\n",
       "      <td>Freeform</td>\n",
       "      <td>Alternate Universe</td>\n",
       "      <td>True</td>\n",
       "      <td>306633</td>\n",
       "      <td>NaN</td>\n",
       "    </tr>\n",
       "  </tbody>\n",
       "</table>\n",
       "</div>"
      ],
      "text/plain": [
       "           id      type                      name  canonical  cached_count  \\\n",
       "96        110  Freeform                     Fluff       True       1183065   \n",
       "158       176  Freeform                     Angst       True        813647   \n",
       "827       965  Freeform                   To Read       True        529014   \n",
       "63         76  Freeform                  Complete       True        472403   \n",
       "1747     2026  Freeform                      Smut       True        444264   \n",
       "2065     2379  Freeform              Hurt/Comfort       True        415318   \n",
       "48         60  Freeform                   Romance       True        353482   \n",
       "74745  108269  Freeform                      Read       True        351016   \n",
       "979      1160  Freeform  Established Relationship       True        308719   \n",
       "830       968  Freeform        Alternate Universe       True        306633   \n",
       "\n",
       "       merger_id  \n",
       "96           NaN  \n",
       "158          NaN  \n",
       "827          NaN  \n",
       "63           NaN  \n",
       "1747         NaN  \n",
       "2065         NaN  \n",
       "48           NaN  \n",
       "74745        NaN  \n",
       "979          NaN  \n",
       "830          NaN  "
      ]
     },
     "execution_count": 51,
     "metadata": {},
     "output_type": "execute_result"
    }
   ],
   "source": [
    "# return top 10 freeform tags\n",
    "\n",
    "freeform.sort_values(\"cached_count\",ascending=False).head(10)"
   ]
  }
 ],
 "metadata": {
  "kernelspec": {
   "display_name": "Python 3",
   "language": "python",
   "name": "python3"
  },
  "language_info": {
   "codemirror_mode": {
    "name": "ipython",
    "version": 3
   },
   "file_extension": ".py",
   "mimetype": "text/x-python",
   "name": "python",
   "nbconvert_exporter": "python",
   "pygments_lexer": "ipython3",
   "version": "3.8.8"
  }
 },
 "nbformat": 4,
 "nbformat_minor": 5
}
